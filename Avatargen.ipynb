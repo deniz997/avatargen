{
  "nbformat": 4,
  "nbformat_minor": 0,
  "metadata": {
    "colab": {
      "provenance": [],
      "collapsed_sections": [
        "B2hVQNVpTjAc",
        "jUBt5lRHUpyL",
        "fwV2YC_pZ5-9",
        "uNrnG4PCr_3K"
      ],
      "machine_shape": "hm",
      "gpuType": "T4"
    },
    "kernelspec": {
      "name": "python3",
      "display_name": "Python 3"
    },
    "language_info": {
      "name": "python"
    },
    "accelerator": "GPU"
  },
  "cells": [
    {
      "cell_type": "markdown",
      "source": [
        "Usage:\n",
        "Upload any picture into the /content folder and enter its path on the variables below.\n",
        "Then enter the gender as male, female or neutral\n",
        "Then you can just run all cells and it should work."
      ],
      "metadata": {
        "id": "MJieQ3CUoFQL"
      }
    },
    {
      "cell_type": "code",
      "source": [
        "import os\n",
        "\n",
        "image_file_path = '/content/scholz.jpg'\n",
        "person_gender = 'male' # male, female or neutral\n",
        "image_name, image_type = os.path.splitext(os.path.basename(image_file_path))"
      ],
      "metadata": {
        "id": "hRWn1Aeya9FM"
      },
      "execution_count": null,
      "outputs": []
    },
    {
      "cell_type": "markdown",
      "source": [
        "## download needed files from GoogleDrive"
      ],
      "metadata": {
        "id": "CA_dfFSWvxm0"
      }
    },
    {
      "cell_type": "code",
      "source": [
        "!pip install --quiet --upgrade --no-cache-dir gdown"
      ],
      "metadata": {
        "id": "XIEV7tSQre7H"
      },
      "execution_count": null,
      "outputs": []
    },
    {
      "cell_type": "code",
      "source": [
        "!gdown -q --id 10edTLv6kcFZjXbS3tl9yyedW3nvPCtc5"
      ],
      "metadata": {
        "colab": {
          "base_uri": "https://localhost:8080/"
        },
        "id": "dAVMO2Qr1o5O",
        "outputId": "2317a760-858d-4507-9ef4-e3a0c2b2f6af"
      },
      "execution_count": null,
      "outputs": [
        {
          "output_type": "stream",
          "name": "stdout",
          "text": [
            "/usr/local/lib/python3.10/dist-packages/gdown/cli.py:126: FutureWarning: Option `--id` was deprecated in version 4.3.1 and will be removed in 5.0. You don't need to pass it anymore to use a file ID.\n",
            "  warnings.warn(\n"
          ]
        }
      ]
    },
    {
      "cell_type": "code",
      "source": [
        "!unzip -q AvatarGen_Part1\n",
        "!rm AvatarGen_Part1.zip"
      ],
      "metadata": {
        "id": "1Iy9mUwz2w80"
      },
      "execution_count": null,
      "outputs": []
    },
    {
      "cell_type": "code",
      "source": [
        "os.chdir('AvatarGen_Part1')"
      ],
      "metadata": {
        "id": "NKPovsxC3C_m"
      },
      "execution_count": null,
      "outputs": []
    },
    {
      "cell_type": "markdown",
      "source": [
        "## download and import modules"
      ],
      "metadata": {
        "id": "tNFScU_iTx3_"
      }
    },
    {
      "cell_type": "code",
      "source": [
        "!pip install Cython"
      ],
      "metadata": {
        "colab": {
          "base_uri": "https://localhost:8080/"
        },
        "id": "xgS1qH7x9D20",
        "outputId": "b66dd6d5-08f3-4fc3-9573-d9613b0ada2a"
      },
      "execution_count": null,
      "outputs": [
        {
          "output_type": "stream",
          "name": "stdout",
          "text": [
            "Requirement already satisfied: Cython in /usr/local/lib/python3.10/dist-packages (0.29.36)\n"
          ]
        }
      ]
    },
    {
      "cell_type": "code",
      "source": [
        "!pip install fastcore -U"
      ],
      "metadata": {
        "colab": {
          "base_uri": "https://localhost:8080/"
        },
        "id": "is6SPwx0-LgR",
        "outputId": "6ba81634-06b4-4c4e-b773-b7e018d710b8"
      },
      "execution_count": null,
      "outputs": [
        {
          "output_type": "stream",
          "name": "stdout",
          "text": [
            "Requirement already satisfied: fastcore in /usr/local/lib/python3.10/dist-packages (1.5.29)\n",
            "Requirement already satisfied: pip in /usr/local/lib/python3.10/dist-packages (from fastcore) (23.1.2)\n",
            "Requirement already satisfied: packaging in /usr/local/lib/python3.10/dist-packages (from fastcore) (23.1)\n"
          ]
        }
      ]
    },
    {
      "cell_type": "code",
      "source": [
        "!pip install -q --no-cache-dir lpips Ninja open3d==0.16 smplx yacs flatten_dict pytorch-lightning chumpy trimesh rtree paddlepaddle"
      ],
      "metadata": {
        "colab": {
          "base_uri": "https://localhost:8080/"
        },
        "id": "a-g7RVdwTxVa",
        "outputId": "faf72453-76d0-416a-ebff-0f45c4dea860",
        "collapsed": true
      },
      "execution_count": null,
      "outputs": [
        {
          "output_type": "stream",
          "name": "stdout",
          "text": [
            "\u001b[?25l     \u001b[90m━━━━━━━━━━━━━━━━━━━━━━━━━━━━━━━━━━━━━━━━\u001b[0m \u001b[32m0.0/53.8 kB\u001b[0m \u001b[31m?\u001b[0m eta \u001b[36m-:--:--\u001b[0m\r\u001b[2K     \u001b[90m━━━━━━━━━━━━━━━━━━━━━━━━━━━━━━━━━━━━━━━━\u001b[0m \u001b[32m53.8/53.8 kB\u001b[0m \u001b[31m2.2 MB/s\u001b[0m eta \u001b[36m0:00:00\u001b[0m\n",
            "\u001b[2K     \u001b[90m━━━━━━━━━━━━━━━━━━━━━━━━━━━━━━━━━━━━━━\u001b[0m \u001b[32m146.0/146.0 kB\u001b[0m \u001b[31m14.0 MB/s\u001b[0m eta \u001b[36m0:00:00\u001b[0m\n",
            "\u001b[2K     \u001b[90m━━━━━━━━━━━━━━━━━━━━━━━━━━━━━━━━━━━━━━━\u001b[0m \u001b[32m422.5/422.5 MB\u001b[0m \u001b[31m9.4 MB/s\u001b[0m eta \u001b[36m0:00:00\u001b[0m\n",
            "\u001b[2K     \u001b[90m━━━━━━━━━━━━━━━━━━━━━━━━━━━━━━━━━━━━━\u001b[0m \u001b[32m722.8/722.8 kB\u001b[0m \u001b[31m228.5 MB/s\u001b[0m eta \u001b[36m0:00:00\u001b[0m\n",
            "\u001b[2K     \u001b[90m━━━━━━━━━━━━━━━━━━━━━━━━━━━━━━━━━━━━━━━\u001b[0m \u001b[32m50.6/50.6 kB\u001b[0m \u001b[31m271.3 MB/s\u001b[0m eta \u001b[36m0:00:00\u001b[0m\n",
            "\u001b[?25h  Preparing metadata (setup.py) ... \u001b[?25l\u001b[?25hdone\n",
            "\u001b[2K     \u001b[90m━━━━━━━━━━━━━━━━━━━━━━━━━━━━━━━━━━━━━\u001b[0m \u001b[32m686.3/686.3 kB\u001b[0m \u001b[31m225.5 MB/s\u001b[0m eta \u001b[36m0:00:00\u001b[0m\n",
            "\u001b[2K     \u001b[90m━━━━━━━━━━━━━━━━━━━━━━━━━━━━━━━━━━━━━━━━\u001b[0m \u001b[32m1.0/1.0 MB\u001b[0m \u001b[31m386.1 MB/s\u001b[0m eta \u001b[36m0:00:00\u001b[0m\n",
            "\u001b[2K     \u001b[90m━━━━━━━━━━━━━━━━━━━━━━━━━━━━━━━━━━━━━\u001b[0m \u001b[32m124.9/124.9 MB\u001b[0m \u001b[31m172.9 MB/s\u001b[0m eta \u001b[36m0:00:00\u001b[0m\n",
            "\u001b[2K     \u001b[90m━━━━━━━━━━━━━━━━━━━━━━━━━━━━━━━━━━━━━━━\u001b[0m \u001b[32m10.4/10.4 MB\u001b[0m \u001b[31m155.3 MB/s\u001b[0m eta \u001b[36m0:00:00\u001b[0m\n",
            "\u001b[2K     \u001b[90m━━━━━━━━━━━━━━━━━━━━━━━━━━━━━━━━━━━━━━━\u001b[0m \u001b[32m75.3/75.3 kB\u001b[0m \u001b[31m265.8 MB/s\u001b[0m eta \u001b[36m0:00:00\u001b[0m\n",
            "\u001b[2K     \u001b[90m━━━━━━━━━━━━━━━━━━━━━━━━━━━━━━━━━━━━━\u001b[0m \u001b[32m731.6/731.6 kB\u001b[0m \u001b[31m308.0 MB/s\u001b[0m eta \u001b[36m0:00:00\u001b[0m\n",
            "\u001b[2K     \u001b[90m━━━━━━━━━━━━━━━━━━━━━━━━━━━━━━━━━━━━━━━\u001b[0m \u001b[32m75.4/75.4 kB\u001b[0m \u001b[31m265.0 MB/s\u001b[0m eta \u001b[36m0:00:00\u001b[0m\n",
            "\u001b[2K     \u001b[90m━━━━━━━━━━━━━━━━━━━━━━━━━━━━━━━━━━━━━\u001b[0m \u001b[32m383.2/383.2 kB\u001b[0m \u001b[31m196.5 MB/s\u001b[0m eta \u001b[36m0:00:00\u001b[0m\n",
            "\u001b[2K     \u001b[90m━━━━━━━━━━━━━━━━━━━━━━━━━━━━━━━━━━━━━\u001b[0m \u001b[32m233.6/233.6 kB\u001b[0m \u001b[31m213.8 MB/s\u001b[0m eta \u001b[36m0:00:00\u001b[0m\n",
            "\u001b[2K     \u001b[90m━━━━━━━━━━━━━━━━━━━━━━━━━━━━━━━━━━━━━━━\u001b[0m \u001b[32m74.5/74.5 kB\u001b[0m \u001b[31m195.7 MB/s\u001b[0m eta \u001b[36m0:00:00\u001b[0m\n",
            "\u001b[2K     \u001b[90m━━━━━━━━━━━━━━━━━━━━━━━━━━━━━━━━━━━━━━━\u001b[0m \u001b[32m58.3/58.3 kB\u001b[0m \u001b[31m182.2 MB/s\u001b[0m eta \u001b[36m0:00:00\u001b[0m\n",
            "\u001b[2K     \u001b[90m━━━━━━━━━━━━━━━━━━━━━━━━━━━━━━━━━━━━━━━━\u001b[0m \u001b[32m1.6/1.6 MB\u001b[0m \u001b[31m387.9 MB/s\u001b[0m eta \u001b[36m0:00:00\u001b[0m\n",
            "\u001b[?25h  Building wheel for chumpy (setup.py) ... \u001b[?25l\u001b[?25hdone\n"
          ]
        }
      ]
    },
    {
      "cell_type": "code",
      "source": [
        "!git clone https://github.com/royorel/StyleSDF.git\n",
        "%cd StyleSDF\n",
        "!pip install -r requirements.txt\n",
        "!python download_models.py\n",
        "%cd .."
      ],
      "metadata": {
        "id": "-vVmLMRLRdMv",
        "colab": {
          "base_uri": "https://localhost:8080/"
        },
        "outputId": "131fa55a-273a-4672-97d1-17517cc9f13c",
        "collapsed": true
      },
      "execution_count": null,
      "outputs": [
        {
          "output_type": "stream",
          "name": "stdout",
          "text": [
            "Cloning into 'StyleSDF'...\n",
            "remote: Enumerating objects: 120, done.\u001b[K\n",
            "remote: Counting objects: 100% (120/120), done.\u001b[K\n",
            "remote: Compressing objects: 100% (80/80), done.\u001b[K\n",
            "remote: Total 120 (delta 58), reused 93 (delta 39), pack-reused 0\u001b[K\n",
            "Receiving objects: 100% (120/120), 3.02 MiB | 23.58 MiB/s, done.\n",
            "Resolving deltas: 100% (58/58), done.\n",
            "/content/StyleSDF\n",
            "Collecting lmdb (from -r requirements.txt (line 1))\n",
            "  Downloading lmdb-1.4.1-cp310-cp310-manylinux_2_17_x86_64.manylinux2014_x86_64.whl (299 kB)\n",
            "\u001b[2K     \u001b[90m━━━━━━━━━━━━━━━━━━━━━━━━━━━━━━━━━━━━━━━\u001b[0m \u001b[32m299.2/299.2 kB\u001b[0m \u001b[31m4.9 MB/s\u001b[0m eta \u001b[36m0:00:00\u001b[0m\n",
            "\u001b[?25hRequirement already satisfied: numpy in /usr/local/lib/python3.10/dist-packages (from -r requirements.txt (line 2)) (1.23.5)\n",
            "Collecting ninja (from -r requirements.txt (line 3))\n",
            "  Downloading ninja-1.11.1-py2.py3-none-manylinux_2_12_x86_64.manylinux2010_x86_64.whl (145 kB)\n",
            "\u001b[2K     \u001b[90m━━━━━━━━━━━━━━━━━━━━━━━━━━━━━━━━━━━━━━\u001b[0m \u001b[32m146.0/146.0 kB\u001b[0m \u001b[31m16.6 MB/s\u001b[0m eta \u001b[36m0:00:00\u001b[0m\n",
            "\u001b[?25hRequirement already satisfied: pillow in /usr/local/lib/python3.10/dist-packages (from -r requirements.txt (line 4)) (9.4.0)\n",
            "Requirement already satisfied: requests in /usr/local/lib/python3.10/dist-packages (from -r requirements.txt (line 5)) (2.31.0)\n",
            "Requirement already satisfied: tqdm in /usr/local/lib/python3.10/dist-packages (from -r requirements.txt (line 6)) (4.66.0)\n",
            "Requirement already satisfied: scipy in /usr/local/lib/python3.10/dist-packages (from -r requirements.txt (line 7)) (1.10.1)\n",
            "Requirement already satisfied: scikit-image in /usr/local/lib/python3.10/dist-packages (from -r requirements.txt (line 8)) (0.19.3)\n",
            "Collecting scikit-video (from -r requirements.txt (line 9))\n",
            "  Downloading scikit_video-1.1.11-py2.py3-none-any.whl (2.3 MB)\n",
            "\u001b[2K     \u001b[90m━━━━━━━━━━━━━━━━━━━━━━━━━━━━━━━━━━━━━━━━\u001b[0m \u001b[32m2.3/2.3 MB\u001b[0m \u001b[31m46.2 MB/s\u001b[0m eta \u001b[36m0:00:00\u001b[0m\n",
            "\u001b[?25hCollecting trimesh[easy] (from -r requirements.txt (line 10))\n",
            "  Downloading trimesh-3.23.1-py3-none-any.whl (686 kB)\n",
            "\u001b[2K     \u001b[90m━━━━━━━━━━━━━━━━━━━━━━━━━━━━━━━━━━━━━━\u001b[0m \u001b[32m686.3/686.3 kB\u001b[0m \u001b[31m50.1 MB/s\u001b[0m eta \u001b[36m0:00:00\u001b[0m\n",
            "\u001b[?25hCollecting configargparse (from -r requirements.txt (line 11))\n",
            "  Downloading ConfigArgParse-1.7-py3-none-any.whl (25 kB)\n",
            "Collecting munch (from -r requirements.txt (line 12))\n",
            "  Downloading munch-4.0.0-py2.py3-none-any.whl (9.9 kB)\n",
            "Collecting wandb (from -r requirements.txt (line 13))\n",
            "  Downloading wandb-0.15.8-py3-none-any.whl (2.1 MB)\n",
            "\u001b[2K     \u001b[90m━━━━━━━━━━━━━━━━━━━━━━━━━━━━━━━━━━━━━━━━\u001b[0m \u001b[32m2.1/2.1 MB\u001b[0m \u001b[31m70.2 MB/s\u001b[0m eta \u001b[36m0:00:00\u001b[0m\n",
            "\u001b[?25hRequirement already satisfied: charset-normalizer<4,>=2 in /usr/local/lib/python3.10/dist-packages (from requests->-r requirements.txt (line 5)) (3.2.0)\n",
            "Requirement already satisfied: idna<4,>=2.5 in /usr/local/lib/python3.10/dist-packages (from requests->-r requirements.txt (line 5)) (3.4)\n",
            "Requirement already satisfied: urllib3<3,>=1.21.1 in /usr/local/lib/python3.10/dist-packages (from requests->-r requirements.txt (line 5)) (2.0.4)\n",
            "Requirement already satisfied: certifi>=2017.4.17 in /usr/local/lib/python3.10/dist-packages (from requests->-r requirements.txt (line 5)) (2023.7.22)\n",
            "Requirement already satisfied: networkx>=2.2 in /usr/local/lib/python3.10/dist-packages (from scikit-image->-r requirements.txt (line 8)) (3.1)\n",
            "Requirement already satisfied: imageio>=2.4.1 in /usr/local/lib/python3.10/dist-packages (from scikit-image->-r requirements.txt (line 8)) (2.31.1)\n",
            "Requirement already satisfied: tifffile>=2019.7.26 in /usr/local/lib/python3.10/dist-packages (from scikit-image->-r requirements.txt (line 8)) (2023.7.18)\n",
            "Requirement already satisfied: PyWavelets>=1.1.1 in /usr/local/lib/python3.10/dist-packages (from scikit-image->-r requirements.txt (line 8)) (1.4.1)\n",
            "Requirement already satisfied: packaging>=20.0 in /usr/local/lib/python3.10/dist-packages (from scikit-image->-r requirements.txt (line 8)) (23.1)\n",
            "Collecting rtree (from trimesh[easy]->-r requirements.txt (line 10))\n",
            "  Downloading Rtree-1.0.1-cp310-cp310-manylinux_2_17_x86_64.manylinux2014_x86_64.whl (1.0 MB)\n",
            "\u001b[2K     \u001b[90m━━━━━━━━━━━━━━━━━━━━━━━━━━━━━━━━━━━━━━━━\u001b[0m \u001b[32m1.0/1.0 MB\u001b[0m \u001b[31m61.9 MB/s\u001b[0m eta \u001b[36m0:00:00\u001b[0m\n",
            "\u001b[?25hCollecting xxhash (from trimesh[easy]->-r requirements.txt (line 10))\n",
            "  Downloading xxhash-3.3.0-cp310-cp310-manylinux_2_17_x86_64.manylinux2014_x86_64.whl (194 kB)\n",
            "\u001b[2K     \u001b[90m━━━━━━━━━━━━━━━━━━━━━━━━━━━━━━━━━━━━━━\u001b[0m \u001b[32m194.1/194.1 kB\u001b[0m \u001b[31m19.2 MB/s\u001b[0m eta \u001b[36m0:00:00\u001b[0m\n",
            "\u001b[?25hRequirement already satisfied: setuptools in /usr/local/lib/python3.10/dist-packages (from trimesh[easy]->-r requirements.txt (line 10)) (67.7.2)\n",
            "Collecting pycollada (from trimesh[easy]->-r requirements.txt (line 10))\n",
            "  Downloading pycollada-0.7.2.tar.gz (107 kB)\n",
            "\u001b[2K     \u001b[90m━━━━━━━━━━━━━━━━━━━━━━━━━━━━━━━━━━━━━━\u001b[0m \u001b[32m107.6/107.6 kB\u001b[0m \u001b[31m12.3 MB/s\u001b[0m eta \u001b[36m0:00:00\u001b[0m\n",
            "\u001b[?25h  Preparing metadata (setup.py) ... \u001b[?25l\u001b[?25hdone\n",
            "Requirement already satisfied: jsonschema in /usr/local/lib/python3.10/dist-packages (from trimesh[easy]->-r requirements.txt (line 10)) (4.19.0)\n",
            "Collecting colorlog (from trimesh[easy]->-r requirements.txt (line 10))\n",
            "  Downloading colorlog-6.7.0-py2.py3-none-any.whl (11 kB)\n",
            "Collecting svg.path (from trimesh[easy]->-r requirements.txt (line 10))\n",
            "  Downloading svg.path-6.3-py2.py3-none-any.whl (16 kB)\n",
            "Requirement already satisfied: chardet in /usr/local/lib/python3.10/dist-packages (from trimesh[easy]->-r requirements.txt (line 10)) (4.0.0)\n",
            "Requirement already satisfied: shapely in /usr/local/lib/python3.10/dist-packages (from trimesh[easy]->-r requirements.txt (line 10)) (2.0.1)\n",
            "Collecting embreex (from trimesh[easy]->-r requirements.txt (line 10))\n",
            "  Downloading embreex-2.17.7.post1-cp310-cp310-manylinux_2_28_x86_64.whl (17.0 MB)\n",
            "\u001b[2K     \u001b[90m━━━━━━━━━━━━━━━━━━━━━━━━━━━━━━━━━━━━━━━━\u001b[0m \u001b[32m17.0/17.0 MB\u001b[0m \u001b[31m12.4 MB/s\u001b[0m eta \u001b[36m0:00:00\u001b[0m\n",
            "\u001b[?25hRequirement already satisfied: sympy in /usr/local/lib/python3.10/dist-packages (from trimesh[easy]->-r requirements.txt (line 10)) (1.12)\n",
            "Requirement already satisfied: lxml in /usr/local/lib/python3.10/dist-packages (from trimesh[easy]->-r requirements.txt (line 10)) (4.9.3)\n",
            "Collecting mapbox-earcut (from trimesh[easy]->-r requirements.txt (line 10))\n",
            "  Downloading mapbox_earcut-1.0.1-cp310-cp310-manylinux_2_17_x86_64.manylinux2014_x86_64.whl (104 kB)\n",
            "\u001b[2K     \u001b[90m━━━━━━━━━━━━━━━━━━━━━━━━━━━━━━━━━━━━━━\u001b[0m \u001b[32m104.9/104.9 kB\u001b[0m \u001b[31m11.0 MB/s\u001b[0m eta \u001b[36m0:00:00\u001b[0m\n",
            "\u001b[?25hRequirement already satisfied: Click!=8.0.0,>=7.1 in /usr/local/lib/python3.10/dist-packages (from wandb->-r requirements.txt (line 13)) (8.1.6)\n",
            "Collecting GitPython!=3.1.29,>=1.0.0 (from wandb->-r requirements.txt (line 13))\n",
            "  Downloading GitPython-3.1.32-py3-none-any.whl (188 kB)\n",
            "\u001b[2K     \u001b[90m━━━━━━━━━━━━━━━━━━━━━━━━━━━━━━━━━━━━━━\u001b[0m \u001b[32m188.5/188.5 kB\u001b[0m \u001b[31m18.1 MB/s\u001b[0m eta \u001b[36m0:00:00\u001b[0m\n",
            "\u001b[?25hRequirement already satisfied: psutil>=5.0.0 in /usr/local/lib/python3.10/dist-packages (from wandb->-r requirements.txt (line 13)) (5.9.5)\n",
            "Collecting sentry-sdk>=1.0.0 (from wandb->-r requirements.txt (line 13))\n",
            "  Downloading sentry_sdk-1.29.2-py2.py3-none-any.whl (215 kB)\n",
            "\u001b[2K     \u001b[90m━━━━━━━━━━━━━━━━━━━━━━━━━━━━━━━━━━━━━━\u001b[0m \u001b[32m215.6/215.6 kB\u001b[0m \u001b[31m19.2 MB/s\u001b[0m eta \u001b[36m0:00:00\u001b[0m\n",
            "\u001b[?25hCollecting docker-pycreds>=0.4.0 (from wandb->-r requirements.txt (line 13))\n",
            "  Downloading docker_pycreds-0.4.0-py2.py3-none-any.whl (9.0 kB)\n",
            "Requirement already satisfied: PyYAML in /usr/local/lib/python3.10/dist-packages (from wandb->-r requirements.txt (line 13)) (6.0.1)\n",
            "Collecting pathtools (from wandb->-r requirements.txt (line 13))\n",
            "  Downloading pathtools-0.1.2.tar.gz (11 kB)\n",
            "  Preparing metadata (setup.py) ... \u001b[?25l\u001b[?25hdone\n",
            "Collecting setproctitle (from wandb->-r requirements.txt (line 13))\n",
            "  Downloading setproctitle-1.3.2-cp310-cp310-manylinux_2_5_x86_64.manylinux1_x86_64.manylinux_2_17_x86_64.manylinux2014_x86_64.whl (30 kB)\n",
            "Requirement already satisfied: appdirs>=1.4.3 in /usr/local/lib/python3.10/dist-packages (from wandb->-r requirements.txt (line 13)) (1.4.4)\n",
            "Requirement already satisfied: protobuf!=4.21.0,<5,>=3.19.0 in /usr/local/lib/python3.10/dist-packages (from wandb->-r requirements.txt (line 13)) (3.20.3)\n",
            "Requirement already satisfied: six>=1.4.0 in /usr/local/lib/python3.10/dist-packages (from docker-pycreds>=0.4.0->wandb->-r requirements.txt (line 13)) (1.16.0)\n",
            "Collecting gitdb<5,>=4.0.1 (from GitPython!=3.1.29,>=1.0.0->wandb->-r requirements.txt (line 13))\n",
            "  Downloading gitdb-4.0.10-py3-none-any.whl (62 kB)\n",
            "\u001b[2K     \u001b[90m━━━━━━━━━━━━━━━━━━━━━━━━━━━━━━━━━━━━━━━━\u001b[0m \u001b[32m62.7/62.7 kB\u001b[0m \u001b[31m5.9 MB/s\u001b[0m eta \u001b[36m0:00:00\u001b[0m\n",
            "\u001b[?25hRequirement already satisfied: attrs>=22.2.0 in /usr/local/lib/python3.10/dist-packages (from jsonschema->trimesh[easy]->-r requirements.txt (line 10)) (23.1.0)\n",
            "Requirement already satisfied: jsonschema-specifications>=2023.03.6 in /usr/local/lib/python3.10/dist-packages (from jsonschema->trimesh[easy]->-r requirements.txt (line 10)) (2023.7.1)\n",
            "Requirement already satisfied: referencing>=0.28.4 in /usr/local/lib/python3.10/dist-packages (from jsonschema->trimesh[easy]->-r requirements.txt (line 10)) (0.30.2)\n",
            "Requirement already satisfied: rpds-py>=0.7.1 in /usr/local/lib/python3.10/dist-packages (from jsonschema->trimesh[easy]->-r requirements.txt (line 10)) (0.9.2)\n",
            "Requirement already satisfied: python-dateutil>=2.2 in /usr/local/lib/python3.10/dist-packages (from pycollada->trimesh[easy]->-r requirements.txt (line 10)) (2.8.2)\n",
            "Requirement already satisfied: mpmath>=0.19 in /usr/local/lib/python3.10/dist-packages (from sympy->trimesh[easy]->-r requirements.txt (line 10)) (1.3.0)\n",
            "Collecting smmap<6,>=3.0.1 (from gitdb<5,>=4.0.1->GitPython!=3.1.29,>=1.0.0->wandb->-r requirements.txt (line 13))\n",
            "  Downloading smmap-5.0.0-py3-none-any.whl (24 kB)\n",
            "Building wheels for collected packages: pathtools, pycollada\n",
            "  Building wheel for pathtools (setup.py) ... \u001b[?25l\u001b[?25hdone\n",
            "  Created wheel for pathtools: filename=pathtools-0.1.2-py3-none-any.whl size=8791 sha256=e4a566bbcdd08066c71982ef27ef5cf7799ad1745c2e4f4585b242134b1b1007\n",
            "  Stored in directory: /root/.cache/pip/wheels/e7/f3/22/152153d6eb222ee7a56ff8617d80ee5207207a8c00a7aab794\n",
            "  Building wheel for pycollada (setup.py) ... \u001b[?25l\u001b[?25hdone\n",
            "  Created wheel for pycollada: filename=pycollada-0.7.2-py3-none-any.whl size=127016 sha256=1e81dd97ff49fed82390334c8fe13ff19cbb6ba7bcae585c50189ee3f102a9a3\n",
            "  Stored in directory: /root/.cache/pip/wheels/d5/ba/33/1e99a7e7defd1d77f0210e7a39ff58de2a2d8d4c22466bb2da\n",
            "Successfully built pathtools pycollada\n",
            "Installing collected packages: pathtools, ninja, lmdb, xxhash, trimesh, svg.path, smmap, setproctitle, sentry-sdk, rtree, munch, mapbox-earcut, embreex, docker-pycreds, configargparse, colorlog, scikit-video, pycollada, gitdb, GitPython, wandb\n",
            "Successfully installed GitPython-3.1.32 colorlog-6.7.0 configargparse-1.7 docker-pycreds-0.4.0 embreex-2.17.7.post1 gitdb-4.0.10 lmdb-1.4.1 mapbox-earcut-1.0.1 munch-4.0.0 ninja-1.11.1 pathtools-0.1.2 pycollada-0.7.2 rtree-1.0.1 scikit-video-1.1.11 sentry-sdk-1.29.2 setproctitle-1.3.2 smmap-5.0.0 svg.path-6.3 trimesh-3.23.1 wandb-0.15.8 xxhash-3.3.0\n",
            "Downloading sphere initialized volume renderer\n",
            "100% 63.7M/63.7M [00:01<00:00, 37.2MB/s]\n",
            "Downloading FFHQ pretrained volume renderer\n",
            "100% 63.7M/63.7M [00:01<00:00, 51.3MB/s]\n",
            "Downloading FFHQ full model (1024x1024)\n",
            "100% 203M/203M [00:02<00:00, 80.2MB/s]\n",
            "Done!\n",
            "Downloading AFHQ pretrained volume renderer\n",
            "100% 63.7M/63.7M [00:01<00:00, 54.1MB/s]\n",
            "Done!\n",
            "Downloading Downloading AFHQ full model (512x512)\n",
            "100% 185M/185M [00:02<00:00, 88.4MB/s]\n",
            "Done!\n",
            "/content\n"
          ]
        }
      ]
    },
    {
      "cell_type": "markdown",
      "source": [
        "If this due to whatever resaon breaks, just run it again. If it still not working restart the runtime and try again.\n",
        "\n",
        "If this is also not working, for me it works when I close the tab and restart google colab fully\n",
        "\n",
        "---\n",
        "\n"
      ],
      "metadata": {
        "id": "Yoc2Sj1Y2hqU"
      }
    },
    {
      "cell_type": "code",
      "source": [
        "!pip install --no-cache-dir sklearn"
      ],
      "metadata": {
        "id": "VGTei-sG1AbN",
        "colab": {
          "base_uri": "https://localhost:8080/"
        },
        "outputId": "f97d7278-27be-4976-ae19-9a777dc5e52e"
      },
      "execution_count": null,
      "outputs": [
        {
          "output_type": "stream",
          "name": "stdout",
          "text": [
            "Collecting sklearn\n",
            "  Downloading sklearn-0.0.post7.tar.gz (3.6 kB)\n",
            "  Preparing metadata (setup.py) ... \u001b[?25l\u001b[?25hdone\n",
            "Building wheels for collected packages: sklearn\n",
            "  Building wheel for sklearn (setup.py) ... \u001b[?25l\u001b[?25hdone\n",
            "  Created wheel for sklearn: filename=sklearn-0.0.post7-py3-none-any.whl size=2951 sha256=f233a451e670a1b59341c056c8648c0a8c210c332b33c9f5c610236aea3db166\n",
            "  Stored in directory: /tmp/pip-ephem-wheel-cache-96omw_p0/wheels/c8/9c/85/72901eb50bc4bc6e3b2629378d172384ea3dfd19759c77fd2c\n",
            "Successfully built sklearn\n",
            "Installing collected packages: sklearn\n",
            "Successfully installed sklearn-0.0.post7\n"
          ]
        }
      ]
    },
    {
      "cell_type": "code",
      "source": [
        "!pip install -q paddleseg==2.5"
      ],
      "metadata": {
        "colab": {
          "base_uri": "https://localhost:8080/"
        },
        "id": "o9CY2spm94HK",
        "outputId": "d6a259d3-4a2d-4ac8-9610-9970f4175b8e"
      },
      "execution_count": null,
      "outputs": [
        {
          "output_type": "stream",
          "name": "stdout",
          "text": [
            "\u001b[2K     \u001b[90m━━━━━━━━━━━━━━━━━━━━━━━━━━━━━━━━━━━━━━━\u001b[0m \u001b[32m295.9/295.9 kB\u001b[0m \u001b[31m4.3 MB/s\u001b[0m eta \u001b[36m0:00:00\u001b[0m\n",
            "\u001b[2K     \u001b[90m━━━━━━━━━━━━━━━━━━━━━━━━━━━━━━━━━━━━━━━━\u001b[0m \u001b[32m6.3/6.3 MB\u001b[0m \u001b[31m98.4 MB/s\u001b[0m eta \u001b[36m0:00:00\u001b[0m\n",
            "\u001b[2K     \u001b[90m━━━━━━━━━━━━━━━━━━━━━━━━━━━━━━━━━━━━━━\u001b[0m \u001b[32m231.3/231.3 kB\u001b[0m \u001b[31m26.6 MB/s\u001b[0m eta \u001b[36m0:00:00\u001b[0m\n",
            "\u001b[2K     \u001b[90m━━━━━━━━━━━━━━━━━━━━━━━━━━━━━━━━━━━━━━━━\u001b[0m \u001b[32m2.1/2.1 MB\u001b[0m \u001b[31m91.4 MB/s\u001b[0m eta \u001b[36m0:00:00\u001b[0m\n",
            "\u001b[?25h"
          ]
        }
      ]
    },
    {
      "cell_type": "code",
      "source": [
        "!pip install https://github.com/podgorskiy/dnnlib/releases/download/0.0.1/dnnlib-0.0.1-py3-none-any.whl"
      ],
      "metadata": {
        "colab": {
          "base_uri": "https://localhost:8080/"
        },
        "id": "NMpCD3oUcrDn",
        "outputId": "a0f7e35c-b983-4d56-877f-c42a5af28bff"
      },
      "execution_count": null,
      "outputs": [
        {
          "output_type": "stream",
          "name": "stdout",
          "text": [
            "Collecting dnnlib==0.0.1\n",
            "  Downloading https://github.com/podgorskiy/dnnlib/releases/download/0.0.1/dnnlib-0.0.1-py3-none-any.whl (37 kB)\n",
            "Installing collected packages: dnnlib\n",
            "Successfully installed dnnlib-0.0.1\n"
          ]
        }
      ]
    },
    {
      "cell_type": "code",
      "source": [
        "!pip install git+https://github.com/mkocabas/yolov3-pytorch.git"
      ],
      "metadata": {
        "colab": {
          "base_uri": "https://localhost:8080/"
        },
        "id": "EBbxjOFml8zc",
        "outputId": "93adcd70-0da7-45c2-9aec-857d290ae53e"
      },
      "execution_count": null,
      "outputs": [
        {
          "output_type": "stream",
          "name": "stdout",
          "text": [
            "Collecting git+https://github.com/mkocabas/yolov3-pytorch.git\n",
            "  Cloning https://github.com/mkocabas/yolov3-pytorch.git to /tmp/pip-req-build-r4ac1cco\n",
            "  Running command git clone --filter=blob:none --quiet https://github.com/mkocabas/yolov3-pytorch.git /tmp/pip-req-build-r4ac1cco\n",
            "  Resolved https://github.com/mkocabas/yolov3-pytorch.git to commit d7192c9f6cec43f7db4bd91186b2c0401eafd5a6\n",
            "  Preparing metadata (setup.py) ... \u001b[?25l\u001b[?25hdone\n",
            "Building wheels for collected packages: yolov3\n",
            "  Building wheel for yolov3 (setup.py) ... \u001b[?25l\u001b[?25hdone\n",
            "  Created wheel for yolov3: filename=yolov3-0.1-py3-none-any.whl size=25798 sha256=7e9fc59da9ca39ee4958b0ce5e049d48728de95fe5e667366936a63428a3878a\n",
            "  Stored in directory: /tmp/pip-ephem-wheel-cache-nsgbd7se/wheels/23/ab/7b/4235cf15b1a754dc81deb34b968ed01c27da7807b36c3d1dec\n",
            "Successfully built yolov3\n",
            "Installing collected packages: yolov3\n",
            "Successfully installed yolov3-0.1\n"
          ]
        }
      ]
    },
    {
      "cell_type": "code",
      "source": [
        "import sys\n",
        "import torch\n",
        "pyt_version_str=torch.__version__.split(\"+\")[0].replace(\".\", \"\")\n",
        "version_str=\"\".join([\n",
        "    f\"py3{sys.version_info.minor}_cu\",\n",
        "    torch.version.cuda.replace(\".\",\"\"),\n",
        "    f\"_pyt{pyt_version_str}\"\n",
        "])\n",
        "!pip install -q fvcore iopath\n",
        "!pip install -q --no-index --no-cache-dir pytorch3d -f https://dl.fbaipublicfiles.com/pytorch3d/packaging/wheels/{version_str}/download.html"
      ],
      "metadata": {
        "colab": {
          "base_uri": "https://localhost:8080/"
        },
        "id": "x2ikAUfZcx8H",
        "outputId": "e0cb007a-9c6e-4820-a83c-2364c73effef"
      },
      "execution_count": null,
      "outputs": [
        {
          "output_type": "stream",
          "name": "stdout",
          "text": [
            "\u001b[2K     \u001b[90m━━━━━━━━━━━━━━━━━━━━━━━━━━━━━━━━━━━━━━━━\u001b[0m \u001b[32m50.2/50.2 kB\u001b[0m \u001b[31m1.4 MB/s\u001b[0m eta \u001b[36m0:00:00\u001b[0m\n",
            "\u001b[?25h  Preparing metadata (setup.py) ... \u001b[?25l\u001b[?25hdone\n",
            "\u001b[2K     \u001b[90m━━━━━━━━━━━━━━━━━━━━━━━━━━━━━━━━━━━━━━━━\u001b[0m \u001b[32m42.2/42.2 kB\u001b[0m \u001b[31m5.6 MB/s\u001b[0m eta \u001b[36m0:00:00\u001b[0m\n",
            "\u001b[?25h  Preparing metadata (setup.py) ... \u001b[?25l\u001b[?25hdone\n",
            "  Building wheel for fvcore (setup.py) ... \u001b[?25l\u001b[?25hdone\n",
            "  Building wheel for iopath (setup.py) ... \u001b[?25l\u001b[?25hdone\n",
            "\u001b[2K     \u001b[90m━━━━━━━━━━━━━━━━━━━━━━━━━━━━━━━━━━━━━━━\u001b[0m \u001b[32m20.1/20.1 MB\u001b[0m \u001b[31m213.0 MB/s\u001b[0m eta \u001b[36m0:00:00\u001b[0m\n",
            "\u001b[?25h"
          ]
        }
      ]
    },
    {
      "cell_type": "code",
      "source": [
        "!wget http://nz2.archive.ubuntu.com/ubuntu/pool/main/o/openssl/libssl1.1_1.1.1f-1ubuntu2.19_amd64.deb\n",
        "\n",
        "!dpkg -i libssl1.1_1.1.1f-1ubuntu2.19_amd64.deb"
      ],
      "metadata": {
        "id": "wTiLnIi2SX0P",
        "colab": {
          "base_uri": "https://localhost:8080/"
        },
        "outputId": "c32ca73a-ab0e-49f2-ee97-0482027851f9"
      },
      "execution_count": null,
      "outputs": [
        {
          "output_type": "stream",
          "name": "stdout",
          "text": [
            "--2023-08-14 20:21:25--  http://nz2.archive.ubuntu.com/ubuntu/pool/main/o/openssl/libssl1.1_1.1.1f-1ubuntu2.19_amd64.deb\n",
            "Resolving nz2.archive.ubuntu.com (nz2.archive.ubuntu.com)... 91.189.91.83, 185.125.190.39, 91.189.91.82, ...\n",
            "Connecting to nz2.archive.ubuntu.com (nz2.archive.ubuntu.com)|91.189.91.83|:80... connected.\n",
            "HTTP request sent, awaiting response... 200 OK\n",
            "Length: 1321244 (1.3M) [application/vnd.debian.binary-package]\n",
            "Saving to: ‘libssl1.1_1.1.1f-1ubuntu2.19_amd64.deb’\n",
            "\n",
            "libssl1.1_1.1.1f-1u 100%[===================>]   1.26M   835KB/s    in 1.5s    \n",
            "\n",
            "2023-08-14 20:21:27 (835 KB/s) - ‘libssl1.1_1.1.1f-1ubuntu2.19_amd64.deb’ saved [1321244/1321244]\n",
            "\n",
            "Selecting previously unselected package libssl1.1:amd64.\n",
            "(Reading database ... 120828 files and directories currently installed.)\n",
            "Preparing to unpack libssl1.1_1.1.1f-1ubuntu2.19_amd64.deb ...\n",
            "Unpacking libssl1.1:amd64 (1.1.1f-1ubuntu2.19) ...\n",
            "Setting up libssl1.1:amd64 (1.1.1f-1ubuntu2.19) ...\n",
            "Processing triggers for libc-bin (2.35-0ubuntu3.1) ...\n",
            "/sbin/ldconfig.real: /usr/local/lib/libtbbbind_2_5.so.3 is not a symbolic link\n",
            "\n",
            "/sbin/ldconfig.real: /usr/local/lib/libtbbmalloc.so.2 is not a symbolic link\n",
            "\n",
            "/sbin/ldconfig.real: /usr/local/lib/libtbbbind_2_0.so.3 is not a symbolic link\n",
            "\n",
            "/sbin/ldconfig.real: /usr/local/lib/libtbbbind.so.3 is not a symbolic link\n",
            "\n",
            "/sbin/ldconfig.real: /usr/local/lib/libtbbmalloc_proxy.so.2 is not a symbolic link\n",
            "\n",
            "/sbin/ldconfig.real: /usr/local/lib/libtbb.so.12 is not a symbolic link\n",
            "\n"
          ]
        }
      ]
    },
    {
      "cell_type": "code",
      "source": [
        "!pip --no-cache-dir install pillow==9.4.0"
      ],
      "metadata": {
        "colab": {
          "base_uri": "https://localhost:8080/"
        },
        "id": "5j7_cMzcnpym",
        "outputId": "5acfebd6-1370-434c-c2b4-23d3d2748f06"
      },
      "execution_count": null,
      "outputs": [
        {
          "output_type": "stream",
          "name": "stdout",
          "text": [
            "Requirement already satisfied: pillow==9.4.0 in /usr/local/lib/python3.10/dist-packages (9.4.0)\n"
          ]
        }
      ]
    },
    {
      "cell_type": "code",
      "source": [
        "import pickle\n",
        "import math\n",
        "\n",
        "import torch\n",
        "import torch.nn as nn\n",
        "import numpy as np\n",
        "import copy\n",
        "import cv2\n",
        "import argparse\n",
        "import yaml\n",
        "import imutils\n",
        "import codecs\n",
        "import abc\n",
        "import trimesh\n",
        "\n",
        "from random import choice\n",
        "from collections import OrderedDict\n",
        "from string import ascii_uppercase\n",
        "import torch.nn as nn\n",
        "from torch.autograd import Variable\n",
        "from torchvision.utils import save_image\n",
        "from torch.utils.data import DataLoader, Dataset\n",
        "from torchvision.transforms import transforms\n",
        "from torchvision.transforms.functional import to_tensor\n",
        "from PIL import Image\n",
        "from lpips import LPIPS\n",
        "from argparse import Namespace\n",
        "\n",
        "from yolov3.yolo import YOLOv3\n",
        "\n",
        "import paddle\n",
        "from paddle.inference import create_predictor, PrecisionType\n",
        "from paddle.inference import Config as PredictConfig\n",
        "from paddleseg.core.infer import reverse_transform\n",
        "from paddleseg.cvlibs import manager\n",
        "from paddleseg.utils import TimeAverager\n",
        "import paddleseg.transforms as T"
      ],
      "metadata": {
        "id": "SInuXRqEVbb3"
      },
      "execution_count": null,
      "outputs": []
    },
    {
      "cell_type": "markdown",
      "source": [
        "## align image"
      ],
      "metadata": {
        "id": "B2hVQNVpTjAc"
      }
    },
    {
      "cell_type": "markdown",
      "source": [
        "The Align IMage module is taken from StyleHuman, can be found here:\n",
        "https://github.com/stylegan-human/StyleGAN-Human/blob/main/alignment.py\n",
        "\n",
        "Utils creates the needed helper function to use the Skript on the notebook"
      ],
      "metadata": {
        "id": "b9o8Z_YYWCKA"
      }
    },
    {
      "cell_type": "markdown",
      "source": [
        "### utils"
      ],
      "metadata": {
        "id": "AbKhLk1wTEUz"
      }
    },
    {
      "cell_type": "code",
      "source": [
        "from openpose.src import util\n",
        "from openpose.src.body import Body"
      ],
      "metadata": {
        "id": "F2UNIXIQTUUw"
      },
      "execution_count": null,
      "outputs": []
    },
    {
      "cell_type": "code",
      "execution_count": null,
      "metadata": {
        "id": "KQ01hQoRRtmW"
      },
      "outputs": [],
      "source": [
        "def human_seg_tracking(pre_gray, cur_gray, prev_cfd, dl_weights, disflow):\n",
        "\n",
        "    check_thres = 8\n",
        "    h, w = pre_gray.shape[:2]\n",
        "    track_cfd = np.zeros_like(prev_cfd)\n",
        "    is_track = np.zeros_like(pre_gray)\n",
        "    flow_fw = disflow.calc(pre_gray, cur_gray, None)\n",
        "    flow_bw = disflow.calc(cur_gray, pre_gray, None)\n",
        "    flow_fw = np.round(flow_fw).astype(np.int)\n",
        "    flow_bw = np.round(flow_bw).astype(np.int)\n",
        "    y_list = np.array(range(h))\n",
        "    x_list = np.array(range(w))\n",
        "    yv, xv = np.meshgrid(y_list, x_list)\n",
        "    yv, xv = yv.T, xv.T\n",
        "    cur_x = xv + flow_fw[:, :, 0]\n",
        "    cur_y = yv + flow_fw[:, :, 1]\n",
        "\n",
        "    not_track = (cur_x < 0) + (cur_x >= w) + (cur_y < 0) + (cur_y >= h)\n",
        "    flow_bw[~not_track] = flow_bw[cur_y[~not_track], cur_x[~not_track]]\n",
        "    not_track += (np.square(flow_fw[:, :, 0] + flow_bw[:, :, 0]) +\n",
        "                  np.square(flow_fw[:, :, 1] + flow_bw[:, :, 1])) >= check_thres\n",
        "    track_cfd[cur_y[~not_track], cur_x[~not_track]] = prev_cfd[~not_track]\n",
        "\n",
        "    is_track[cur_y[~not_track], cur_x[~not_track]] = 1\n",
        "\n",
        "    not_flow = np.all(np.abs(flow_fw) == 0,\n",
        "                      axis=-1) * np.all(np.abs(flow_bw) == 0, axis=-1)\n",
        "    dl_weights[cur_y[not_flow], cur_x[not_flow]] = 0.05\n",
        "    return track_cfd, is_track, dl_weights\n",
        "\n",
        "def human_seg_track_fuse(track_cfd, dl_cfd, dl_weights, is_track):\n",
        "    fusion_cfd = dl_cfd.copy()\n",
        "    is_track = is_track.astype(np.bool)\n",
        "    fusion_cfd[is_track] = dl_weights[is_track] * dl_cfd[is_track] + (\n",
        "        1 - dl_weights[is_track]) * track_cfd[is_track]\n",
        "    index_certain = ((dl_cfd > 0.9) + (dl_cfd < 0.1)) * is_track\n",
        "    index_less01 = (dl_weights < 0.1) * index_certain\n",
        "    fusion_cfd[index_less01] = 0.3 * dl_cfd[index_less01] + 0.7 * track_cfd[\n",
        "        index_less01]\n",
        "    index_larger09 = (dl_weights >= 0.1) * index_certain\n",
        "    fusion_cfd[index_larger09] = 0.4 * dl_cfd[index_larger09] + 0.6 * track_cfd[\n",
        "        index_larger09]\n",
        "    return fusion_cfd\n",
        "\n",
        "\n",
        "def optic_flow_process(cur_gray, scoremap, prev_gray, pre_cfd, disflow,\n",
        "                       is_init):\n",
        "    h, w = scoremap.shape\n",
        "    cur_cfd = scoremap.copy()\n",
        "\n",
        "    if is_init:\n",
        "        if h <= 64 or w <= 64:\n",
        "            disflow.setFinestScale(1)\n",
        "        elif h <= 160 or w <= 160:\n",
        "            disflow.setFinestScale(2)\n",
        "        else:\n",
        "            disflow.setFinestScale(3)\n",
        "        fusion_cfd = cur_cfd\n",
        "    else:\n",
        "        weights = np.ones((h, w), np.float32) * 0.3\n",
        "        track_cfd, is_track, weights = human_seg_tracking(\n",
        "            prev_gray, cur_gray, pre_cfd, weights, disflow)\n",
        "        fusion_cfd = human_seg_track_fuse(track_cfd, cur_cfd, weights, is_track)\n",
        "\n",
        "    return fusion_cfd"
      ]
    },
    {
      "cell_type": "code",
      "source": [
        "IMG_EXTENSIONS = [\n",
        "    '.jpg', '.JPG', '.jpeg', '.JPEG',\n",
        "    '.png', '.PNG', '.ppm', '.PPM', '.bmp', '.BMP', '.tiff'\n",
        "]\n",
        "\n",
        "def is_image_file(filename):\n",
        "    return any(filename.endswith(extension) for extension in IMG_EXTENSIONS)\n",
        "\n",
        "\n",
        "def make_dataset(dir):\n",
        "    images = []\n",
        "    assert os.path.isdir(dir), '%s is not a valid directory' % dir\n",
        "    for root, _, fnames in sorted(os.walk(dir)):\n",
        "        for fname in fnames:\n",
        "            if is_image_file(fname):\n",
        "                path = os.path.join(root, fname)\n",
        "                fname = fname.split('.')[0]\n",
        "                images.append((fname, path))\n",
        "    return images\n",
        "\n",
        "\n",
        "class ImagesDataset(Dataset):\n",
        "\n",
        "    def __init__(self, source_root, source_transform=None):\n",
        "        self.source_paths = sorted(make_dataset(source_root))\n",
        "        self.source_transform = source_transform\n",
        "\n",
        "    def __len__(self):\n",
        "        return len(self.source_paths)\n",
        "\n",
        "    def __getitem__(self, index):\n",
        "        fname, from_path = self.source_paths[index]\n",
        "        from_im = Image.open(from_path).convert('RGB')\n",
        "\n",
        "        if self.source_transform:\n",
        "            from_im = self.source_transform(from_im)\n",
        "\n",
        "        return fname, from_im"
      ],
      "metadata": {
        "id": "8kbTwZD7TKrg"
      },
      "execution_count": null,
      "outputs": []
    },
    {
      "cell_type": "code",
      "source": [
        "class DeployConfig:\n",
        "    def __init__(self, path):\n",
        "        with codecs.open(path, 'r', 'utf-8') as file:\n",
        "            self.dic = yaml.load(file, Loader=yaml.FullLoader)\n",
        "\n",
        "        self._transforms = self._load_transforms(self.dic['Deploy'][\n",
        "            'transforms'])\n",
        "        self._dir = os.path.dirname(path)\n",
        "\n",
        "    @property\n",
        "    def transforms(self):\n",
        "        return self._transforms\n",
        "\n",
        "    @property\n",
        "    def model(self):\n",
        "        return os.path.join(self._dir, self.dic['Deploy']['model'])\n",
        "\n",
        "    @property\n",
        "    def params(self):\n",
        "        return os.path.join(self._dir, self.dic['Deploy']['params'])\n",
        "\n",
        "    def _load_transforms(self, t_list):\n",
        "        com = manager.TRANSFORMS\n",
        "        transforms = []\n",
        "        for t in t_list:\n",
        "            ctype = t.pop('type')\n",
        "            transforms.append(com[ctype](**t))\n",
        "\n",
        "        return transforms\n",
        "\n",
        "\n",
        "class PP_HumenSeg_Predictor:\n",
        "    def __init__(self, args):\n",
        "        self.cfg = DeployConfig(args.cfg)\n",
        "        self.args = args\n",
        "        self.compose = T.Compose(self.cfg.transforms)\n",
        "        resize_h, resize_w = args.input_shape\n",
        "\n",
        "        self.disflow = cv2.DISOpticalFlow_create(\n",
        "            cv2.DISOPTICAL_FLOW_PRESET_ULTRAFAST)\n",
        "        self.prev_gray = np.zeros((resize_h, resize_w), np.uint8)\n",
        "        self.prev_cfd = np.zeros((resize_h, resize_w), np.float32)\n",
        "        self.is_init = True\n",
        "\n",
        "        pred_cfg = PredictConfig(self.cfg.model, self.cfg.params)\n",
        "        pred_cfg.disable_glog_info()\n",
        "        if self.args.use_gpu:\n",
        "            pred_cfg.enable_use_gpu(100, 0)\n",
        "\n",
        "        self.predictor = create_predictor(pred_cfg)\n",
        "        if self.args.test_speed:\n",
        "            self.cost_averager = TimeAverager()\n",
        "\n",
        "    def preprocess(self, img):\n",
        "        ori_shapes = []\n",
        "        processed_imgs = []\n",
        "        processed_img = self.compose(img)[0]\n",
        "        processed_imgs.append(processed_img)\n",
        "        ori_shapes.append(img.shape)\n",
        "        return processed_imgs, ori_shapes\n",
        "\n",
        "    def run(self, img, bg):\n",
        "        input_names = self.predictor.get_input_names()\n",
        "        input_handle = self.predictor.get_input_handle(input_names[0])\n",
        "        processed_imgs, ori_shapes = self.preprocess(img)\n",
        "        data = np.array(processed_imgs)\n",
        "        input_handle.reshape(data.shape)\n",
        "        input_handle.copy_from_cpu(data)\n",
        "\n",
        "        self.predictor.run()\n",
        "\n",
        "        output_names = self.predictor.get_output_names()\n",
        "        output_handle = self.predictor.get_output_handle(output_names[0])\n",
        "        output = output_handle.copy_to_cpu()\n",
        "        return self.postprocess(output, img, ori_shapes[0], bg)\n",
        "\n",
        "\n",
        "    def postprocess(self, pred, img, ori_shape, bg):\n",
        "        resize_w = pred.shape[-1]\n",
        "        resize_h = pred.shape[-2]\n",
        "        if self.args.soft_predict:\n",
        "            if self.args.use_optic_flow:\n",
        "                score_map = pred[:, 1, :, :].squeeze(0)\n",
        "                score_map = 255 * score_map\n",
        "                cur_gray = cv2.cvtColor(img, cv2.COLOR_BGR2GRAY)\n",
        "                cur_gray = cv2.resize(cur_gray, (resize_w, resize_h))\n",
        "                optflow_map = optic_flow_process(cur_gray, score_map, self.prev_gray, self.prev_cfd, \\\n",
        "                        self.disflow, self.is_init)\n",
        "                self.prev_gray = cur_gray.copy()\n",
        "                self.prev_cfd = optflow_map.copy()\n",
        "                self.is_init = False\n",
        "\n",
        "                score_map = np.repeat(optflow_map[:, :, np.newaxis], 3, axis=2)\n",
        "                score_map = np.transpose(score_map, [2, 0, 1])[np.newaxis, ...]\n",
        "                score_map = reverse_transform(\n",
        "                    paddle.to_tensor(score_map),\n",
        "                    ori_shape,\n",
        "                    self.cfg.transforms,\n",
        "                    mode='bilinear')\n",
        "                alpha = np.transpose(score_map.numpy().squeeze(0),\n",
        "                                     [1, 2, 0]) / 255\n",
        "            else:\n",
        "                score_map = pred[:, 1, :, :]\n",
        "                score_map = score_map[np.newaxis, ...]\n",
        "                score_map = reverse_transform(\n",
        "                    paddle.to_tensor(score_map),\n",
        "                    ori_shape,\n",
        "                    self.cfg.transforms,\n",
        "                    mode='bilinear')\n",
        "                alpha = np.transpose(score_map.numpy().squeeze(0), [1, 2, 0])\n",
        "\n",
        "        else:\n",
        "            if pred.ndim == 3:\n",
        "                pred = pred[:, np.newaxis, ...]\n",
        "            result = reverse_transform(\n",
        "                paddle.to_tensor(\n",
        "                    pred, dtype='float32'),\n",
        "                ori_shape,\n",
        "                self.cfg.transforms,\n",
        "                mode='bilinear')\n",
        "\n",
        "            result = np.array(result)\n",
        "            if self.args.add_argmax:\n",
        "                result = np.argmax(result, axis=1)\n",
        "            else:\n",
        "                result = result.squeeze(1)\n",
        "            alpha = np.transpose(result, [1, 2, 0])\n",
        "\n",
        "        # background replace\n",
        "        h, w, _ = img.shape\n",
        "        if bg is None:\n",
        "            bg = np.ones_like(img)*255\n",
        "        else:\n",
        "            bg = cv2.resize(bg, (w, h))\n",
        "            if bg.ndim == 2:\n",
        "                bg = bg[..., np.newaxis]\n",
        "\n",
        "        comb = (alpha * img + (1 - alpha) * bg).astype(np.uint8)\n",
        "        return comb, alpha, bg, img"
      ],
      "metadata": {
        "id": "ndzz_HgmTI_J"
      },
      "execution_count": null,
      "outputs": []
    },
    {
      "cell_type": "code",
      "source": [
        "def angle_between_points(p0,p1,p2):\n",
        "    if p0[1]==-1 or p1[1]==-1 or p2[1]==-1:\n",
        "        return -1\n",
        "    a = (p1[0]-p0[0])**2 + (p1[1]-p0[1])**2\n",
        "    b = (p1[0]-p2[0])**2 + (p1[1]-p2[1])**2\n",
        "    c = (p2[0]-p0[0])**2 + (p2[1]-p0[1])**2\n",
        "    if a * b == 0:\n",
        "        return -1\n",
        "    return math.acos((a+b-c) / math.sqrt(4*a*b)) * 180 / math.pi\n",
        "\n",
        "\n",
        "def crop_img_with_padding(img, keypoints, rect):\n",
        "    person_xmin,person_xmax, ymin, ymax= rect\n",
        "    img_h,img_w,_ = img.shape    ## find body center using keypoints\n",
        "    middle_shoulder_x = keypoints[1][0]\n",
        "    middle_hip_x = (keypoints[8][0] + keypoints[11][0]) // 2\n",
        "    mid_x = (middle_hip_x + middle_shoulder_x) // 2\n",
        "    mid_y = (ymin + ymax) // 2\n",
        "    ## find which side (l or r) is further than center x, use the further side\n",
        "    if abs(mid_x-person_xmin) > abs(person_xmax-mid_x): #left further\n",
        "        xmin = person_xmin\n",
        "        xmax = mid_x + (mid_x-person_xmin)\n",
        "    else:\n",
        "        ############### may be negtive\n",
        "        ### in this case, the script won't output any image, leave the case like this\n",
        "        ### since we don't want to pad human body\n",
        "        xmin = mid_x - (person_xmax-mid_x)\n",
        "        xmax = person_xmax\n",
        "\n",
        "    w = xmax - xmin\n",
        "    h = ymax - ymin\n",
        "    ## pad rectangle to w:h = 1:2 ## calculate desired border length\n",
        "    if h / w >= 2: #pad horizontally\n",
        "        target_w = h // 2\n",
        "        xmin_prime = int(mid_x - target_w / 2)\n",
        "        xmax_prime = int(mid_x + target_w / 2)\n",
        "        if xmin_prime < 0:\n",
        "            pad_left = abs(xmin_prime)# - xmin\n",
        "            xmin = 0\n",
        "        else:\n",
        "            pad_left = 0\n",
        "            xmin = xmin_prime\n",
        "        if xmax_prime > img_w:\n",
        "            pad_right = xmax_prime - img_w\n",
        "            xmax = img_w\n",
        "        else:\n",
        "            pad_right = 0\n",
        "            xmax = xmax_prime\n",
        "\n",
        "        cropped_img = img[int(ymin):int(ymax), int(xmin):int(xmax)]\n",
        "        im_pad = cv2.copyMakeBorder(cropped_img, 0, 0, int(pad_left),  int(pad_right), cv2.BORDER_REPLICATE)\n",
        "    else: #pad vertically\n",
        "        target_h = w * 2\n",
        "        ymin_prime = mid_y - (target_h / 2)\n",
        "        ymax_prime = mid_y + (target_h / 2)\n",
        "        if ymin_prime < 0:\n",
        "            pad_up = abs(ymin_prime)# - ymin\n",
        "            ymin = 0\n",
        "        else:\n",
        "            pad_up = 0\n",
        "            ymin = ymin_prime\n",
        "        if ymax_prime > img_h:\n",
        "            pad_down = ymax_prime - img_h\n",
        "            ymax = img_h\n",
        "        else:\n",
        "            pad_down = 0\n",
        "            ymax = ymax_prime\n",
        "        print(ymin,ymax, xmin,xmax, img.shape)\n",
        "\n",
        "        cropped_img = img[int(ymin):int(ymax), int(xmin):int(xmax)]\n",
        "        im_pad = cv2.copyMakeBorder(cropped_img, int(pad_up), int(pad_down), 0,\n",
        "                                    0, cv2.BORDER_REPLICATE)\n",
        "    result = cv2.resize(im_pad,(512,1024),interpolation = cv2.INTER_AREA)\n",
        "    return result\n",
        "\n",
        "\n",
        "def run_alignment(image_folder):\n",
        "    dataset = ImagesDataset(image_folder, transforms.Compose([transforms.ToTensor()]))\n",
        "    dataloader = DataLoader(dataset, batch_size=1, shuffle=False)\n",
        "\n",
        "    body_estimation = Body('openpose/model/body_pose_model.pth')\n",
        "\n",
        "    total = len(dataloader)\n",
        "    print('Num of dataloader : ', total)\n",
        "\n",
        "    ## initialzide HumenSeg\n",
        "    human_seg_args = {}\n",
        "    human_seg_args['cfg'] = 'AvatarGen_Part1/deploy.yaml'\n",
        "    human_seg_args['input_shape'] = [1024,512]\n",
        "    human_seg_args['soft_predict'] = False\n",
        "    human_seg_args['use_gpu'] = True\n",
        "    human_seg_args['test_speed'] = False\n",
        "    human_seg_args['use_optic_flow'] = False\n",
        "    human_seg_args['add_argmax'] = True\n",
        "    human_seg_args= argparse.Namespace(**human_seg_args)\n",
        "    human_seg = PP_HumenSeg_Predictor(human_seg_args)\n",
        "\n",
        "    for fname, image in dataloader:\n",
        "        fname = fname[0]\n",
        "        print(f'Processing \\'{fname}\\'.')\n",
        "\n",
        "        image = (image.permute(0, 2, 3, 1) * 255).clamp(0, 255)\n",
        "        image = image.squeeze(0).numpy() # --> tensor to numpy, (H,W,C)\n",
        "        # avoid super high res img\n",
        "        if image.shape[0] >= 2000: # height  ### for shein image\n",
        "            ratio = image.shape[0]/1200 #height\n",
        "            dim = (int(image.shape[1]/ratio),1200)#(width, height)\n",
        "            image = cv2.resize(image, dim, interpolation = cv2.INTER_AREA)\n",
        "        image = cv2.cvtColor(image, cv2.COLOR_RGB2BGR)\n",
        "\n",
        "        ## create segmentation\n",
        "        comb, segmentation, bg, ori_img = human_seg.run(image,None)\n",
        "\n",
        "        masks_np = (segmentation* 255)# .byte().cpu().numpy() #1024,512,1\n",
        "        mask0_np = masks_np[:,:,0].astype(np.uint8)#[0, :, :]\n",
        "        contours = cv2.findContours(mask0_np,  cv2.RETR_EXTERNAL, cv2.CHAIN_APPROX_SIMPLE)\n",
        "        cnts = imutils.grab_contours(contours)\n",
        "        c = max(cnts, key=cv2.contourArea)\n",
        "        extTop = tuple(c[c[:, :, 1].argmin()][0])\n",
        "        extBot = tuple(c[c[:, :, 1].argmax()][0])\n",
        "        extBot = list(extBot)\n",
        "        extTop = list(extTop)\n",
        "        pad_range = int((extBot[1]-extTop[1])*0.05)\n",
        "        if (int(extTop[1])<=5 and int(extTop[1])>0) and (comb.shape[0]>int(extBot[1]) and int(extBot[1])>=comb.shape[0]-5): #seg mask already reaches to the edge\n",
        "            #pad with pure white, top 100 px, bottom 100 px\n",
        "            comb= cv2.copyMakeBorder(comb,pad_range+5,pad_range+5,0,0,cv2.BORDER_CONSTANT,value=[255,255,255])\n",
        "        elif int(extTop[1])<=0 or int(extBot[1])>=comb.shape[0]:\n",
        "            print('PAD: body out of boundary', fname) #should not happened\n",
        "            return {}\n",
        "        else:\n",
        "            comb = cv2.copyMakeBorder(comb, pad_range+5, pad_range+5, 0, 0, cv2.BORDER_REPLICATE) #105 instead of 100: give some extra space\n",
        "        extBot[1] = extBot[1] + pad_range+5\n",
        "        extTop[1] = extTop[1] + pad_range+5\n",
        "\n",
        "        extLeft = tuple(c[c[:, :, 0].argmin()][0])\n",
        "        extRight = tuple(c[c[:, :, 0].argmax()][0])\n",
        "        extLeft = list(extLeft)\n",
        "        extRight = list(extRight)\n",
        "        person_ymin = int(extTop[1])-pad_range # 100\n",
        "        person_ymax = int(extBot[1])+pad_range # 100 #height\n",
        "        if person_ymin<0 or person_ymax>comb.shape[0]: # out of range\n",
        "            return {}\n",
        "        person_xmin = int(extLeft[0])\n",
        "        person_xmax = int(extRight[0])\n",
        "        rect =  [person_xmin,person_xmax,person_ymin, person_ymax]\n",
        "\n",
        "        ## detect keypoints\n",
        "        keypoints, subset = body_estimation(comb)\n",
        "        # print(keypoints, subset, len(subset))\n",
        "        if len(subset) != 1 or (len(subset)==1 and subset[0][-1]<15):\n",
        "            print(f'Processing \\'{fname}\\'. Please import image contains one person only. Also can check segmentation mask. ')\n",
        "            continue\n",
        "\n",
        "        comb = crop_img_with_padding(comb, keypoints, rect)\n",
        "\n",
        "        return comb"
      ],
      "metadata": {
        "id": "qlGr0FPRTa-J"
      },
      "execution_count": null,
      "outputs": []
    },
    {
      "cell_type": "markdown",
      "source": [
        "Get Detections is actually taken from PARE and is creating bboxes around a human in a picture.\n",
        "It is already loaded here so we can rotate the image accordingly after alignment"
      ],
      "metadata": {
        "id": "Him8U4obWVLS"
      }
    },
    {
      "cell_type": "code",
      "source": [
        "def get_detections(img_path, size=608):\n",
        "  detector = YOLOv3(device='cuda', img_size=size, person_detector=True, return_dict=True)\n",
        "  input_image = cv2.imread(img_path)\n",
        "  image_data = to_tensor(cv2.cvtColor(cv2.resize(input_image, (size, size)), cv2.COLOR_BGR2RGB))\n",
        "  dataloader = torch.utils.data.DataLoader([image_data], batch_size=12, num_workers=0)\n",
        "  device = torch.device('cuda')\n",
        "  for batch in dataloader:\n",
        "    batch = batch.to(device)\n",
        "    predictions = detector(batch)\n",
        "\n",
        "  detections = []\n",
        "  for pred in predictions:\n",
        "    bb = pred['boxes'].cpu().numpy()\n",
        "    sc = pred['scores'].cpu().numpy()[..., None]\n",
        "    dets = np.hstack([bb, sc])\n",
        "    dets = dets[sc[:, 0] > 0.7]\n",
        "    detections.append(dets)\n",
        "\n",
        "  new_detections = []\n",
        "  for frame_idx, dets in enumerate(detections):\n",
        "    img_dets = []\n",
        "    for d in dets:\n",
        "      w, h = d[2] - d[0], d[3] - d[1]\n",
        "      c_x, c_y = d[0] + w / 2, d[1] + h / 2\n",
        "      w = h = np.where(w / h > 1, w, h)\n",
        "      bbox = np.array([c_x, c_y, w, h])\n",
        "      img_dets.append(bbox)\n",
        "    new_detections.append(np.array(img_dets))\n",
        "\n",
        "    return new_detections"
      ],
      "metadata": {
        "id": "pR1ysw-TrTy6"
      },
      "execution_count": null,
      "outputs": []
    },
    {
      "cell_type": "markdown",
      "source": [
        "### actual usage"
      ],
      "metadata": {
        "id": "svbVSLWrTr4z"
      }
    },
    {
      "cell_type": "markdown",
      "source": [
        "Alignment as well as other modules is loading the input image from a folder, so we create a new folder, and copy the image there"
      ],
      "metadata": {
        "id": "IoHmC8_zWob8"
      }
    },
    {
      "cell_type": "code",
      "source": [
        "!mkdir pictures"
      ],
      "metadata": {
        "id": "zglXcjirUk7P"
      },
      "execution_count": null,
      "outputs": []
    },
    {
      "cell_type": "code",
      "source": [
        "!cp $image_file_path ./pictures"
      ],
      "metadata": {
        "id": "sfyB_4YoUnfj"
      },
      "execution_count": null,
      "outputs": []
    },
    {
      "cell_type": "code",
      "source": [
        "torch.backends.cudnn.benchmark = True\n",
        "torch.backends.cudnn.deterministic = False\n",
        "\n",
        "### run the actual alignemnt\n",
        "aligned_image = run_alignment('./pictures')"
      ],
      "metadata": {
        "id": "8WWOIKvBTvXm",
        "colab": {
          "base_uri": "https://localhost:8080/"
        },
        "outputId": "bf7e3980-4233-49f0-fdad-2d7606266664"
      },
      "execution_count": null,
      "outputs": [
        {
          "output_type": "stream",
          "name": "stdout",
          "text": [
            "Num of dataloader :  1\n",
            "Processing 'scholz'.\n"
          ]
        }
      ]
    },
    {
      "cell_type": "markdown",
      "source": [
        "### check detection (also used later in PARE) to find out if picture needs to be rotated"
      ],
      "metadata": {
        "id": "Y_sbhSnNikxn"
      }
    },
    {
      "cell_type": "code",
      "source": [
        "def save_alignet_image():\n",
        "  image_to_save = Image.fromarray(aligned_image)\n",
        "  save_file_path = f'./pictures/{image_name}{image_type}'\n",
        "  image_to_save.save(save_file_path)\n",
        "  return save_file_path"
      ],
      "metadata": {
        "id": "QEGXm6uYcpQ_"
      },
      "execution_count": null,
      "outputs": []
    },
    {
      "cell_type": "code",
      "source": [
        "save_file_path = save_alignet_image()\n",
        "dets = get_detections(save_file_path)\n",
        "while len(dets[0])==0:\n",
        "  aligned_image = np.rot90(aligned_image, k=-1)\n",
        "  dets = get_detections(save_file_path)\n",
        "save_alignet_image()"
      ],
      "metadata": {
        "colab": {
          "base_uri": "https://localhost:8080/"
        },
        "id": "mXRUd0Svi2u9",
        "outputId": "d873d16b-5e3e-4ff0-8cc3-d13f42f4be6c"
      },
      "execution_count": null,
      "outputs": [
        {
          "output_type": "stream",
          "name": "stdout",
          "text": [
            "Downloading files from https://pjreddie.com/media/files/yolov3.weights\n",
            "Downloading files from https://raw.githubusercontent.com/mkocabas/yolov3-pytorch/master/yolov3/config/yolov3.cfg\n"
          ]
        },
        {
          "output_type": "execute_result",
          "data": {
            "text/plain": [
              "'./pictures/scholz.jpg'"
            ],
            "application/vnd.google.colaboratory.intrinsic+json": {
              "type": "string"
            }
          },
          "metadata": {},
          "execution_count": 84
        }
      ]
    },
    {
      "cell_type": "code",
      "source": [
        "##show the aligned picture if needed\n",
        "\n",
        "import matplotlib.pyplot as plt\n",
        "\n",
        "%matplotlib inline\n",
        "plt.imshow(aligned_image)\n",
        "plt.axis('off')\n",
        "plt.show()"
      ],
      "metadata": {
        "colab": {
          "base_uri": "https://localhost:8080/"
        },
        "id": "PzD2Xs27-iYj",
        "outputId": "72eb4d60-1856-45d7-f014-02b4feebd729"
      },
      "execution_count": null,
      "outputs": [
        {
          "output_type": "display_data",
          "data": {
            "text/plain": [
              "<Figure size 640x480 with 1 Axes>"
            ],
            "image/png": "[encoded data removed]"
          },
          "metadata": {}
        }
      ]
    },
    {
      "cell_type": "markdown",
      "source": [
        "## create stylegan latent code"
      ],
      "metadata": {
        "id": "jUBt5lRHUpyL"
      }
    },
    {
      "cell_type": "markdown",
      "source": [
        "StyleGan latent code creation uses PTI as it is implemenmted in StyleHUman, can be found here: https://github.com/stylegan-human/StyleGAN-Human/blob/main/run_pti.py"
      ],
      "metadata": {
        "id": "ojMvGX8PXPtl"
      }
    },
    {
      "cell_type": "markdown",
      "source": [
        "### utils"
      ],
      "metadata": {
        "id": "tvMZ1i4FVsRa"
      }
    },
    {
      "cell_type": "markdown",
      "source": [
        "Utils is creating all needed helper fuctions and classses so it can be run within the notebook"
      ],
      "metadata": {
        "id": "iIGptzChXb80"
      }
    },
    {
      "cell_type": "code",
      "source": [
        "class pti_global_config:\n",
        "  ## Device\n",
        "  cuda_visible_devices = '0'\n",
        "  device = 'cuda:0'\n",
        "\n",
        "  ## Logs\n",
        "  training_step = 1\n",
        "  image_rec_result_log_snapshot = 100\n",
        "  pivotal_training_steps = 0\n",
        "  model_snapshot_interval = 400\n",
        "\n",
        "  ## Run name to be updated during PTI\n",
        "  run_name = 'exp'\n",
        "\n",
        "class pti_path_config: # ToDo: Check if all is needed\n",
        "  stylegan2_ada_shhq = '/content/AvatarGen_Part1/AvatarGen_Part1/stylegan_human_v2_1024.pkl'\n",
        "  e4e = '/content/AvatarGen_Part1/AvatarGen_Part1/e4e_w+.pt'\n",
        "  checkpoints_dir = './output/pti/checkpoints/'\n",
        "  pti_results_keyword = 'PTI'\n",
        "  e4e_results_keyword = 'e4e'\n",
        "  embedding_base_dir = './output/pti/embeddings'\n",
        "  input_data_id = image_name\n",
        "  experiments_output_dir = './output/pti/'\n",
        "  input_data_path = './pictures'\n",
        "\n",
        "class pti_hyperparameters:\n",
        "  ## Architechture\n",
        "  lpips_type = 'alex'\n",
        "  first_inv_type = 'w+'\n",
        "  optim_type = 'adam'\n",
        "\n",
        "  ## Locality regularization\n",
        "  latent_ball_num_of_samples = 1\n",
        "  locality_regularization_interval = 1\n",
        "  use_locality_regularization = False\n",
        "  regulizer_l2_lambda = 0.1\n",
        "  regulizer_lpips_lambda = 0.1\n",
        "  regulizer_alpha = 30\n",
        "\n",
        "  ## Loss\n",
        "  pt_l2_lambda = 1\n",
        "  pt_lpips_lambda = 1\n",
        "\n",
        "  ## Steps\n",
        "  LPIPS_value_threshold = 0.04\n",
        "  max_pti_steps = 350\n",
        "  first_inv_steps = 450\n",
        "  max_images_to_invert = 30\n",
        "\n",
        "  ## Optimization\n",
        "  pti_learning_rate = 5e-4\n",
        "  first_inv_lr = 8e-3\n",
        "  train_batch_size = 1\n",
        "  use_last_w_pivots = False"
      ],
      "metadata": {
        "id": "3Op5NVD8ocPJ"
      },
      "execution_count": null,
      "outputs": []
    },
    {
      "cell_type": "code",
      "source": [
        "l2_criterion = torch.nn.MSELoss(reduction='mean')\n",
        "\n",
        "\n",
        "def l2_loss(real_images, generated_images):\n",
        "    loss = l2_criterion(real_images, generated_images)\n",
        "    return loss\n",
        "\n",
        "\n",
        "class Space_Regulizer:\n",
        "    def __init__(self, original_G, lpips_net):\n",
        "        self.original_G = original_G\n",
        "        self.morphing_regulizer_alpha = pti_hyperparameters.regulizer_alpha\n",
        "        self.lpips_loss = lpips_net\n",
        "\n",
        "    def get_morphed_w_code(self, new_w_code, fixed_w):\n",
        "        interpolation_direction = new_w_code - fixed_w\n",
        "        interpolation_direction_norm = torch.norm(interpolation_direction, p=2)\n",
        "        direction_to_move = pti_hyperparameters.regulizer_alpha * interpolation_direction / interpolation_direction_norm\n",
        "        result_w = fixed_w + direction_to_move\n",
        "        self.morphing_regulizer_alpha * fixed_w + (1 - self.morphing_regulizer_alpha) * new_w_code\n",
        "\n",
        "        return result_w\n",
        "\n",
        "    def get_image_from_ws(self, w_codes, G):\n",
        "        return torch.cat([G.synthesis(w_code, noise_mode='none', force_fp32=True) for w_code in w_codes])\n",
        "\n",
        "    def ball_holder_loss_lazy(self, new_G, num_of_sampled_latents, w_batch, use_wandb=False):\n",
        "        loss = 0.0\n",
        "\n",
        "        z_samples = np.random.randn(num_of_sampled_latents, self.original_G.z_dim)\n",
        "        w_samples = self.original_G.mapping(torch.from_numpy(z_samples).to(pti_global_config.device), None,\n",
        "                                            truncation_psi=0.5)\n",
        "        territory_indicator_ws = [self.get_morphed_w_code(w_code.unsqueeze(0), w_batch) for w_code in w_samples]\n",
        "\n",
        "        for w_code in territory_indicator_ws:\n",
        "            new_img = new_G.synthesis(w_code, noise_mode='none', force_fp32=True)\n",
        "            with torch.no_grad():\n",
        "                old_img = self.original_G.synthesis(w_code, noise_mode='none', force_fp32=True)\n",
        "\n",
        "            if pti_hyperparameters.regulizer_l2_lambda > 0:\n",
        "                l2_loss_val = l2_loss.l2_loss(old_img, new_img)\n",
        "                loss += l2_loss_val * pti_hyperparameters.regulizer_l2_lambda\n",
        "\n",
        "            if pti_hyperparameters.regulizer_lpips_lambda > 0:\n",
        "                loss_lpips = self.lpips_loss(old_img, new_img)\n",
        "                loss_lpips = torch.mean(torch.squeeze(loss_lpips))\n",
        "                loss += loss_lpips * pti_hyperparameters.regulizer_lpips_lambda\n",
        "\n",
        "        return loss / len(territory_indicator_ws)\n",
        "\n",
        "    def space_regulizer_loss(self, new_G, w_batch, use_wandb):\n",
        "        ret_val = self.ball_holder_loss_lazy(new_G, pti_hyperparameters.latent_ball_num_of_samples, w_batch, use_wandb)\n",
        "        return ret_val"
      ],
      "metadata": {
        "id": "LbEPVkJ84MJn"
      },
      "execution_count": null,
      "outputs": []
    },
    {
      "cell_type": "code",
      "source": [
        "def project(\n",
        "        G,\n",
        "        target: torch.Tensor,  # [C,H,W] and dynamic range [0,255], W & H must match G output resolution\n",
        "        *,\n",
        "        num_steps=1000,\n",
        "        w_avg_samples=10000,\n",
        "        initial_learning_rate=0.01,\n",
        "        initial_noise_factor=0.05,\n",
        "        lr_rampdown_length=0.25,\n",
        "        lr_rampup_length=0.05,\n",
        "        noise_ramp_length=0.75,\n",
        "        regularize_noise_weight=1e5,\n",
        "        verbose=False,\n",
        "        device: torch.device,\n",
        "        use_wandb=False,\n",
        "        initial_w=None,\n",
        "        image_log_step=pti_global_config.image_rec_result_log_snapshot,\n",
        "        w_name: str\n",
        "):\n",
        "    print(target.shape,G.img_channels, G.img_resolution, G.img_resolution//2)\n",
        "    assert target.shape == (G.img_channels, G.img_resolution, G.img_resolution // 2)\n",
        "\n",
        "    def logprint(*args):\n",
        "        if verbose:\n",
        "            print(*args)\n",
        "\n",
        "    G = copy.deepcopy(G).eval().requires_grad_(False).to(device).float()  # type: ignore\n",
        "\n",
        "    # Compute w stats.\n",
        "    logprint(f'Computing W midpoint and stddev using {w_avg_samples} samples...')\n",
        "    z_samples = np.random.RandomState(123).randn(w_avg_samples, G.z_dim)\n",
        "    w_samples = G.mapping(torch.from_numpy(z_samples).to(device), None)  # [N, L, C]\n",
        "    w_samples = w_samples[:, :1, :].cpu().numpy().astype(np.float32)  # [N, 1, C]\n",
        "    w_avg = np.mean(w_samples, axis=0, keepdims=True)  # [1, 1, C]\n",
        "    w_avg_tensor = torch.from_numpy(w_avg).to(pti_global_config.device)\n",
        "    w_std = (np.sum((w_samples - w_avg) ** 2) / w_avg_samples) ** 0.5\n",
        "\n",
        "    start_w = initial_w if initial_w is not None else w_avg\n",
        "\n",
        "    # Setup noise inputs.\n",
        "    noise_bufs = {name: buf for (name, buf) in G.synthesis.named_buffers() if 'noise_const' in name}\n",
        "\n",
        "    # Load VGG16 feature detector.\n",
        "    model_file = 'AvatarGen_Part1/vgg16.pt'\n",
        "    with open(model_file, 'rb') as f:\n",
        "        vgg16 = torch.jit.load(f).eval().to(device)\n",
        "\n",
        "    # Features for target image.\n",
        "    target_images = target.unsqueeze(0).to(device).to(torch.float32)\n",
        "    if target_images.shape[2] > 256:\n",
        "        target_images = F.interpolate(target_images, size=(256, 256), mode='area')\n",
        "    target_features = vgg16(target_images, resize_images=False, return_lpips=True)\n",
        "\n",
        "    w_opt = torch.tensor(start_w, dtype=torch.float32, device=device,\n",
        "                         requires_grad=True)  # pylint: disable=not-callable\n",
        "    optimizer = torch.optim.Adam([w_opt] + list(noise_bufs.values()), betas=(0.9, 0.999),\n",
        "                                 lr=pti_hyperparameters.first_inv_lr)\n",
        "\n",
        "    # Init noise.\n",
        "    for buf in noise_bufs.values():\n",
        "        buf[:] = torch.randn_like(buf)\n",
        "        buf.requires_grad = True\n",
        "\n",
        "    for step in range(num_steps):\n",
        "\n",
        "        # Learning rate schedule.\n",
        "        t = step / num_steps\n",
        "        w_noise_scale = w_std * initial_noise_factor * max(0.0, 1.0 - t / noise_ramp_length) ** 2\n",
        "        lr_ramp = min(1.0, (1.0 - t) / lr_rampdown_length)\n",
        "        lr_ramp = 0.5 - 0.5 * np.cos(lr_ramp * np.pi)\n",
        "        lr_ramp = lr_ramp * min(1.0, t / lr_rampup_length)\n",
        "        lr = initial_learning_rate * lr_ramp\n",
        "        for param_group in optimizer.param_groups:\n",
        "            param_group['lr'] = lr\n",
        "\n",
        "        # Synth images from opt_w.\n",
        "        w_noise = torch.randn_like(w_opt) * w_noise_scale\n",
        "        ws = (w_opt + w_noise).repeat([1, G.mapping.num_ws, 1])\n",
        "        synth_images = G.synthesis(ws, noise_mode='const', force_fp32=True)\n",
        "\n",
        "        # Downsample image to 256x256 if it's larger than that. VGG was built for 224x224 images.\n",
        "        synth_images = (synth_images + 1) * (255 / 2)\n",
        "        if synth_images.shape[2] > 256:\n",
        "            synth_images = F.interpolate(synth_images, size=(256, 256), mode='area')\n",
        "\n",
        "        # Features for synth images.\n",
        "        synth_features = vgg16(synth_images, resize_images=False, return_lpips=True)\n",
        "        dist = (target_features - synth_features).square().sum()\n",
        "\n",
        "        # Noise regularization.\n",
        "        reg_loss = 0.0\n",
        "        for v in noise_bufs.values():\n",
        "            noise = v[None, None, :, :]  # must be [1,1,H,W] for F.avg_pool2d()\n",
        "            while True:\n",
        "                reg_loss += (noise * torch.roll(noise, shifts=1, dims=3)).mean() ** 2\n",
        "                reg_loss += (noise * torch.roll(noise, shifts=1, dims=2)).mean() ** 2\n",
        "                if noise.shape[2] <= 8:\n",
        "                    break\n",
        "                noise = F.avg_pool2d(noise, kernel_size=2)\n",
        "        loss = dist + reg_loss * regularize_noise_weight\n",
        "        if step % 10 == 0:\n",
        "            print(\"project loss\", step, loss.data)\n",
        "\n",
        "        # Step\n",
        "        optimizer.zero_grad(set_to_none=True)\n",
        "        loss.backward()\n",
        "        optimizer.step()\n",
        "        logprint(f'step {step + 1:>4d}/{num_steps}: dist {dist:<4.2f} loss {float(loss):<5.2f}')\n",
        "\n",
        "        # Normalize noise.\n",
        "        with torch.no_grad():\n",
        "            for buf in noise_bufs.values():\n",
        "                buf -= buf.mean()\n",
        "                buf *= buf.square().mean().rsqrt()\n",
        "\n",
        "    del G\n",
        "    return w_opt.repeat([1, 18, 1])"
      ],
      "metadata": {
        "id": "UF0qYC7F56I1"
      },
      "execution_count": null,
      "outputs": []
    },
    {
      "cell_type": "code",
      "source": [
        "def toogle_grad(model, flag=True):\n",
        "    for p in model.parameters():\n",
        "        p.requires_grad = flag\n",
        "\n",
        "def load_old_G():\n",
        "    with open(pti_path_config.stylegan2_ada_shhq, 'rb') as f:\n",
        "        old_G = pickle.load(f)['G_ema'].to(pti_global_config.device).eval()\n",
        "        old_G = old_G.float()\n",
        "    return old_G"
      ],
      "metadata": {
        "id": "R7W2F71G9K2k"
      },
      "execution_count": null,
      "outputs": []
    },
    {
      "cell_type": "code",
      "source": [
        "from pti_models.e4e.psp import pSp\n",
        "\n",
        "class BaseCoach:\n",
        "    def __init__(self, data_loader, use_wandb):\n",
        "\n",
        "        self.use_wandb = use_wandb\n",
        "        self.data_loader = data_loader\n",
        "        self.w_pivots = {}\n",
        "        self.image_counter = 0\n",
        "\n",
        "        if pti_hyperparameters.first_inv_type == 'w+':\n",
        "            self.initilize_e4e()\n",
        "\n",
        "        self.e4e_image_transform = transforms.Compose([\n",
        "            transforms.ToPILImage(),\n",
        "            transforms.Resize((256, 128)),\n",
        "            transforms.ToTensor(),\n",
        "            transforms.Normalize([0.5, 0.5, 0.5], [0.5, 0.5, 0.5])])\n",
        "\n",
        "        # Initialize loss\n",
        "        self.lpips_loss = LPIPS(net=pti_hyperparameters.lpips_type).to(pti_global_config.device).eval()\n",
        "\n",
        "        self.restart_training()\n",
        "\n",
        "        # Initialize checkpoint dir\n",
        "        self.checkpoint_dir = pti_path_config.checkpoints_dir\n",
        "        os.makedirs(self.checkpoint_dir, exist_ok=True)\n",
        "\n",
        "    def restart_training(self):\n",
        "\n",
        "        # Initialize networks\n",
        "        self.G = load_old_G()\n",
        "        toogle_grad(self.G, True)\n",
        "\n",
        "        self.original_G = load_old_G()\n",
        "\n",
        "        self.space_regulizer = Space_Regulizer(self.original_G, self.lpips_loss)\n",
        "        self.optimizer = self.configure_optimizers()\n",
        "\n",
        "    def get_inversion(self, w_path_dir, image_name, image):\n",
        "        embedding_dir = f'{w_path_dir}/{pti_path_config.pti_results_keyword}/{image_name}'\n",
        "        os.makedirs(embedding_dir, exist_ok=True)\n",
        "\n",
        "        w_pivot = None\n",
        "\n",
        "        if pti_hyperparameters.use_last_w_pivots:\n",
        "            w_pivot = self.load_inversions(w_path_dir, image_name)\n",
        "\n",
        "        if not pti_hyperparameters.use_last_w_pivots or w_pivot is None:\n",
        "            w_pivot = self.calc_inversions(image, image_name)\n",
        "            torch.save(w_pivot, f'{embedding_dir}/0.pt')\n",
        "\n",
        "        w_pivot = w_pivot.to(pti_global_config.device)\n",
        "        return w_pivot\n",
        "\n",
        "    def load_inversions(self, w_path_dir, image_name):\n",
        "        if image_name in self.w_pivots:\n",
        "            return self.w_pivots[image_name]\n",
        "\n",
        "        if pti_hyperparameters.first_inv_type == 'w+':\n",
        "            w_potential_path = f'{w_path_dir}/{pti_path_config.e4e_results_keyword}/{image_name}/0.pt'\n",
        "        else:\n",
        "            w_potential_path = f'{w_path_dir}/{pti_path_config.pti_results_keyword}/{image_name}/0.pt'\n",
        "        if not os.path.isfile(w_potential_path):\n",
        "            return None\n",
        "        w = torch.load(w_potential_path).to(pti_global_config.device)\n",
        "        self.w_pivots[image_name] = w\n",
        "        return w\n",
        "\n",
        "    def calc_inversions(self, image, image_name):\n",
        "        if pti_hyperparameters.first_inv_type == 'w+':\n",
        "            w = self.get_e4e_inversion(image)\n",
        "\n",
        "        else:\n",
        "            id_image = torch.squeeze((image.to(pti_global_config.device) + 1) / 2) * 255\n",
        "            w = w_projector.project(self.G, id_image, device=torch.device(pti_global_config.device), w_avg_samples=600,\n",
        "                                    num_steps=pti_hyperparameters.first_inv_steps, w_name=image_name,\n",
        "                                    use_wandb=self.use_wandb)\n",
        "\n",
        "        return w\n",
        "\n",
        "    @abc.abstractmethod\n",
        "    def train(self):\n",
        "        pass\n",
        "\n",
        "    def configure_optimizers(self):\n",
        "        optimizer = torch.optim.Adam(self.G.parameters(), lr=pti_hyperparameters.pti_learning_rate)\n",
        "\n",
        "        return optimizer\n",
        "\n",
        "    def calc_loss(self, generated_images, real_images, log_name, new_G, use_ball_holder, w_batch):\n",
        "        loss = 0.0\n",
        "\n",
        "        if pti_hyperparameters.pt_l2_lambda > 0:\n",
        "            l2_loss_val = l2_loss(generated_images, real_images)\n",
        "            loss += l2_loss_val * pti_hyperparameters.pt_l2_lambda\n",
        "        if pti_hyperparameters.pt_lpips_lambda > 0:\n",
        "            loss_lpips = self.lpips_loss(generated_images, real_images)\n",
        "            loss_lpips = torch.squeeze(loss_lpips)\n",
        "            loss += loss_lpips * pti_hyperparameters.pt_lpips_lambda\n",
        "\n",
        "        if use_ball_holder and pti_hyperparameters.use_locality_regularization:\n",
        "            ball_holder_loss_val = self.space_regulizer.space_regulizer_loss(new_G, w_batch, use_wandb=self.use_wandb)\n",
        "            loss += ball_holder_loss_val\n",
        "\n",
        "        return loss, l2_loss_val, loss_lpips\n",
        "\n",
        "    def forward(self, w):\n",
        "        generated_images = self.G.synthesis(w, noise_mode='const', force_fp32=True)\n",
        "\n",
        "        return generated_images\n",
        "\n",
        "    def initilize_e4e(self):\n",
        "        ckpt = torch.load(pti_path_config.e4e, map_location='cpu')\n",
        "        opts = ckpt['opts']\n",
        "        opts['batch_size'] = pti_hyperparameters.train_batch_size\n",
        "        opts['checkpoint_path'] = pti_path_config.e4e\n",
        "        opts = Namespace(**opts)\n",
        "        self.e4e_inversion_net = pSp(opts)\n",
        "        self.e4e_inversion_net.eval()\n",
        "        self.e4e_inversion_net = self.e4e_inversion_net.to(pti_global_config.device)\n",
        "        toogle_grad(self.e4e_inversion_net, False)\n",
        "\n",
        "    def get_e4e_inversion(self, image):\n",
        "        image = (image + 1) / 2\n",
        "        new_image = self.e4e_image_transform(image[0]).to(pti_global_config.device)\n",
        "        _, w = self.e4e_inversion_net(new_image.unsqueeze(0), randomize_noise=False, return_latents=True, resize=False,\n",
        "                                      input_code=False)\n",
        "        return w"
      ],
      "metadata": {
        "id": "spYjFMOB9oHh"
      },
      "execution_count": null,
      "outputs": []
    },
    {
      "cell_type": "code",
      "source": [
        "class SingleIDCoach(BaseCoach):\n",
        "\n",
        "    def __init__(self, data_loader, use_wandb):\n",
        "        super().__init__(data_loader, use_wandb)\n",
        "\n",
        "    def train(self):\n",
        "\n",
        "        w_path_dir = f'{pti_path_config.embedding_base_dir}/{pti_path_config.input_data_id}'\n",
        "        os.makedirs(w_path_dir, exist_ok=True)\n",
        "        os.makedirs(f'{w_path_dir}/{pti_path_config.pti_results_keyword}', exist_ok=True)\n",
        "\n",
        "        use_ball_holder = True\n",
        "\n",
        "        for fname, image in self.data_loader:\n",
        "            image_name = fname[0]\n",
        "\n",
        "            self.restart_training()\n",
        "\n",
        "            if self.image_counter >= pti_hyperparameters.max_images_to_invert:\n",
        "                break\n",
        "\n",
        "            embedding_dir = f'{w_path_dir}/{pti_path_config.pti_results_keyword}/{image_name}'\n",
        "            os.makedirs(embedding_dir, exist_ok=True)\n",
        "\n",
        "            w_pivot = None\n",
        "\n",
        "            if pti_hyperparameters.use_last_w_pivots:\n",
        "                w_pivot = self.load_inversions(w_path_dir, image_name)\n",
        "\n",
        "            elif not pti_hyperparameters.use_last_w_pivots or w_pivot is None:\n",
        "                w_pivot = self.calc_inversions(image, image_name)\n",
        "\n",
        "            # w_pivot = w_pivot.detach().clone().to(global_config.device)\n",
        "            w_pivot = w_pivot.to(pti_global_config.device)\n",
        "\n",
        "            torch.save(w_pivot, f'{embedding_dir}/0.pt')\n",
        "            log_images_counter = 0\n",
        "            real_images_batch = image.to(pti_global_config.device)\n",
        "\n",
        "            for i in range(pti_hyperparameters.max_pti_steps):\n",
        "\n",
        "                generated_images = self.forward(w_pivot)\n",
        "                loss, l2_loss_val, loss_lpips = self.calc_loss(generated_images, real_images_batch, image_name,\n",
        "                                                               self.G, use_ball_holder, w_pivot)\n",
        "                if i == 0:\n",
        "                    tmp1 = torch.clone(generated_images)\n",
        "                if i % 50 == 0:\n",
        "                    print(\"pti loss: \", i, loss.data, loss_lpips.data)\n",
        "                self.optimizer.zero_grad()\n",
        "\n",
        "                if loss_lpips <= pti_hyperparameters.LPIPS_value_threshold:\n",
        "                    break\n",
        "\n",
        "                loss.backward()\n",
        "                self.optimizer.step()\n",
        "\n",
        "                use_ball_holder = pti_global_config.training_step % pti_hyperparameters.locality_regularization_interval == 0\n",
        "\n",
        "                pti_global_config.training_step += 1\n",
        "                log_images_counter += 1\n",
        "\n",
        "            # save output image\n",
        "            tmp = torch.cat([real_images_batch, tmp1, generated_images], axis= 3)\n",
        "            save_image(tmp, f\"{pti_path_config.experiments_output_dir}/{image_name}.png\", normalize=True)\n",
        "\n",
        "\n",
        "            self.image_counter += 1\n",
        "\n",
        "            snapshot_data = dict()\n",
        "            snapshot_data['G_ema'] = self.G\n",
        "            import pickle\n",
        "            with open(f'{pti_path_config.checkpoints_dir}/model_{image_name}.pkl', 'wb') as f:\n",
        "                    pickle.dump(snapshot_data, f)"
      ],
      "metadata": {
        "id": "7wa7Vkg9-oEO"
      },
      "execution_count": null,
      "outputs": []
    },
    {
      "cell_type": "code",
      "source": [
        "def run_PTI(run_name=''):\n",
        "    os.environ['CUDA_DEVICE_ORDER'] = 'PCI_BUS_ID'\n",
        "    os.environ['CUDA_VISIBLE_DEVICES'] = pti_global_config.cuda_visible_devices\n",
        "\n",
        "    if run_name == '':\n",
        "        pti_global_config.run_name = ''.join(choice(ascii_uppercase) for i in range(12))\n",
        "    else:\n",
        "        pti_global_config.run_name = run_name\n",
        "\n",
        "    pti_global_config.pivotal_training_steps = 1\n",
        "    pti_global_config.training_step = 1\n",
        "\n",
        "    embedding_dir_path = f'output/pti/{image_name}'\n",
        "    os.makedirs(embedding_dir_path, exist_ok=True)\n",
        "\n",
        "    dataset = ImagesDataset(pti_path_config.input_data_path, transforms.Compose([\n",
        "        transforms.Resize((1024, 512)),\n",
        "        transforms.ToTensor(),\n",
        "        transforms.Normalize([0.5, 0.5, 0.5], [0.5, 0.5, 0.5])]))\n",
        "\n",
        "    dataloader = DataLoader(dataset, batch_size=1, shuffle=False)\n",
        "\n",
        "    coach = SingleIDCoach(dataloader, False)\n",
        "\n",
        "    coach.train()\n",
        "\n",
        "    return pti_global_config.run_name"
      ],
      "metadata": {
        "id": "VcSXiuiwV34_"
      },
      "execution_count": null,
      "outputs": []
    },
    {
      "cell_type": "markdown",
      "source": [
        "### usage"
      ],
      "metadata": {
        "id": "y7aQbJPxYpV2"
      }
    },
    {
      "cell_type": "markdown",
      "source": [
        "Actual usage of PTI.\n",
        "run_pti just returns the name of the running process, and saves the data within a folder"
      ],
      "metadata": {
        "id": "e5DcXQurXqnf"
      }
    },
    {
      "cell_type": "code",
      "source": [
        "_ = run_PTI()"
      ],
      "metadata": {
        "id": "3_62fbGcYrxP",
        "colab": {
          "base_uri": "https://localhost:8080/"
        },
        "outputId": "40e2c137-273d-414c-9e40-5757c60b2172"
      },
      "execution_count": null,
      "outputs": [
        {
          "output_type": "stream",
          "name": "stdout",
          "text": [
            "Loading e4e over the pSp framework from checkpoint: /content/AvatarGen_Part1/AvatarGen_Part1/e4e_w+.pt\n",
            "Setting up [LPIPS] perceptual loss: trunk [alex], v[0.1], spatial [off]\n"
          ]
        },
        {
          "output_type": "stream",
          "name": "stderr",
          "text": [
            "/usr/local/lib/python3.10/dist-packages/torchvision/models/_utils.py:208: UserWarning: The parameter 'pretrained' is deprecated since 0.13 and may be removed in the future, please use 'weights' instead.\n",
            "  warnings.warn(\n",
            "/usr/local/lib/python3.10/dist-packages/torchvision/models/_utils.py:223: UserWarning: Arguments other than a weight enum or `None` for 'weights' are deprecated since 0.13 and may be removed in the future. The current behavior is equivalent to passing `weights=AlexNet_Weights.IMAGENET1K_V1`. You can also use `weights=AlexNet_Weights.DEFAULT` to get the most up-to-date weights.\n",
            "  warnings.warn(msg)\n"
          ]
        },
        {
          "output_type": "stream",
          "name": "stdout",
          "text": [
            "Loading model from: /usr/local/lib/python3.10/dist-packages/lpips/weights/v0.1/alex.pth\n",
            "pti loss:  0 tensor(0.2967, device='cuda:0') tensor(0.2255, device='cuda:0')\n",
            "pti loss:  50 tensor(0.1461, device='cuda:0') tensor(0.1170, device='cuda:0')\n",
            "pti loss:  100 tensor(0.1081, device='cuda:0') tensor(0.0867, device='cuda:0')\n",
            "pti loss:  150 tensor(0.0893, device='cuda:0') tensor(0.0711, device='cuda:0')\n",
            "pti loss:  200 tensor(0.0770, device='cuda:0') tensor(0.0613, device='cuda:0')\n",
            "pti loss:  250 tensor(0.0664, device='cuda:0') tensor(0.0525, device='cuda:0')\n",
            "pti loss:  300 tensor(0.0580, device='cuda:0') tensor(0.0456, device='cuda:0')\n"
          ]
        }
      ]
    },
    {
      "cell_type": "code",
      "source": [
        "### load latent code from file\n",
        "\n",
        "pti_file = os.getcwd() +  f'/output/pti/embeddings/{image_name}/PTI/{image_name}/0.pt'\n",
        "\n",
        "latent_code = torch.load(pti_file)"
      ],
      "metadata": {
        "id": "v298qEbgTXf3"
      },
      "execution_count": null,
      "outputs": []
    },
    {
      "cell_type": "markdown",
      "source": [
        "## GNARF"
      ],
      "metadata": {
        "id": "fwV2YC_pZ5-9"
      }
    },
    {
      "cell_type": "markdown",
      "source": [
        "We are using GNARF to get the triplane representation of the latent code, to sample features\n",
        "GNARF is a model able to create 3D Human representations, but we don't need all of it.\n",
        "In here we are creating the environment needed for Gnarf, load a pre-trained model but then adjust the synthesis function to only get the triplane result."
      ],
      "metadata": {
        "id": "8oCN6vjgYSY8"
      }
    },
    {
      "cell_type": "markdown",
      "source": [
        "### download files for env"
      ],
      "metadata": {
        "id": "lhxJglbNmy8i"
      }
    },
    {
      "cell_type": "code",
      "source": [
        "!mkdir GNARF"
      ],
      "metadata": {
        "id": "T4A_Ng7MX2Ck"
      },
      "execution_count": null,
      "outputs": []
    },
    {
      "cell_type": "code",
      "source": [
        "os.chdir('GNARF')"
      ],
      "metadata": {
        "id": "SzOsANAoX6Li"
      },
      "execution_count": null,
      "outputs": []
    },
    {
      "cell_type": "code",
      "source": [
        "!gdown --id 1z4s_Wfbh6v4AM2LanZlNhLNlS046_yJh"
      ],
      "metadata": {
        "colab": {
          "base_uri": "https://localhost:8080/"
        },
        "id": "ka07AYDwenlr",
        "outputId": "edf73ac6-6839-4831-d7bb-f0ec00625969"
      },
      "execution_count": null,
      "outputs": [
        {
          "output_type": "stream",
          "name": "stdout",
          "text": [
            "/usr/local/lib/python3.10/dist-packages/gdown/cli.py:126: FutureWarning: Option `--id` was deprecated in version 4.3.1 and will be removed in 5.0. You don't need to pass it anymore to use a file ID.\n",
            "  warnings.warn(\n",
            "Downloading...\n",
            "From (uriginal): https://drive.google.com/uc?id=1z4s_Wfbh6v4AM2LanZlNhLNlS046_yJh\n",
            "From (redirected): https://drive.google.com/uc?id=1z4s_Wfbh6v4AM2LanZlNhLNlS046_yJh&confirm=t&uuid=74752ad2-9920-4f13-912d-d1acfca3a7b4\n",
            "To: /content/AvatarGen_Part1/GNARF/utils.zip\n",
            "100% 772M/772M [00:04<00:00, 191MB/s]\n"
          ]
        }
      ]
    },
    {
      "cell_type": "code",
      "source": [
        "!unzip -q utils\n",
        "!rm utils.zip"
      ],
      "metadata": {
        "id": "ttU2d0zCfIIb"
      },
      "execution_count": null,
      "outputs": []
    },
    {
      "cell_type": "markdown",
      "source": [
        "### load model and create triplane"
      ],
      "metadata": {
        "id": "odOm9bnAm8T5"
      }
    },
    {
      "cell_type": "code",
      "source": [
        "os.chdir('utils')"
      ],
      "metadata": {
        "id": "zU4oUqCrhZq2"
      },
      "execution_count": null,
      "outputs": []
    },
    {
      "cell_type": "code",
      "source": [
        "### our adjusted snythesis function to only get triplane\n",
        "\n",
        "from training.networks_stylegan2 import Generator as StyleGAN2Backbone\n",
        "\n",
        "def plane_synthesis(ws, c, neural_rendering_resolution=64, update_emas=False, cache_backbone=False, use_cached_backbone=False, **synthesis_kwargs):\n",
        "\n",
        "        backbone = StyleGAN2Backbone(z_dim=512, c_dim=107, w_dim=512, img_resolution = 256, img_channels=96)\n",
        "        device = torch.device(\"cuda:0\")\n",
        "        backbone = backbone.to(device)\n",
        "\n",
        "        cam2world_matrix = c[:, :16].view(-1, 4, 4)\n",
        "        intrinsics = c[:, 16:25].view(-1, 3, 3)\n",
        "\n",
        "        # Create triplanes by running StyleGAN backbone\n",
        "        planes = backbone.synthesis(ws, update_emas=update_emas)\n",
        "\n",
        "\n",
        "        # Reshape output into three 32-channel planes\n",
        "        planes = planes.view(len(planes), 3, 32, planes.shape[-2], planes.shape[-1])\n",
        "\n",
        "        return {'planes': planes}\n"
      ],
      "metadata": {
        "id": "qjkPsjvnNoal"
      },
      "execution_count": null,
      "outputs": []
    },
    {
      "cell_type": "code",
      "source": [
        "### load pre-trained model\n",
        "\n",
        "with open('AvatarGen_Part1/network-snapshot-004800.pkl', 'rb') as file:\n",
        "  gnarf_pretrained = pickle.load(file)\n",
        "\n",
        "Generator = gnarf_pretrained.get('G_ema').cuda()"
      ],
      "metadata": {
        "id": "dQK0u-Z1Z9nC"
      },
      "execution_count": null,
      "outputs": []
    },
    {
      "cell_type": "code",
      "source": [
        "## camera for shhq dataset taken from implementation\n",
        "### https://github.com/alexanderbergman7/GNARF/blob/89d2bfed9bf9937931e7922bdd66d43cc1d0125b/generate_video.py#L40C3-L40C3\n",
        "\n",
        "camera = np.array([1., 0., 0., -0.0132909, 0., 1., 0., -0.10394844, 0., 0., 1., -10.351759, 0., 0., 0., 1., 9.784736, 0., 0.5, 0., 4.8875856, 0.5, 0., 0., 1., -3.0198941, 0.01279547, 0.40898454])\n",
        "camera[16] /= 2\n",
        "\n",
        "device = torch.device('cuda', 0)\n",
        "\n",
        "c = torch.zeros(18, 107, device=device)\n",
        "c[:, :28] = torch.from_numpy(camera).to(device)"
      ],
      "metadata": {
        "id": "JOEduKsxfb05"
      },
      "execution_count": null,
      "outputs": []
    },
    {
      "cell_type": "code",
      "source": [
        "Generator = copy.deepcopy(Generator).eval().requires_grad_(False).to(device)"
      ],
      "metadata": {
        "id": "DMod5eCMjf35"
      },
      "execution_count": null,
      "outputs": []
    },
    {
      "cell_type": "code",
      "source": [
        "z_pti = latent_code.squeeze()"
      ],
      "metadata": {
        "id": "qB5QLf4Efyl9"
      },
      "execution_count": null,
      "outputs": []
    },
    {
      "cell_type": "code",
      "source": [
        "## get weitgghs from pre-trained model\n",
        "\n",
        "ws = Generator.mapping(z=z_pti, c=c)"
      ],
      "metadata": {
        "id": "Ij31EFvCO-Rl"
      },
      "execution_count": null,
      "outputs": []
    },
    {
      "cell_type": "code",
      "source": [
        "## actually create planes\n",
        "\n",
        "planes = plane_synthesis(ws=ws, c=c)"
      ],
      "metadata": {
        "id": "8628IoonP9T9",
        "colab": {
          "base_uri": "https://localhost:8080/"
        },
        "outputId": "e39c7214-95df-4ffe-da4f-85582b87f9c7"
      },
      "execution_count": null,
      "outputs": [
        {
          "output_type": "stream",
          "name": "stdout",
          "text": [
            "cuda:0\n",
            "torch.float32\n",
            "cuda:0\n",
            "torch.float32\n",
            "cuda:0\n",
            "torch.float32\n",
            "cuda:0\n",
            "torch.float32\n",
            "cuda:0\n",
            "torch.float32\n",
            "cuda:0\n",
            "torch.float32\n",
            "cuda:0\n",
            "torch.float32\n",
            "cuda:0\n",
            "torch.float32\n",
            "cuda:0\n",
            "torch.float32\n",
            "cuda:0\n",
            "torch.float32\n",
            "cuda:0\n",
            "torch.float32\n",
            "cuda:0\n",
            "torch.float32\n",
            "cuda:0\n",
            "torch.float32\n",
            "cuda:0\n",
            "torch.float32\n",
            "cuda:0\n",
            "torch.float32\n",
            "cuda:0\n",
            "torch.float32\n",
            "cuda:0\n",
            "torch.float32\n",
            "cuda:0\n",
            "torch.float32\n",
            "cuda:0\n",
            "torch.float32\n",
            "cuda:0\n",
            "torch.float32\n"
          ]
        }
      ]
    },
    {
      "cell_type": "code",
      "source": [
        "triplane = planes.get('planes')"
      ],
      "metadata": {
        "id": "POS9UpnxWwY3"
      },
      "execution_count": null,
      "outputs": []
    },
    {
      "cell_type": "markdown",
      "source": [
        "## PARE\n",
        "\n"
      ],
      "metadata": {
        "id": "RbWlmpkgljV8"
      }
    },
    {
      "cell_type": "markdown",
      "source": [
        "PARE is used to retrieve the pose of the human in the input image.\n",
        "Its implementation is taken from here: https://github.com/mkocabas/PARE/tree/master"
      ],
      "metadata": {
        "id": "2Tsnzu48ZjtA"
      }
    },
    {
      "cell_type": "markdown",
      "source": [
        "### utils"
      ],
      "metadata": {
        "id": "6isy2F2pmb3l"
      }
    },
    {
      "cell_type": "markdown",
      "source": [
        "Create all necesary helper functions and classes and create environment to actually run PARE within the notebook"
      ],
      "metadata": {
        "id": "drXQpvgaZ5oW"
      }
    },
    {
      "cell_type": "code",
      "source": [
        "if os.getcwd() == '/content/AvatarGen_Part1/GNARF/utils':\n",
        "  os.chdir('../..')\n",
        "elif not os.getcwd() == '/content/AvatarGen_Part1':\n",
        "  print(os.getcwd())\n",
        "  raise FileNotFoundError(\"Please check if you are in the right folder\")"
      ],
      "metadata": {
        "id": "ayEgR0_UXLwj"
      },
      "execution_count": null,
      "outputs": []
    },
    {
      "cell_type": "code",
      "source": [
        "from PARE_models.PAREConfig import update_hparams\n",
        "from PARE_models.PARE_utils.utils.train_utils import load_pretrained_model # this is heavy\n",
        "\n",
        "from PARE_models.PARE_utils.backbone import *\n",
        "from PARE_models.PARE_utils.head import PareHead, SMPLHead, SMPLCamHead\n",
        "from PARE_models.PARE_utils.backbone.utils import get_backbone_info\n",
        "from PARE_models.PARE_utils.backbone.hrnet import hrnet_w32, hrnet_w48"
      ],
      "metadata": {
        "id": "XrdSK0fwlqkg",
        "colab": {
          "base_uri": "https://localhost:8080/"
        },
        "outputId": "07beaea1-af83-4653-ddbd-bf183b4b524a"
      },
      "execution_count": null,
      "outputs": [
        {
          "output_type": "stream",
          "name": "stderr",
          "text": [
            "/content/AvatarGen_Part1/PARE_models/PARE_utils/backbone/hrnet.py:553: SyntaxWarning: \"is\" with a literal. Did you mean \"==\"?\n",
            "  or self.pretrained_layers[0] is '*':\n"
          ]
        }
      ]
    },
    {
      "cell_type": "code",
      "source": [
        "class PARE(nn.Module):\n",
        "    def __init__(\n",
        "            self,\n",
        "            num_joints=24,\n",
        "            softmax_temp=1.0,\n",
        "            num_features_smpl=64,\n",
        "            backbone='resnet50',\n",
        "            focal_length=5000.,\n",
        "            img_res=224,\n",
        "            pretrained=None,\n",
        "            iterative_regression=False,\n",
        "            iter_residual=False,\n",
        "            num_iterations=3,\n",
        "            shape_input_type='feats',  # 'feats.all_pose.shape.cam',\n",
        "            pose_input_type='feats', # 'feats.neighbor_pose_feats.all_pose.self_pose.neighbor_pose.shape.cam'\n",
        "            pose_mlp_num_layers=1,\n",
        "            shape_mlp_num_layers=1,\n",
        "            pose_mlp_hidden_size=256,\n",
        "            shape_mlp_hidden_size=256,\n",
        "            use_keypoint_features_for_smpl_regression=False,\n",
        "            use_heatmaps='',\n",
        "            use_keypoint_attention=False,\n",
        "            keypoint_attention_act='softmax',\n",
        "            use_postconv_keypoint_attention=False,\n",
        "            use_scale_keypoint_attention=False,\n",
        "            use_final_nonlocal=None,\n",
        "            use_branch_nonlocal=None,\n",
        "            use_hmr_regression=False,\n",
        "            use_coattention=False,\n",
        "            num_coattention_iter=1,\n",
        "            coattention_conv='simple',\n",
        "            deconv_conv_kernel_size=4,\n",
        "            use_upsampling=False,\n",
        "            use_soft_attention=False,\n",
        "            num_branch_iteration=0,\n",
        "            branch_deeper=False,\n",
        "            num_deconv_layers=3,\n",
        "            num_deconv_filters=256,\n",
        "            use_resnet_conv_hrnet=False,\n",
        "            use_position_encodings=None,\n",
        "            use_mean_camshape=False,\n",
        "            use_mean_pose=False,\n",
        "            init_xavier=False,\n",
        "            use_cam=False,\n",
        "    ):\n",
        "        super(PARE, self).__init__()\n",
        "        if backbone.startswith('hrnet'):\n",
        "            backbone, use_conv = backbone.split('-')\n",
        "            # hrnet_w32-conv, hrnet_w32-interp\n",
        "            self.backbone = eval(backbone)(\n",
        "                pretrained=True,\n",
        "                downsample=False,\n",
        "                use_conv=(use_conv == 'conv')\n",
        "            )\n",
        "        else:\n",
        "            self.backbone = eval(backbone)(pretrained=True)\n",
        "\n",
        "        # self.backbone = eval(backbone)(pretrained=True)\n",
        "        self.head = PareHead(\n",
        "            num_joints=num_joints,\n",
        "            num_input_features=get_backbone_info(backbone)['n_output_channels'],\n",
        "            softmax_temp=softmax_temp,\n",
        "            num_deconv_layers=num_deconv_layers,\n",
        "            num_deconv_filters=[num_deconv_filters] * num_deconv_layers,\n",
        "            num_deconv_kernels=[deconv_conv_kernel_size] * num_deconv_layers,\n",
        "            num_features_smpl=num_features_smpl,\n",
        "            final_conv_kernel=1,\n",
        "            iterative_regression=iterative_regression,\n",
        "            iter_residual=iter_residual,\n",
        "            num_iterations=num_iterations,\n",
        "            shape_input_type=shape_input_type,\n",
        "            pose_input_type=pose_input_type,\n",
        "            pose_mlp_num_layers=pose_mlp_num_layers,\n",
        "            shape_mlp_num_layers=shape_mlp_num_layers,\n",
        "            pose_mlp_hidden_size=pose_mlp_hidden_size,\n",
        "            shape_mlp_hidden_size=shape_mlp_hidden_size,\n",
        "            use_keypoint_features_for_smpl_regression=use_keypoint_features_for_smpl_regression,\n",
        "            use_heatmaps=use_heatmaps,\n",
        "            use_keypoint_attention=use_keypoint_attention,\n",
        "            use_postconv_keypoint_attention=use_postconv_keypoint_attention,\n",
        "            keypoint_attention_act=keypoint_attention_act,\n",
        "            use_scale_keypoint_attention=use_scale_keypoint_attention,\n",
        "            use_branch_nonlocal=use_branch_nonlocal, # 'concatenation', 'dot_product', 'embedded_gaussian', 'gaussian'\n",
        "            use_final_nonlocal=use_final_nonlocal, # 'concatenation', 'dot_product', 'embedded_gaussian', 'gaussian'\n",
        "            backbone=backbone,\n",
        "            use_hmr_regression=use_hmr_regression,\n",
        "            use_coattention=use_coattention,\n",
        "            num_coattention_iter=num_coattention_iter,\n",
        "            coattention_conv=coattention_conv,\n",
        "            use_upsampling=use_upsampling,\n",
        "            use_soft_attention=use_soft_attention,\n",
        "            num_branch_iteration=num_branch_iteration,\n",
        "            branch_deeper=branch_deeper,\n",
        "            use_resnet_conv_hrnet=use_resnet_conv_hrnet,\n",
        "            use_position_encodings=use_position_encodings,\n",
        "            use_mean_camshape=use_mean_camshape,\n",
        "            use_mean_pose=use_mean_pose,\n",
        "            init_xavier=init_xavier,\n",
        "        )\n",
        "\n",
        "        self.use_cam = use_cam\n",
        "        if self.use_cam:\n",
        "            self.smpl = SMPLCamHead(\n",
        "                img_res=img_res,\n",
        "            )\n",
        "        else:\n",
        "            self.smpl = SMPLHead(\n",
        "                focal_length=focal_length,\n",
        "                img_res=img_res\n",
        "            )\n",
        "\n",
        "        if pretrained is not None:\n",
        "            self.load_pretrained(pretrained)\n",
        "\n",
        "    def load_pretrained(self, file):\n",
        "        print(f'Loading pretrained weights from {file}')\n",
        "        state_dict = torch.load(file)\n",
        "        self.backbone.load_state_dict(state_dict, strict=False)\n",
        "        load_pretrained_model(self.head, state_dict=state_dict, strict=False, overwrite_shape_mismatch=True)\n",
        "\n",
        "    def forward(\n",
        "            self,\n",
        "            images,\n",
        "            cam_rotmat=None,\n",
        "            cam_intrinsics=None,\n",
        "            bbox_scale=None,\n",
        "            bbox_center=None,\n",
        "            img_w=None,\n",
        "            img_h=None,\n",
        "            gt_segm=None,\n",
        "    ):\n",
        "        features = self.backbone(images)\n",
        "        hmr_output = self.head(features, gt_segm=gt_segm)\n",
        "\n",
        "        if self.use_cam:\n",
        "            smpl_output = self.smpl(\n",
        "                rotmat=hmr_output['pred_pose'],\n",
        "                shape=hmr_output['pred_shape'],\n",
        "                cam=hmr_output['pred_cam'],\n",
        "                cam_rotmat=cam_rotmat,\n",
        "                cam_intrinsics=cam_intrinsics,\n",
        "                bbox_scale=bbox_scale,\n",
        "                bbox_center=bbox_center,\n",
        "                img_w=img_w,\n",
        "                img_h=img_h,\n",
        "                normalize_joints2d=True,\n",
        "            )\n",
        "            smpl_output.update(hmr_output)\n",
        "        else:\n",
        "            if isinstance(hmr_output['pred_pose'], list):\n",
        "                # if we have multiple smpl params prediction\n",
        "                # create a dictionary of lists per prediction\n",
        "                smpl_output = {\n",
        "                    'smpl_vertices': [],\n",
        "                    'smpl_joints3d': [],\n",
        "                    'smpl_joints2d': [],\n",
        "                    'pred_cam_t': [],\n",
        "                }\n",
        "                for idx in range(len(hmr_output['pred_pose'])):\n",
        "                    smpl_out = self.smpl(\n",
        "                        rotmat=hmr_output['pred_pose'][idx],\n",
        "                        shape=hmr_output['pred_shape'][idx],\n",
        "                        cam=hmr_output['pred_cam'][idx],\n",
        "                        normalize_joints2d=True,\n",
        "                    )\n",
        "                    for k, v in smpl_out.items():\n",
        "                        smpl_output[k].append(v)\n",
        "            else:\n",
        "                smpl_output = self.smpl(\n",
        "                    rotmat=hmr_output['pred_pose'],\n",
        "                    shape=hmr_output['pred_shape'],\n",
        "                    cam=hmr_output['pred_cam'],\n",
        "                    normalize_joints2d=True,\n",
        "                )\n",
        "                smpl_output.update(hmr_output)\n",
        "        return smpl_output"
      ],
      "metadata": {
        "id": "2mhfISPHmd96"
      },
      "execution_count": null,
      "outputs": []
    },
    {
      "cell_type": "code",
      "source": [
        "def generate_patch_image_cv(cvimg, c_x, c_y, bb_width, bb_height, patch_width, patch_height, scale, rot):\n",
        "    img = cvimg.copy()\n",
        "\n",
        "    trans = gen_trans_from_patch_cv(c_x, c_y, bb_width, bb_height, patch_width, patch_height, scale, rot)\n",
        "\n",
        "    img_patch = cv2.warpAffine(img, trans, (int(patch_width), int(patch_height)),\n",
        "                               flags=cv2.INTER_LINEAR, borderMode=cv2.BORDER_CONSTANT)\n",
        "    return img_patch\n",
        "\n",
        "def rotate_2d(pt_2d, rot_rad):\n",
        "    x = pt_2d[0]\n",
        "    y = pt_2d[1]\n",
        "    sn, cs = np.sin(rot_rad), np.cos(rot_rad)\n",
        "    xx = x * cs - y * sn\n",
        "    yy = x * sn + y * cs\n",
        "    return np.array([xx, yy], dtype=np.float32)\n",
        "\n",
        "def gen_trans_from_patch_cv(c_x, c_y, src_width, src_height, dst_width, dst_height, scale, rot):\n",
        "    # augment size with scale\n",
        "    src_w = src_width * scale\n",
        "    src_h = src_height * scale\n",
        "    src_center = np.zeros(2)\n",
        "    src_center[0] = c_x\n",
        "    src_center[1] = c_y # np.array([c_x, c_y], dtype=np.float32)\n",
        "    # augment rotation\n",
        "    rot_rad = np.pi * rot / 180\n",
        "    src_downdir = rotate_2d(np.array([0, src_h * 0.5], dtype=np.float32), rot_rad)\n",
        "    src_rightdir = rotate_2d(np.array([src_w * 0.5, 0], dtype=np.float32), rot_rad)\n",
        "\n",
        "    dst_w = dst_width\n",
        "    dst_h = dst_height\n",
        "    dst_center = np.array([dst_w * 0.5, dst_h * 0.5], dtype=np.float32)\n",
        "    dst_downdir = np.array([0, dst_h * 0.5], dtype=np.float32)\n",
        "    dst_rightdir = np.array([dst_w * 0.5, 0], dtype=np.float32)\n",
        "\n",
        "    src = np.zeros((3, 2), dtype=np.float32)\n",
        "    src[0, :] = src_center\n",
        "    src[1, :] = src_center + src_downdir\n",
        "    src[2, :] = src_center + src_rightdir\n",
        "\n",
        "    dst = np.zeros((3, 2), dtype=np.float32)\n",
        "    dst[0, :] = dst_center\n",
        "    dst[1, :] = dst_center + dst_downdir\n",
        "    dst[2, :] = dst_center + dst_rightdir\n",
        "\n",
        "    trans = cv2.getAffineTransform(np.float32(src), np.float32(dst))\n",
        "\n",
        "    return trans\n",
        "\n",
        "def get_single_image_crop(image, bbox, scale=1.2, crop_size=224):\n",
        "\n",
        "    if not isinstance(image, np.ndarray):\n",
        "        raise ('Unknown type for object', type(image))\n",
        "\n",
        "    if len(bbox) == 1:\n",
        "      bbox = bbox[0]\n",
        "\n",
        "    crop_image = generate_patch_image_cv(\n",
        "        cvimg=image.copy(),\n",
        "        c_x=bbox[0],\n",
        "        c_y=bbox[1],\n",
        "        bb_width=bbox[2],\n",
        "        bb_height=bbox[3],\n",
        "        patch_width=crop_size,\n",
        "        patch_height=crop_size,\n",
        "        scale=scale,\n",
        "        rot=0,\n",
        "    )\n",
        "\n",
        "    raw_image = crop_image.copy()\n",
        "\n",
        "    normalize = transforms.Normalize(\n",
        "        mean=[0.485, 0.456, 0.406], std=[0.229, 0.224, 0.225]\n",
        "    )\n",
        "    transform = transforms.Compose([\n",
        "        transforms.ToTensor(),\n",
        "        normalize,\n",
        "    ])\n",
        "\n",
        "    crop_image = transform(crop_image)\n",
        "\n",
        "    return crop_image, raw_image\n",
        "\n"
      ],
      "metadata": {
        "id": "JzZ95v2Wmh5q"
      },
      "execution_count": null,
      "outputs": []
    },
    {
      "cell_type": "code",
      "source": [
        "def convert_crop_coords_to_orig_img(bbox, keypoints, crop_size):\n",
        "\n",
        "    if len(bbox) == 1:\n",
        "      bbox = bbox[0]\n",
        "\n",
        "    # import IPython; IPython.embed(); exit()\n",
        "    cx, cy, h = bbox[0], bbox[1], bbox[2]\n",
        "\n",
        "    # unnormalize to crop coords\n",
        "    keypoints = 0.5 * crop_size * (keypoints + 1.0)\n",
        "\n",
        "    # rescale to orig img crop\n",
        "    keypoints *= h[..., None, None] / crop_size\n",
        "\n",
        "    # transform into original image coords\n",
        "    keypoints[:,:,0] = (cx - h/2)[..., None] + keypoints[:,:,0]\n",
        "    keypoints[:,:,1] = (cy - h/2)[..., None] + keypoints[:,:,1]\n",
        "    return keypoints\n",
        "\n",
        "\n",
        "def convert_crop_cam_to_orig_img(cam, bbox, img_width, img_height):\n",
        "    '''\n",
        "    Convert predicted camera from cropped image coordinates\n",
        "    to original image coordinates\n",
        "    :param cam (ndarray, shape=(3,)): weak perspective camera in cropped img coordinates\n",
        "    :param bbox (ndarray, shape=(4,)): bbox coordinates (c_x, c_y, h)\n",
        "    :param img_width (int): original image width\n",
        "    :param img_height (int): original image height\n",
        "    :return:\n",
        "    '''\n",
        "    if len(bbox) == 1:\n",
        "      bbox = bbox[0]\n",
        "\n",
        "    cx, cy, h = bbox[:,0], bbox[:,1], bbox[:,2]\n",
        "    hw, hh = img_width / 2., img_height / 2.\n",
        "    sx = cam[:,0] * (1. / (img_width / h))\n",
        "    sy = cam[:,0] * (1. / (img_height / h))\n",
        "    tx = ((cx - hw) / hw / sx) + cam[:,1]\n",
        "    ty = ((cy - hh) / hh / sy) + cam[:,2]\n",
        "    orig_cam = np.stack([sx, sy, tx, ty]).T\n",
        "    return orig_cam"
      ],
      "metadata": {
        "id": "X468fj8Hqfoc"
      },
      "execution_count": null,
      "outputs": []
    },
    {
      "cell_type": "markdown",
      "source": [
        "PARETester is our custom and rather lightweight implementation of PARE"
      ],
      "metadata": {
        "id": "2-0G3qiyaJz9"
      }
    },
    {
      "cell_type": "code",
      "source": [
        "class PARETester:\n",
        "    def __init__(self, args):\n",
        "        self.args = args\n",
        "        self.model_cfg = update_hparams(args.cfg)\n",
        "        self.device = torch.device('cuda') if torch.cuda.is_available() else torch.device('cpu')\n",
        "        self.model = self._build_model()\n",
        "        self._load_pretrained_model()\n",
        "        self.model.eval()\n",
        "\n",
        "    def _build_model(self):\n",
        "        # ========= Define PARE model ========= #\n",
        "        model_cfg = self.model_cfg\n",
        "\n",
        "        if model_cfg.METHOD == 'pare':\n",
        "            model = PARE(\n",
        "                backbone=model_cfg.PARE.BACKBONE,\n",
        "                num_joints=model_cfg.PARE.NUM_JOINTS,\n",
        "                softmax_temp=model_cfg.PARE.SOFTMAX_TEMP,\n",
        "                num_features_smpl=model_cfg.PARE.NUM_FEATURES_SMPL,\n",
        "                focal_length=model_cfg.DATASET.FOCAL_LENGTH,\n",
        "                img_res=model_cfg.DATASET.IMG_RES,\n",
        "                pretrained=model_cfg.TRAINING.PRETRAINED,\n",
        "                iterative_regression=model_cfg.PARE.ITERATIVE_REGRESSION,\n",
        "                num_iterations=model_cfg.PARE.NUM_ITERATIONS,\n",
        "                iter_residual=model_cfg.PARE.ITER_RESIDUAL,\n",
        "                shape_input_type=model_cfg.PARE.SHAPE_INPUT_TYPE,\n",
        "                pose_input_type=model_cfg.PARE.POSE_INPUT_TYPE,\n",
        "                pose_mlp_num_layers=model_cfg.PARE.POSE_MLP_NUM_LAYERS,\n",
        "                shape_mlp_num_layers=model_cfg.PARE.SHAPE_MLP_NUM_LAYERS,\n",
        "                pose_mlp_hidden_size=model_cfg.PARE.POSE_MLP_HIDDEN_SIZE,\n",
        "                shape_mlp_hidden_size=model_cfg.PARE.SHAPE_MLP_HIDDEN_SIZE,\n",
        "                use_keypoint_features_for_smpl_regression=model_cfg.PARE.USE_KEYPOINT_FEATURES_FOR_SMPL_REGRESSION,\n",
        "                use_heatmaps=model_cfg.DATASET.USE_HEATMAPS,\n",
        "                use_keypoint_attention=model_cfg.PARE.USE_KEYPOINT_ATTENTION,\n",
        "                use_postconv_keypoint_attention=model_cfg.PARE.USE_POSTCONV_KEYPOINT_ATTENTION,\n",
        "                use_scale_keypoint_attention=model_cfg.PARE.USE_SCALE_KEYPOINT_ATTENTION,\n",
        "                keypoint_attention_act=model_cfg.PARE.KEYPOINT_ATTENTION_ACT,\n",
        "                use_final_nonlocal=model_cfg.PARE.USE_FINAL_NONLOCAL,\n",
        "                use_branch_nonlocal=model_cfg.PARE.USE_BRANCH_NONLOCAL,\n",
        "                use_hmr_regression=model_cfg.PARE.USE_HMR_REGRESSION,\n",
        "                use_coattention=model_cfg.PARE.USE_COATTENTION,\n",
        "                num_coattention_iter=model_cfg.PARE.NUM_COATTENTION_ITER,\n",
        "                coattention_conv=model_cfg.PARE.COATTENTION_CONV,\n",
        "                use_upsampling=model_cfg.PARE.USE_UPSAMPLING,\n",
        "                deconv_conv_kernel_size=model_cfg.PARE.DECONV_CONV_KERNEL_SIZE,\n",
        "                use_soft_attention=model_cfg.PARE.USE_SOFT_ATTENTION,\n",
        "                num_branch_iteration=model_cfg.PARE.NUM_BRANCH_ITERATION,\n",
        "                branch_deeper=model_cfg.PARE.BRANCH_DEEPER,\n",
        "                num_deconv_layers=model_cfg.PARE.NUM_DECONV_LAYERS,\n",
        "                num_deconv_filters=model_cfg.PARE.NUM_DECONV_FILTERS,\n",
        "                use_resnet_conv_hrnet=model_cfg.PARE.USE_RESNET_CONV_HRNET,\n",
        "                use_position_encodings=model_cfg.PARE.USE_POS_ENC,\n",
        "                use_mean_camshape=model_cfg.PARE.USE_MEAN_CAMSHAPE,\n",
        "                use_mean_pose=model_cfg.PARE.USE_MEAN_POSE,\n",
        "                init_xavier=model_cfg.PARE.INIT_XAVIER,\n",
        "            ).to(self.device)\n",
        "        else:\n",
        "            print(f'{model_cfg.METHOD} is undefined!')\n",
        "            exit()\n",
        "\n",
        "        return model\n",
        "\n",
        "    def _load_pretrained_model(self):\n",
        "        # ========= Load pretrained weights ========= #\n",
        "        print(f'Loading pretrained model from {self.args.ckpt}')\n",
        "        ckpt = torch.load(self.args.ckpt)['state_dict']\n",
        "        load_pretrained_model(self.model, ckpt, overwrite_shape_mismatch=True, remove_lightning=True)\n",
        "        (f'Loaded pretrained weights from \\\"{self.args.ckpt}\\\"')\n",
        "\n",
        "    @torch.no_grad()\n",
        "    def run_on_image(self, image, detections):\n",
        "        joints2d = None\n",
        "        dets = detections[0]\n",
        "        det_idx = 0\n",
        "        img = cv2.cvtColor(cv2.imread(image), cv2.COLOR_BGR2RGB)\n",
        "        orig_height, orig_width = img.shape[:2]\n",
        "        inp_images = torch.zeros(len(dets), 3, self.model_cfg.DATASET.IMG_RES,\n",
        "                                 self.model_cfg.DATASET.IMG_RES, device=self.device, dtype=torch.float)\n",
        "        norm_joints2d = []\n",
        "        bbox = dets\n",
        "        norm_img, raw_img = get_single_image_crop(\n",
        "                    img,\n",
        "                    bbox,\n",
        "                    scale=1.0,\n",
        "                    crop_size=self.model_cfg.DATASET.IMG_RES\n",
        "                )\n",
        "\n",
        "        inp_images[det_idx] = norm_img.float().to(self.device)\n",
        "\n",
        "        output = self.model(inp_images)\n",
        "        for k, v in output.items():\n",
        "          output[k] = v.cpu().numpy()\n",
        "\n",
        "\n",
        "        smpl_joints2d = convert_crop_coords_to_orig_img(\n",
        "          bbox=dets,\n",
        "          keypoints=output['smpl_joints2d'],\n",
        "          crop_size=self.model_cfg.DATASET.IMG_RES,\n",
        "        )\n",
        "\n",
        "        output['bboxes'] = dets\n",
        "        output['smpl_joints2d'] = smpl_joints2d\n",
        "\n",
        "        orig_cam = convert_crop_cam_to_orig_img(\n",
        "                cam=output['pred_cam'],\n",
        "                bbox=[dets],\n",
        "                img_width=orig_width,\n",
        "                img_height=orig_height\n",
        "            )\n",
        "\n",
        "        output['origcam'] = orig_cam\n",
        "\n",
        "\n",
        "        del inp_images\n",
        "\n",
        "        return output"
      ],
      "metadata": {
        "id": "nE44v5rEqqBF"
      },
      "execution_count": null,
      "outputs": []
    },
    {
      "cell_type": "markdown",
      "source": [
        "### actual usage"
      ],
      "metadata": {
        "id": "JhthmWX-rmsI"
      }
    },
    {
      "cell_type": "code",
      "source": [
        "try:\n",
        "  os.chdir('PARE_models')\n",
        "except:\n",
        "  print(os.getcwd())"
      ],
      "metadata": {
        "id": "p2I32c2ydygv"
      },
      "execution_count": null,
      "outputs": []
    },
    {
      "cell_type": "code",
      "source": [
        "### download pre-trained models and configuration files into the PARE folder\n",
        "\n",
        "!gdown -q --folder https://drive.google.com/drive/folders/1PWmAzDg6v33kyLbG1TPEAeR7x4JGuJ08?usp=drive_link"
      ],
      "metadata": {
        "id": "qAU4mRWTrz18"
      },
      "execution_count": null,
      "outputs": []
    },
    {
      "cell_type": "code",
      "source": [
        "### custom starter class using the pre-defined\n",
        "\n",
        "class PAREStarter:\n",
        "  cfg ='data/pare_w_3dpw_config.yaml'\n",
        "  ckpt = 'data/pare_w_3dpw_checkpoint.ckpt'\n",
        "  yolo_img_size = 416\n",
        "\n",
        "actual_thing = PARETester(PAREStarter())"
      ],
      "metadata": {
        "id": "FZK_1ligroeK",
        "colab": {
          "base_uri": "https://localhost:8080/"
        },
        "outputId": "03445a4b-c2a2-46cf-d95b-482ae551016a"
      },
      "execution_count": null,
      "outputs": [
        {
          "output_type": "stream",
          "name": "stdout",
          "text": [
            "=> init weights from normal distribution\n",
            "IMPORTANT WARNING!! Please download pre-trained models if you are in TRAINING mode!\n",
            "\"Keypoint Attention\" should be activated to be able to use part segmentation\n",
            "Overriding use_keypoint_attention\n",
            "Keypoint attention is active\n",
            "WARNING: You are using a SMPL model, with only 10 shape coefficients.\n",
            "Loading pretrained model from data/pare_w_3dpw_checkpoint.ckpt\n",
            "Removing \"model.\" keyword from state_dict keys..\n"
          ]
        }
      ]
    },
    {
      "cell_type": "code",
      "source": [
        "### getbboxes from yolov\n",
        "dets = get_detections(image_file_path)"
      ],
      "metadata": {
        "id": "QzHdfBFQrrC9"
      },
      "execution_count": null,
      "outputs": []
    },
    {
      "cell_type": "code",
      "source": [
        "pare_output = actual_thing.run_on_image(resizes_file_path, dets)"
      ],
      "metadata": {
        "id": "qhzfl4O6r2lt"
      },
      "execution_count": null,
      "outputs": []
    },
    {
      "cell_type": "markdown",
      "source": [
        "## PARE-SMPL to STAR"
      ],
      "metadata": {
        "id": "uNrnG4PCr_3K"
      }
    },
    {
      "cell_type": "markdown",
      "source": [
        "One of our Goals was it to improove AvatarGen. One simple improvement was to use the newer and better version of SMPL called STAR.\n",
        "Since PARE unfortunately is fully trained and configured on SMPL we need to convert the created values to create the STAR Model.\n",
        "This implementation is taken directly from the STAR repo and can be found here: https://github.com/ahmedosman/STAR/blob/master/convertors/convert_smpl_to_star.py"
      ],
      "metadata": {
        "id": "gVmsN8Iha74T"
      }
    },
    {
      "cell_type": "markdown",
      "source": [
        "### utils"
      ],
      "metadata": {
        "id": "l_QvYqn2sEfv"
      }
    },
    {
      "cell_type": "markdown",
      "source": [
        "To create all the needed helper classes and functions to actually run PARE on the notebook"
      ],
      "metadata": {
        "id": "NLJl5psWbTSP"
      }
    },
    {
      "cell_type": "code",
      "source": [
        "os.chdir('../..')"
      ],
      "metadata": {
        "id": "LmX87dY9j7aG"
      },
      "execution_count": null,
      "outputs": []
    },
    {
      "cell_type": "code",
      "source": [
        "def quat2mat(quat):\n",
        "    '''\n",
        "        Converts a quaternion to a rotation matrix\n",
        "    :param quat:\n",
        "    :return:\n",
        "    '''\n",
        "    norm_quat = quat\n",
        "    norm_quat = norm_quat / norm_quat.norm(p=2, dim=1, keepdim=True)\n",
        "    w, x, y, z = norm_quat[:, 0], norm_quat[:, 1], norm_quat[:, 2], norm_quat[:, 3]\n",
        "    B = quat.size(0)\n",
        "    w2, x2, y2, z2 = w.pow(2), x.pow(2), y.pow(2), z.pow(2)\n",
        "    wx, wy, wz = w * x, w * y, w * z\n",
        "    xy, xz, yz = x * y, x * z, y * z\n",
        "    rotMat = torch.stack([w2 + x2 - y2 - z2, 2 * xy - 2 * wz, 2 * wy + 2 * xz,\n",
        "                          2 * wz + 2 * xy, w2 - x2 + y2 - z2, 2 * yz - 2 * wx,\n",
        "                          2 * xz - 2 * wy, 2 * wx + 2 * yz, w2 - x2 - y2 + z2], dim=1).view(B, 3, 3)\n",
        "    return rotMat\n",
        "\n",
        "\n",
        "def quat_feat(theta):\n",
        "    '''\n",
        "        Computes a normalized quaternion ([0,0,0,0]  when the body is in rest pose)\n",
        "        given joint angles\n",
        "    :param theta: A tensor of joints axis angles, batch size x number of joints x 3\n",
        "    :return:\n",
        "    '''\n",
        "    l1norm = torch.norm(theta + 1e-8, p=2, dim=1)\n",
        "    angle = torch.unsqueeze(l1norm, -1)\n",
        "    normalized = torch.div(theta, angle)\n",
        "    angle = angle * 0.5\n",
        "    v_cos = torch.cos(angle)\n",
        "    v_sin = torch.sin(angle)\n",
        "    quat = torch.cat([v_sin * normalized,v_cos-1], dim=1)\n",
        "    return quat\n",
        "\n",
        "def rodrigues(theta):\n",
        "    '''\n",
        "        Computes the rodrigues representation given joint angles\n",
        "\n",
        "    :param theta: batch_size x number of joints x 3\n",
        "    :return: batch_size x number of joints x 3 x 4\n",
        "    '''\n",
        "    l1norm = torch.norm(theta + 1e-8, p = 2, dim = 1)\n",
        "    angle = torch.unsqueeze(l1norm, -1)\n",
        "    normalized = torch.div(theta, angle)\n",
        "    angle = angle * 0.5\n",
        "    v_cos = torch.cos(angle)\n",
        "    v_sin = torch.sin(angle)\n",
        "    quat = torch.cat([v_cos, v_sin * normalized], dim = 1)\n",
        "    return quat2mat(quat)\n",
        "\n",
        "def with_zeros(input):\n",
        "    '''\n",
        "      Appends a row of [0,0,0,1] to a batch size x 3 x 4 Tensor\n",
        "\n",
        "    :param input: A tensor of dimensions batch size x 3 x 4\n",
        "    :return: A tensor batch size x 4 x 4 (appended with 0,0,0,1)\n",
        "    '''\n",
        "    batch_size  = input.shape[0]\n",
        "    row_append     = torch.cuda.FloatTensor(([0.0, 0.0, 0.0, 1.0]))\n",
        "    row_append.requires_grad = False\n",
        "    padded_tensor     = torch.cat([input, row_append.view(1, 1, 4).repeat(batch_size, 1, 1)], 1)\n",
        "    return padded_tensor\n"
      ],
      "metadata": {
        "id": "zzgJdsLhsClF"
      },
      "execution_count": null,
      "outputs": []
    },
    {
      "cell_type": "markdown",
      "source": [
        "Create the STAR class.\n",
        "STAR repo is here: https://github.com/ahmedosman/STAR/tree/master"
      ],
      "metadata": {
        "id": "9Z-XyriFboiK"
      }
    },
    {
      "cell_type": "code",
      "source": [
        "from __future__ import division\n",
        "\n",
        "class STAR(nn.Module):\n",
        "    def __init__(self,gender='female',num_betas=10):\n",
        "        super(STAR, self).__init__()\n",
        "\n",
        "        if gender not in ['male','female','neutral']:\n",
        "            raise RuntimeError('Invalid Gender')\n",
        "\n",
        "        if gender == 'male':\n",
        "            path_model = 'STAR/male/model.npz'\n",
        "        elif gender == 'female':\n",
        "            path_model = 'STAR/female/model.npz'\n",
        "        else:\n",
        "            path_model = 'STAR/neutral/model.npz'\n",
        "\n",
        "        if not os.path.exists(path_model):\n",
        "            raise RuntimeError('Path does not exist %s' % (path_model))\n",
        "        import numpy as np\n",
        "\n",
        "        star_model = np.load(path_model,allow_pickle=True)\n",
        "        J_regressor = star_model['J_regressor']\n",
        "        rows,cols = np.where(J_regressor!=0)\n",
        "        vals = J_regressor[rows,cols]\n",
        "        self.num_betas = num_betas\n",
        "\n",
        "        # Model sparse joints regressor, regresses joints location from a mesh\n",
        "        self.register_buffer('J_regressor', torch.cuda.FloatTensor(J_regressor))\n",
        "\n",
        "        # Model skinning weights\n",
        "        self.register_buffer('weights', torch.cuda.FloatTensor(star_model['weights']))\n",
        "        # Model pose corrective blend shapes\n",
        "        self.register_buffer('posedirs', torch.cuda.FloatTensor(star_model['posedirs'].reshape((-1,93))))\n",
        "        # Mean Shape\n",
        "        self.register_buffer('v_template', torch.cuda.FloatTensor(star_model['v_template']))\n",
        "        # Shape corrective blend shapes\n",
        "        self.register_buffer('shapedirs', torch.cuda.FloatTensor(np.array(star_model['shapedirs'][:,:,:num_betas])))\n",
        "        # Mesh traingles\n",
        "        self.register_buffer('faces', torch.from_numpy(star_model['f'].astype(np.int64)))\n",
        "        self.f = star_model['f']\n",
        "        # Kinematic tree of the model\n",
        "        self.register_buffer('kintree_table', torch.from_numpy(star_model['kintree_table'].astype(np.int64)))\n",
        "\n",
        "        id_to_col = {self.kintree_table[1, i].item(): i for i in range(self.kintree_table.shape[1])}\n",
        "        self.register_buffer('parent', torch.LongTensor(\n",
        "            [id_to_col[self.kintree_table[0, it].item()] for it in range(1, self.kintree_table.shape[1])]))\n",
        "\n",
        "        self.verts = None\n",
        "        self.J = None\n",
        "        self.R = None\n",
        "\n",
        "    def forward(self, pose, betas , trans):\n",
        "        '''\n",
        "            STAR forward pass given pose, betas (shape) and trans\n",
        "            return the model vertices and transformed joints\n",
        "        :param pose: pose  parameters - A batch size x 72 tensor (3 numbers for each joint)\n",
        "        :param beta: beta  parameters - A batch size x number of betas\n",
        "        :param beta: trans parameters - A batch size x 3\n",
        "        :return:\n",
        "                 v         : batch size x 6890 x 3\n",
        "                             The STAR model vertices\n",
        "                 v.v_vposed: batch size x 6890 x 3 model\n",
        "                             STAR vertices in T-pose after adding the shape\n",
        "                             blend shapes and pose blend shapes\n",
        "                 v.v_shaped: batch size x 6890 x 3\n",
        "                             STAR vertices in T-pose after adding the shape\n",
        "                             blend shapes and pose blend shapes\n",
        "                 v.J_transformed:batch size x 24 x 3\n",
        "                                Posed model joints.\n",
        "                 v.f: A numpy array of the model face.\n",
        "        '''\n",
        "        device = pose.device\n",
        "        batch_size = pose.shape[0]\n",
        "        v_template = self.v_template[None, :]\n",
        "        shapedirs  = self.shapedirs.view(-1, self.num_betas)[None, :].expand(batch_size, -1, -1)\n",
        "        beta = betas[:, :, None]\n",
        "        v_shaped = torch.matmul(shapedirs, beta).view(-1, 6890, 3) + v_template\n",
        "        J = torch.einsum('bik,ji->bjk', [v_shaped, self.J_regressor])\n",
        "\n",
        "        pose_quat = quat_feat(pose.view(-1, 3)).view(batch_size, -1)\n",
        "        pose_feat = torch.cat((pose_quat[:,4:],beta[:,1]),1)\n",
        "\n",
        "        R = rodrigues(pose.view(-1, 3)).view(batch_size, 24, 3, 3)\n",
        "        R = R.view(batch_size, 24, 3, 3)\n",
        "\n",
        "        posedirs = self.posedirs[None, :].expand(batch_size, -1, -1)\n",
        "        v_posed = v_shaped + torch.matmul(posedirs, pose_feat[:, :, None]).view(-1, 6890, 3)\n",
        "\n",
        "        J_ = J.clone()\n",
        "        J_[:, 1:, :] = J[:, 1:, :] - J[:, self.parent, :]\n",
        "        G_ = torch.cat([R, J_[:, :, :, None]], dim=-1)\n",
        "        pad_row = torch.FloatTensor([0, 0, 0, 1]).to(device).view(1, 1, 1, 4).expand(batch_size, 24, -1, -1)\n",
        "        G_ = torch.cat([G_, pad_row], dim=2)\n",
        "        G = [G_[:, 0].clone()]\n",
        "        for i in range(1, 24):\n",
        "            G.append(torch.matmul(G[self.parent[i - 1]], G_[:, i, :, :]))\n",
        "        G = torch.stack(G, dim=1)\n",
        "\n",
        "        rest = torch.cat([J, torch.zeros(batch_size, 24, 1).to(device)], dim=2).view(batch_size, 24, 4, 1)\n",
        "        zeros = torch.zeros(batch_size, 24, 4, 3).to(device)\n",
        "        rest = torch.cat([zeros, rest], dim=-1)\n",
        "        rest = torch.matmul(G, rest)\n",
        "        G = G - rest\n",
        "        T = torch.matmul(self.weights, G.permute(1, 0, 2, 3).contiguous().view(24, -1)).view(6890, batch_size, 4,4).transpose(0, 1)\n",
        "        rest_shape_h = torch.cat([v_posed, torch.ones_like(v_posed)[:, :, [0]]], dim=-1)\n",
        "        v = torch.matmul(T, rest_shape_h[:, :, :, None])[:, :, :3, 0]\n",
        "        v = v + trans[:,None,:]\n",
        "        v.f = self.f\n",
        "        v.v_posed = v_posed\n",
        "        v.v_shaped = v_shaped\n",
        "\n",
        "        root_transform = with_zeros(torch.cat((R[:,0],J[:,0][:,:,None]),2))\n",
        "        results =  [root_transform]\n",
        "        for i in range(0, self.parent.shape[0]):\n",
        "            transform_i = with_zeros(torch.cat((R[:, i + 1], J[:, i + 1][:,:,None] - J[:, self.parent[i]][:,:,None]), 2))\n",
        "            curr_res = torch.matmul(results[self.parent[i]],transform_i)\n",
        "            results.append(curr_res)\n",
        "        results = torch.stack(results, dim=1)\n",
        "        posed_joints = results[:, :, :3, 3]\n",
        "        v.J_transformed = posed_joints + trans[:,None,:]\n",
        "        return v\n"
      ],
      "metadata": {
        "id": "n4Wzky7CsUJN"
      },
      "execution_count": null,
      "outputs": []
    },
    {
      "cell_type": "code",
      "source": [
        "### to turn SMPL to STAR\n",
        "\n",
        "from torch.autograd import Variable\n",
        "\n",
        "def get_vert_connectivity(num_verts, mesh_f):\n",
        "    import scipy.sparse as sp\n",
        "    vpv = sp.csc_matrix((num_verts,num_verts))\n",
        "    def row(A):\n",
        "        return A.reshape((1, -1))\n",
        "    def col(A):\n",
        "        return A.reshape((-1, 1))\n",
        "    for i in range(3):\n",
        "        IS = mesh_f[:,i]\n",
        "        JS = mesh_f[:,(i+1)%3]\n",
        "        data = np.ones(len(IS))\n",
        "        ij = np.vstack((row(IS.flatten()), row(JS.flatten())))\n",
        "        mtx = sp.csc_matrix((data, ij), shape=vpv.shape)\n",
        "        vpv = vpv + mtx + mtx.T\n",
        "    return vpv\n",
        "\n",
        "def get_verts_per_edge(num_verts,faces):\n",
        "    import scipy.sparse as sp\n",
        "    vc = sp.coo_matrix(get_vert_connectivity(num_verts, faces))\n",
        "    def row(A):\n",
        "        return A.reshape((1, -1))\n",
        "    def col(A):\n",
        "        return A.reshape((-1, 1))\n",
        "    result = np.hstack((col(vc.row), col(vc.col)))\n",
        "    result = result[result[:,0] < result[:,1]]\n",
        "    return result\n",
        "\n",
        "def edge_loss(d,smpl):\n",
        "    vpe = get_verts_per_edge(6890,d.f)\n",
        "    edges_for = lambda x: x[:,vpe[:,0],:] - x[:,vpe[:,1],:]\n",
        "    edge_obj = edges_for(d) - edges_for(smpl)\n",
        "    return edge_obj\n",
        "\n",
        "def verts_loss(d,smpl):\n",
        "    return torch.sum((d-smpl)**2.0)\n",
        "\n",
        "def convert_smpl_2_star(smpl,MAX_ITER_EDGES,MAX_ITER_VERTS,NUM_BETAS,GENDER):\n",
        "    '''\n",
        "        Convert SMPL meshes to STAR\n",
        "    :param smpl:\n",
        "    :return:\n",
        "    '''\n",
        "    smpl = torch.cuda.FloatTensor(smpl)\n",
        "    batch_size = smpl.shape[0]\n",
        "    if batch_size > 32:\n",
        "        import warnings\n",
        "        warnings.warn(\n",
        "            'The Default optimization parameters (MAX_ITER_EDGES,MAX_ITER_VERTS) were tested on batch size 32 or smaller batches')\n",
        "\n",
        "    star = STAR(gender=GENDER)\n",
        "    global_pose = torch.cuda.FloatTensor(np.zeros((batch_size, 3)))\n",
        "    global_pose = Variable(global_pose, requires_grad=True)\n",
        "    joints_pose = torch.cuda.FloatTensor(np.zeros((batch_size, 72 - 3)))\n",
        "    joints_pose = Variable(joints_pose, requires_grad=True)\n",
        "    betas = torch.cuda.FloatTensor(np.zeros((batch_size, NUM_BETAS)))\n",
        "    betas = Variable(betas, requires_grad=True)\n",
        "    trans = torch.cuda.FloatTensor(np.zeros((batch_size, 3)))\n",
        "    trans = Variable(trans, requires_grad=True)\n",
        "    learning_rate = 1e-1\n",
        "    optimizer = torch.optim.LBFGS([global_pose], lr=learning_rate)\n",
        "    poses = torch.cat((global_pose, joints_pose), 1)\n",
        "    d = star(poses, betas, trans)\n",
        "    ########################################################################################################################\n",
        "    # Fitting the model with an on edges objective first\n",
        "    print('STAGE 1/2 - Fitting the Model on Edges Objective')\n",
        "    for t in range(MAX_ITER_EDGES):\n",
        "        poses = torch.cat((global_pose, joints_pose), 1)\n",
        "        d = star(poses, betas, trans)\n",
        "\n",
        "        def edge_loss_closure():\n",
        "            loss = torch.sum(edge_loss(d, smpl) ** 2.0)\n",
        "            return loss\n",
        "\n",
        "        optimizer.zero_grad()\n",
        "        edge_loss_closure().backward()\n",
        "        optimizer.step(edge_loss_closure)\n",
        "\n",
        "    optimizer = torch.optim.LBFGS([joints_pose], lr=learning_rate)\n",
        "    for t in range(MAX_ITER_EDGES):\n",
        "        poses = torch.cat((global_pose, joints_pose), 1)\n",
        "        d = star(poses, betas, trans)\n",
        "\n",
        "        def edge_loss_closure():\n",
        "            loss = torch.sum(edge_loss(d, smpl) ** 2.0)\n",
        "            return loss\n",
        "\n",
        "        optimizer.zero_grad()\n",
        "        edge_loss_closure().backward()\n",
        "        optimizer.step(edge_loss_closure)\n",
        "    ########################################################################################################################\n",
        "    # Fitting the model with an on vertices objective\n",
        "    print('STAGE 2/2 - Fitting the Model on a Vertex Objective')\n",
        "    optimizer = torch.optim.LBFGS([joints_pose, global_pose, trans, betas], lr=learning_rate)\n",
        "    for t in range(MAX_ITER_VERTS):\n",
        "        poses = torch.cat((global_pose, joints_pose), 1)\n",
        "        d = star(poses, betas, trans)\n",
        "\n",
        "        def vertex_closure():\n",
        "            loss = torch.sum(verts_loss(d, smpl) ** 2.0)\n",
        "            return loss\n",
        "\n",
        "        optimizer.zero_grad()\n",
        "        vertex_closure().backward()\n",
        "        optimizer.step(vertex_closure)\n",
        "\n",
        "    ########################################################################################################################\n",
        "    np_poses = poses.detach().cpu().numpy()\n",
        "    np_betas = betas.detach().cpu().numpy()\n",
        "    np_trans = trans.detach().cpu().numpy()\n",
        "    np_star_verts = d.detach().cpu().numpy()\n",
        "    ########################################################################################################################\n",
        "\n",
        "    return np_poses, np_betas, np_trans , np_star_verts"
      ],
      "metadata": {
        "id": "tAuPnBE9scc2"
      },
      "execution_count": null,
      "outputs": []
    },
    {
      "cell_type": "markdown",
      "source": [
        "Custom Helper functions to get the skinning weights and faces from STAR"
      ],
      "metadata": {
        "id": "CG_63S07b2CZ"
      }
    },
    {
      "cell_type": "code",
      "source": [
        "def get_skinning_weitghs(star_gender='female'):\n",
        "  model = STAR(gender=star_gender, num_betas=10)\n",
        "  return model.weights.cpu().numpy()\n",
        "\n",
        "def get_faces(star_gender='female'):\n",
        "  model = STAR(gender=star_gender, num_betas=10)\n",
        "  return model.f"
      ],
      "metadata": {
        "id": "PgCSN78nszFf"
      },
      "execution_count": null,
      "outputs": []
    },
    {
      "cell_type": "markdown",
      "source": [
        "### actual usage"
      ],
      "metadata": {
        "id": "e0_jUNR8sdx-"
      }
    },
    {
      "cell_type": "code",
      "source": [
        "os.chdir('/content/AvatarGen_Part1')"
      ],
      "metadata": {
        "id": "nxdOa1bd2uve"
      },
      "execution_count": null,
      "outputs": []
    },
    {
      "cell_type": "code",
      "source": [
        "### standard parameters for conversion to STAR\n",
        "\n",
        "opt_parms = {'MAX_ITER_EDGES':100 ,\n",
        "             'MAX_ITER_VERTS':1500,\n",
        "             'NUM_BETAS':10,\n",
        "             'GENDER': person_gender}"
      ],
      "metadata": {
        "id": "Yc-xa6ZksfeB"
      },
      "execution_count": null,
      "outputs": []
    },
    {
      "cell_type": "code",
      "source": [
        "smpl_vertices = pare_output.get('smpl_vertices')\n",
        "np_poses, np_betas, np_trans, star_verts = convert_smpl_2_star(smpl_vertices,**opt_parms)"
      ],
      "metadata": {
        "id": "LAzmGFtUshMJ",
        "colab": {
          "base_uri": "https://localhost:8080/"
        },
        "outputId": "938552a9-1717-47fd-dd9c-8abb8dab50bb"
      },
      "execution_count": null,
      "outputs": [
        {
          "output_type": "stream",
          "name": "stdout",
          "text": [
            "STAGE 1/2 - Fitting the Model on Edges Objective\n",
            "STAGE 2/2 - Fitting the Model on a Vertex Objective\n"
          ]
        }
      ]
    },
    {
      "cell_type": "code",
      "source": [
        "model = STAR(gender=person_gender, num_betas=10)"
      ],
      "metadata": {
        "id": "MhOxF02LspGH"
      },
      "execution_count": null,
      "outputs": []
    },
    {
      "cell_type": "code",
      "source": [
        "model = model.forward(torch.cuda.FloatTensor(np_poses),\n",
        "                      torch.cuda.FloatTensor(np_betas),\n",
        "                      torch.cuda.FloatTensor(np_trans))"
      ],
      "metadata": {
        "id": "evDJ1RTxs2N4"
      },
      "execution_count": null,
      "outputs": []
    },
    {
      "cell_type": "markdown",
      "source": [
        "We need the following Data to create our custom converter class"
      ],
      "metadata": {
        "id": "2coGudTXcJMB"
      }
    },
    {
      "cell_type": "code",
      "source": [
        "data_dict = {'vertices': model.squeeze(0).cpu().numpy(),\n",
        "             'faces': model.f,\n",
        "             'weights': get_skinning_weitghs(),\n",
        "             'pose': np_poses,\n",
        "             'j_transformed': model.J_transformed.cpu().numpy().squeeze(0),\n",
        "             'model_betas': np_betas,\n",
        "             'model_trans': np_trans,\n",
        "             'person_gender': person_gender}"
      ],
      "metadata": {
        "id": "eQpYZU1ptFHU"
      },
      "execution_count": null,
      "outputs": []
    },
    {
      "cell_type": "markdown",
      "source": [
        "## transformation to canonical space\n"
      ],
      "metadata": {
        "id": "r2-psT1ntQax"
      }
    },
    {
      "cell_type": "markdown",
      "source": [
        "This is a custom class created by us, which takes the Star Model, and creates and transforms the points needed for StyleSDFs volume rendering.\n",
        "Unfortunately this still runs on CPU, which makes the transformation take a really long time."
      ],
      "metadata": {
        "id": "1fNz5F11cQWE"
      }
    },
    {
      "cell_type": "markdown",
      "source": [
        "### reshaping of model and obtaining d zero values"
      ],
      "metadata": {
        "id": "lHon-ssPepf_"
      }
    },
    {
      "cell_type": "code",
      "source": [
        "class CanonicalSpaceConverter:\n",
        "    def __init__(self, vertices: np.ndarray = np.empty([6890, 3]),\n",
        "                 faces: np.ndarray = np.empty([13776, 3]),\n",
        "                 weights: np.ndarray = np.empty([6890, 24]),\n",
        "                 pose: np.ndarray = np.empty([1, 72]),\n",
        "                 j_transformed: np.ndarray = np.empty([24, 3]),\n",
        "                 model_betas = np.empty([1,10]),\n",
        "                 model_trans = np.empty([1,3]),\n",
        "                 person_gender = 'neutral',\n",
        "                 number_of_points: int = 100,\n",
        "                 field_of_sight: int = 6,\n",
        "                 pickle_file: str = ''):\n",
        "\n",
        "        if pickle_file != '':\n",
        "            with open(pickle_file, 'rb') as file:\n",
        "                data = pickle.load(file)\n",
        "            self.vertices = data.get('vertices', vertices)\n",
        "            self.faces = data.get('faces', faces)\n",
        "            self.weights = data.get('weights', weights)\n",
        "            self.pose = data.get('pose', pose)\n",
        "            self.joints = data.get('j_transformed', j_transformed),\n",
        "            self.model_betas = data.get('model_betas', model_betas),\n",
        "            self.model_trans = data.get('model_trans', model_trans),\n",
        "            self.person_gender = data.get('person_gender', person_gender)\n",
        "        else:\n",
        "            self.vertices = vertices\n",
        "            self.faces = faces\n",
        "            self.weights = weights\n",
        "            self.pose = pose\n",
        "            self.joints = j_transformed\n",
        "            self.model_betas = model_betas,\n",
        "            self.model_trans = model_trans,\n",
        "            self.person_gender = person_gender\n",
        "\n",
        "        self.original_verts = self.vertices\n",
        "        self.start_point = self.get_starting_point(0.3, 0.15)\n",
        "        self.points = self.generate_points_cone(number_of_points, 2 * field_of_sight)\n",
        "        self.trimesh = trimesh.Trimesh(vertices=self.vertices, faces=self.faces)\n",
        "        self.neutral_model_params = self.get_neutral_STAR_params()\n",
        "\n",
        "    def get_starting_point(self, azi, pol):\n",
        "        azi = math.radians(280)\n",
        "        pol = math.radians(120)\n",
        "\n",
        "        x = math.sin(azi) * math.cos(pol)\n",
        "        y = math.sin(azi) * math.sin(pol)\n",
        "        z = math.cos(azi)\n",
        "\n",
        "        return np.array([x, y, z])\n",
        "\n",
        "    def create_grid(self, circle_coordinates, cone_radius):\n",
        "      max_values = np.argmax(circle_coordinates, axis=0)\n",
        "      min_values = np.argmin(circle_coordinates, axis=0)\n",
        "\n",
        "      starting_point = np.array([circle_coordinates[min_values[0]][0],\n",
        "                                 circle_coordinates[max_values[1]][1],\n",
        "                                 circle_coordinates[max_values[2]][2]])\n",
        "\n",
        "      end_point = np.array([circle_coordinates[min_values[0]][0],\n",
        "                            circle_coordinates[max_values[1]][1],\n",
        "                            circle_coordinates[min_values[2]][2]])\n",
        "\n",
        "      points_side = np.linspace(starting_point, end_point, 63)\n",
        "\n",
        "      grid = np.empty((64,3))\n",
        "\n",
        "      for start_point in points_side:\n",
        "        grid = np.vstack((grid, np.linspace(start_point, start_point + cone_radius, 64)))\n",
        "\n",
        "      return grid\n",
        "\n",
        "\n",
        "    def generate_points_cone(self, num_points, field_of_view, distance=1, points_on_ray=24):\n",
        "        field_of_view_rad = math.radians(field_of_view)\n",
        "\n",
        "        direction_vector = np.array([0, 0, 0]) - self.start_point\n",
        "        direction_vector /= np.linalg.norm(direction_vector)\n",
        "        self.direction_vector = direction_vector\n",
        "\n",
        "        cone_center = direction_vector * distance\n",
        "        cone_radius = distance * math.tan(field_of_view_rad / 2)\n",
        "\n",
        "        thetas = np.linspace(0, 2*np.pi, num_points, endpoint=False)\n",
        "\n",
        "        end_points = np.empty((0,3),dtype=float)\n",
        "\n",
        "        x = cone_center[0] + cone_radius * np.cos(thetas)\n",
        "        y = cone_center[1] * np.ones_like(x)\n",
        "        z = cone_center[2] + cone_radius * np.sin(thetas)\n",
        "\n",
        "        points = np.column_stack((x, y, z))\n",
        "\n",
        "        end_points = self.create_grid(points, cone_radius)\n",
        "\n",
        "        for point in end_points:\n",
        "            line_points = np.linspace(self.start_point, point, points_on_ray-1)\n",
        "            end_points = np.vstack((end_points, line_points))\n",
        "\n",
        "        self.point_array = end_points\n",
        "\n",
        "        return np.reshape(end_points, (64, 64, 24, 3))\n",
        "\n",
        "    def get_neutral_STAR_params(self):\n",
        "      pose_neutral = torch.cuda.FloatTensor(np.zeros((1,72)))\n",
        "      neutral_model = STAR(gender=self.person_gender, num_betas=10)\n",
        "      neutral_model = neutral_model.forward(pose_neutral,\n",
        "                                            torch.cuda.FloatTensor(self.model_betas[0]),\n",
        "                                            torch.cuda.FloatTensor(self.model_trans))\n",
        "      joints = neutral_model.J_transformed.cpu().numpy().squeeze(0)\n",
        "      verts = neutral_model.squeeze(0).cpu().numpy()\n",
        "      return {'joints': joints[0], 'verts': verts}\n",
        "\n",
        "\n",
        "    def get_direction_nearest_vertice(self, point):\n",
        "        distances = np.linalg.norm(self.vertices - point, axis=1)\n",
        "        closest_vert_ind = np.argmin(distances)\n",
        "\n",
        "        direction_vector = self.vertices[closest_vert_ind] - point\n",
        "        direction_vector /= np.linalg.norm(direction_vector)\n",
        "\n",
        "        return direction_vector\n",
        "\n",
        "    def get_distance_two_points(self, p1, p2):\n",
        "      np1 = np.array(p1)\n",
        "      np2 = np.array(p2)\n",
        "\n",
        "      return np.sqrt(np.sum((np1-np2)**2))\n",
        "\n",
        "    def get_d_zeros(self):\n",
        "      d0 = []\n",
        "\n",
        "      for point in self.point_array:\n",
        "        direction_vector = self.get_direction_nearest_vertice(point)\n",
        "        is_inside = self.trimesh.contains([point])\n",
        "        intersection_point, _, _ = self.trimesh.ray.intersects_location(\n",
        "            ray_origins=[point],\n",
        "            ray_directions=[direction_vector])\n",
        "        if len(intersection_point) > 1: intersection_point = intersection_point[0]\n",
        "        signed_distance = self.get_distance_two_points(point, intersection_point)\n",
        "        if is_inside:\n",
        "          d0.append(-signed_distance)\n",
        "        else:\n",
        "          d0.append(signed_distance)\n",
        "\n",
        "      self.d0 = np.reshape(np.array(d0), (64, 64, 24, 1))\n",
        "\n",
        "      return self.d0\n",
        "\n",
        "    def get_euler_angles(self, point_neutral, point_transformed):\n",
        "      direction_vector =  - point_neutral - point_transformed\n",
        "      direction_vector /= np.linalg.norm(direction_vector)\n",
        "\n",
        "      yaw = np.arctan2(direction_vector[1],direction_vector[0])\n",
        "      pitch = np.arctan2(\n",
        "          np.sqrt(direction_vector[0]**2 + direction_vector[1]**2),\n",
        "          direction_vector[2])\n",
        "      roll = np.arctan2(\n",
        "          np.cos(pitch)*direction_vector[1]+np.sin(pitch) * direction_vector[2],\n",
        "          direction_vector[0])\n",
        "      return np.array([yaw, pitch, roll])\n",
        "\n",
        "\n",
        "    def get_joint_transformation_matrix(self):\n",
        "      translation = []\n",
        "      rotation = []\n",
        "      neutral_joints = self.neutral_model_params.get('joints')\n",
        "      for ind, joint in enumerate(self.joints):\n",
        "        trans = neutral_joints[ind] - joint\n",
        "        eulers = self.get_euler_angles(neutral_joints[ind], joint)\n",
        "        Rx = np.array(([0,0,1],\n",
        "                      [0, np.cos(eulers[0]), -np.sin(eulers[0])],\n",
        "                      [0, np.sin(eulers[0]), np.cos(eulers[0])]))\n",
        "        Ry = np.array(([np.cos(eulers[1]), 0, np.sin(eulers[1])],\n",
        "                      [0,1,0],\n",
        "                      [-np.sin(eulers[1]), 0, np.cos(eulers[1])]))\n",
        "        Rz = np.array(([np.cos(eulers[2]), -np.sin(eulers[2]), 0],\n",
        "                       [np.sin(eulers[2]), np.cos(eulers[2]), 0],\n",
        "                       [0,0,1]))\n",
        "        rotation_matrix = np.dot(np.dot(Rz, Ry), Rx)\n",
        "        translation_vector = np.array(trans)\n",
        "\n",
        "        translation.append(translation_vector)\n",
        "        rotation.append(rotation_matrix)\n",
        "\n",
        "      return np.array(translation), np.array(rotation)\n",
        "\n",
        "    def get_weight_nearest_point(self, point):\n",
        "        distances = np.linalg.norm(self.vertices - point, axis=1)\n",
        "        vert_index = np.argmin(distances)\n",
        "        return self.weights[vert_index]\n",
        "\n",
        "    def transform_point(self, point, translation, rotation):\n",
        "        weights = self.get_weight_nearest_point(point)\n",
        "\n",
        "        transformation = []\n",
        "\n",
        "        for i, weight in enumerate(weights):\n",
        "\n",
        "          transformed_point = weight * (np.dot(rotation[i],  point) + translation[i])\n",
        "          transformation.append(transformed_point)\n",
        "\n",
        "        return np.sum(np.array(transformation), axis=0)\n",
        "\n",
        "    def transform_model(self, full_model=False):\n",
        "      translation, rotation = self.get_joint_transformation_matrix()\n",
        "\n",
        "      transformed_points = []\n",
        "      for point in self.point_array:\n",
        "        transformed_points.append(self.transform_point(point, translation, rotation))\n",
        "\n",
        "      self.point_array = np.array(transformed_points)\n",
        "\n",
        "      if full_model:\n",
        "          self.vertices = self.neutral_model_params.get('verts')[0]\n",
        "          self.trimesh = trimesh.Trimesh(vertices=self.vertices, faces=self.faces)\n",
        "\n",
        "      self.points = np.reshape(self.point_array, (64, 64, 24, 3))\n",
        "\n",
        "      return self.points\n",
        "\n",
        "    def reset_model(self):\n",
        "        self.points = self.generate_points_cone(100, 2 * 12)\n",
        "        self.vertices = self.original_verts\n",
        "        self.trimesh = trimesh.Trimesh(vertices=self.vertices, faces=self.faces)\n",
        "\n",
        "    def show_render(self):\n",
        "        import pyrender\n",
        "        import trimesh\n",
        "\n",
        "        model_mesh = pyrender.Mesh.from_trimesh(self.trimesh)\n",
        "        scene = pyrender.Scene()\n",
        "\n",
        "        line = pyrender.Mesh.from_points(self.points, colors=[1, 0, 0])\n",
        "        scene.add(line)\n",
        "\n",
        "        scene.add(model_mesh)\n",
        "\n",
        "        pyrender.Viewer(scene, use_raymond_lighting=True)\n"
      ],
      "metadata": {
        "id": "bCFOfCVftT5v"
      },
      "execution_count": null,
      "outputs": []
    },
    {
      "cell_type": "code",
      "source": [
        "converter = CanonicalSpaceConverter(**data_dict)"
      ],
      "metadata": {
        "id": "ZsqK1vJ4trq3"
      },
      "execution_count": null,
      "outputs": []
    },
    {
      "cell_type": "code",
      "source": [
        "d_zero = converter.get_d_zeros()"
      ],
      "metadata": {
        "id": "ky9X-E6FxE9C"
      },
      "execution_count": null,
      "outputs": []
    },
    {
      "cell_type": "code",
      "source": [
        "points = converter.transform_model(full_model=True)"
      ],
      "metadata": {
        "id": "kJNCKsG42HnN"
      },
      "execution_count": null,
      "outputs": []
    },
    {
      "cell_type": "markdown",
      "source": [
        "### get point samples from TriPlane"
      ],
      "metadata": {
        "id": "kEoOn242rNDB"
      }
    },
    {
      "cell_type": "markdown",
      "source": [
        "Based on the earlier created TriPlane we use the transformed points and sample feature information, which is then later turned into colour and depth features"
      ],
      "metadata": {
        "id": "fnIjR1Lbeil3"
      }
    },
    {
      "cell_type": "code",
      "source": [
        "def generate_planes():\n",
        "    axis = torch.tensor([[[1, 0, 0],\n",
        "                            [0, 1, 0],\n",
        "                            [0, 0, 1]],\n",
        "                            [[1, 0, 0],\n",
        "                            [0, 0, 1],\n",
        "                            [0, 1, 0]],\n",
        "                            [[0, 0, 1],\n",
        "                            [1, 0, 0],\n",
        "                            [0, 1, 0]]], dtype=torch.float32)\n",
        "    return axis.to(torch.device('cuda', 0))\n",
        "\n",
        "def project_onto_planes(planes, coordinates):\n",
        "    \"\"\"\n",
        "    Does a projection of a 3D point onto a batch of 2D planes,\n",
        "    returning 2D plane coordinates.\n",
        "\n",
        "    Takes plane axes of shape n_planes, 3, 3\n",
        "    # Takes coordinates of shape N, M, 3\n",
        "    # returns projections of shape N*n_planes, M, 2\n",
        "    \"\"\"\n",
        "    N, M, C = coordinates.shape\n",
        "    n_planes, _, _ = planes.shape\n",
        "    coordinates = coordinates.unsqueeze(1).expand(-1, n_planes, -1, -1).reshape(N*n_planes, M, 3)\n",
        "    inv_planes = torch.linalg.inv(planes).unsqueeze(0).expand(N, -1, -1, -1).reshape(N*n_planes, 3, 3)\n",
        "    projections = torch.bmm(coordinates, inv_planes)\n",
        "    return projections[..., :2]\n",
        "\n",
        "def sample_from_planes(plane_features, coordinates):\n",
        "    plane_axes = generate_planes()\n",
        "    N, n_planes, C, H, W = plane_features.shape\n",
        "    _, M, _ = coordinates.shape\n",
        "    plane_features = plane_features.view(N*n_planes, C, H, W)\n",
        "\n",
        "    projected_coordinates = project_onto_planes(plane_axes, coordinates).unsqueeze(1)\n",
        "    output_features = torch.nn.functional.grid_sample(plane_features,\n",
        "                                                      projected_coordinates.float(),\n",
        "                                                      mode='bilinear',\n",
        "                                                      padding_mode='zeros',\n",
        "                                                      align_corners=False)\n",
        "    return output_features.permute(0, 3, 2, 1).reshape(N, n_planes, M, C)\n"
      ],
      "metadata": {
        "id": "MuedqMStrZ2r"
      },
      "execution_count": null,
      "outputs": []
    },
    {
      "cell_type": "code",
      "source": [
        "device = torch.device('cuda', 0)\n",
        "coordinates = converter.point_array\n",
        "points_tensor = torch.from_numpy(coordinates).unsqueeze(0).float()\n",
        "points_tensor = points_tensor.to(device)\n",
        "\n",
        "sampled_features = sample_from_planes(triplane[0].unsqueeze(0), points_tensor)"
      ],
      "metadata": {
        "id": "SBjc0jMCrWhk"
      },
      "execution_count": null,
      "outputs": []
    },
    {
      "cell_type": "code",
      "source": [
        "smapled_reshape = sampled_features.reshape(1,3,64,64,24,32)"
      ],
      "metadata": {
        "id": "a3Vrjj9MZIHg"
      },
      "execution_count": null,
      "outputs": []
    },
    {
      "cell_type": "markdown",
      "source": [
        "## create batches for training"
      ],
      "metadata": {
        "id": "RntfFDEQc5SZ"
      }
    },
    {
      "cell_type": "code",
      "source": [
        "os.chdir('../AvatarGen_Part1')"
      ],
      "metadata": {
        "id": "uSybHsnunO0F"
      },
      "execution_count": null,
      "outputs": []
    },
    {
      "cell_type": "code",
      "source": [
        "device = torch.device('cuda', 0)"
      ],
      "metadata": {
        "id": "6Jim-iPBz3fQ"
      },
      "execution_count": null,
      "outputs": []
    },
    {
      "cell_type": "code",
      "source": [
        "### helper functions for data creation\n",
        "\n",
        "def get_tri_plane(latent_code):\n",
        "\n",
        "  camera = np.array([1., 0., 0., -0.0132909, 0., 1., 0., -0.10394844, 0., 0., 1., -10.351759, 0., 0., 0., 1., 9.784736, 0., 0.5, 0., 4.8875856, 0.5, 0., 0., 1., -3.0198941, 0.01279547, 0.40898454])\n",
        "  camera[16] /= 2\n",
        "  c = torch.zeros(1, 107, device=device)\n",
        "  c[:, :28] = torch.from_numpy(camera).to(device)\n",
        "\n",
        "  Generator = gnarf_pretrained.get('G_ema').cuda()\n",
        "\n",
        "  Generator = copy.deepcopy(Generator).eval().requires_grad_(False).to(device)\n",
        "\n",
        "  ws = Generator.mapping(z=latent_code, c=c)\n",
        "\n",
        "  planes = plane_synthesis(ws=ws, c=c)\n",
        "\n",
        "  return ws, planes.get('planes')\n",
        "\n",
        "def get_converter_params(pose, betas, trans):\n",
        "\n",
        "  star_model = STAR(gender='neutral', num_betas=10)\n",
        "\n",
        "  pose = np.expand_dims(pose, axis=0)\n",
        "  betas = np.expand_dims(betas, axis=0)\n",
        "  trans = np.expand_dims(trans, axis=0)\n",
        "\n",
        "  model = star_model.forward(torch.cuda.FloatTensor(pose),\n",
        "                             torch.cuda.FloatTensor(betas),\n",
        "                             torch.cuda.FloatTensor(trans))\n",
        "\n",
        "  verts = model.squeeze(0).cpu().numpy()\n",
        "  faces = star_model.f\n",
        "  weitghs = star_model.weights.cpu().numpy()\n",
        "  j_transformed = model.J_transformed.cpu().numpy().squeeze(0)\n",
        "\n",
        "\n",
        "  data_dict = {'vertices': verts, 'faces': faces, 'weights': weitghs,\n",
        "             'pose': pose, 'j_transformed': j_transformed, 'model_betas': betas,\n",
        "             'model_trans': trans, 'person_gender': 'neutral'}\n",
        "\n",
        "  return data_dict\n",
        "\n",
        "def get_tri_plane_features(points, triplane):\n",
        "  points_tensor = torch.from_numpy(points).unsqueeze(0).float()\n",
        "  points_tensor = points_tensor.to(device)\n",
        "\n",
        "  sampled_features = sample_from_planes(triplane, points_tensor)\n",
        "\n",
        "  sampled_features = sampled_features.mean(1).reshape(64,64,24,32)\n",
        "\n",
        "  return sampled_features.cpu().detach().numpy()"
      ],
      "metadata": {
        "id": "iOZEX-58c-F7"
      },
      "execution_count": null,
      "outputs": []
    },
    {
      "cell_type": "code",
      "source": [
        "def get_params(batch_size, seed=1):\n",
        "\n",
        "  # just any seed actually\n",
        "\n",
        "  features = []\n",
        "  d_zeros = []\n",
        "  converted_points = []\n",
        "  gnarf_ws = []\n",
        "\n",
        "  for batch in range(batch_size):\n",
        "    z_rnd = torch.from_numpy(np.random.RandomState(seed).randn(1, 512)).to(device)\n",
        "    pose_rnd = (np.random.rand(72) - 0.5) * 0.4\n",
        "    shape_rnd = (np.random.rand(10) - 0.5) * 0.06\n",
        "    trans = np.zeros(3)\n",
        "\n",
        "    ws, triplane = get_tri_plane(z_rnd)\n",
        "    gnarf_ws.append(ws.cpu().squeeze())\n",
        "\n",
        "    converter_params = get_converter_params(pose_rnd, shape_rnd, trans)\n",
        "    converter = CanonicalSpaceConverter(**converter_params)\n",
        "\n",
        "    d_0 = converter.get_d_zeros()\n",
        "    d_zeros.append(d_0)\n",
        "\n",
        "    points = converter.transform_model(full_model=True)\n",
        "    converted_points.append(points)\n",
        "\n",
        "    coordinates = converter.point_array\n",
        "\n",
        "    tri_plane_features = get_tri_plane_features(coordinates, triplane)\n",
        "\n",
        "    features.append(tri_plane_features)\n",
        "\n",
        "    print(batch)\n",
        "\n",
        "  return {'points': np.stack(converted_points, axis=0),\n",
        "          'd_zeros': np.stack(d_zeros, axis=0),\n",
        "          'features': np.stack(features, axis=0),\n",
        "          'ws': np.stack(gnarf_ws, axis=0)}\n"
      ],
      "metadata": {
        "id": "EVmDaPAJCGr4"
      },
      "execution_count": null,
      "outputs": []
    },
    {
      "cell_type": "code",
      "source": [
        "params = get_params(3)"
      ],
      "metadata": {
        "id": "-4UpSjwdmM5H",
        "colab": {
          "base_uri": "https://localhost:8080/"
        },
        "outputId": "b858a38e-6684-4d8a-d3f5-cf58dd932592",
        "collapsed": true
      },
      "execution_count": null,
      "outputs": [
        {
          "output_type": "stream",
          "name": "stdout",
          "text": [
            "cuda:0\n",
            "torch.float32\n",
            "cuda:0\n",
            "torch.float32\n",
            "cuda:0\n",
            "torch.float32\n",
            "cuda:0\n",
            "torch.float32\n",
            "cuda:0\n",
            "torch.float32\n",
            "cuda:0\n",
            "torch.float32\n",
            "cuda:0\n",
            "torch.float32\n",
            "cuda:0\n",
            "torch.float32\n",
            "cuda:0\n",
            "torch.float32\n",
            "cuda:0\n",
            "torch.float32\n",
            "cuda:0\n",
            "torch.float32\n",
            "cuda:0\n",
            "torch.float32\n",
            "cuda:0\n",
            "torch.float32\n",
            "cuda:0\n",
            "torch.float32\n",
            "cuda:0\n",
            "torch.float32\n",
            "cuda:0\n",
            "torch.float32\n",
            "cuda:0\n",
            "torch.float32\n",
            "cuda:0\n",
            "torch.float32\n",
            "cuda:0\n",
            "torch.float32\n",
            "cuda:0\n",
            "torch.float32\n",
            "0\n",
            "cuda:0\n",
            "torch.float32\n",
            "cuda:0\n",
            "torch.float32\n",
            "cuda:0\n",
            "torch.float32\n",
            "cuda:0\n",
            "torch.float32\n",
            "cuda:0\n",
            "torch.float32\n",
            "cuda:0\n",
            "torch.float32\n",
            "cuda:0\n",
            "torch.float32\n",
            "cuda:0\n",
            "torch.float32\n",
            "cuda:0\n",
            "torch.float32\n",
            "cuda:0\n",
            "torch.float32\n",
            "cuda:0\n",
            "torch.float32\n",
            "cuda:0\n",
            "torch.float32\n",
            "cuda:0\n",
            "torch.float32\n",
            "cuda:0\n",
            "torch.float32\n",
            "cuda:0\n",
            "torch.float32\n",
            "cuda:0\n",
            "torch.float32\n",
            "cuda:0\n",
            "torch.float32\n",
            "cuda:0\n",
            "torch.float32\n",
            "cuda:0\n",
            "torch.float32\n",
            "cuda:0\n",
            "torch.float32\n",
            "1\n",
            "cuda:0\n",
            "torch.float32\n",
            "cuda:0\n",
            "torch.float32\n",
            "cuda:0\n",
            "torch.float32\n",
            "cuda:0\n",
            "torch.float32\n",
            "cuda:0\n",
            "torch.float32\n",
            "cuda:0\n",
            "torch.float32\n",
            "cuda:0\n",
            "torch.float32\n",
            "cuda:0\n",
            "torch.float32\n",
            "cuda:0\n",
            "torch.float32\n",
            "cuda:0\n",
            "torch.float32\n",
            "cuda:0\n",
            "torch.float32\n",
            "cuda:0\n",
            "torch.float32\n",
            "cuda:0\n",
            "torch.float32\n",
            "cuda:0\n",
            "torch.float32\n",
            "cuda:0\n",
            "torch.float32\n",
            "cuda:0\n",
            "torch.float32\n",
            "cuda:0\n",
            "torch.float32\n",
            "cuda:0\n",
            "torch.float32\n",
            "cuda:0\n",
            "torch.float32\n",
            "cuda:0\n",
            "torch.float32\n",
            "2\n"
          ]
        }
      ]
    },
    {
      "cell_type": "code",
      "source": [
        "for k,v in params.items():\n",
        "  print(f'key: {k}, type: {type(v)}, shape: {v.shape}')"
      ],
      "metadata": {
        "colab": {
          "base_uri": "https://localhost:8080/",
          "height": 196
        },
        "id": "QqLUuvFIDTPM",
        "outputId": "856542ca-eeb2-4ec5-f83a-bd046318f70d",
        "collapsed": true
      },
      "execution_count": null,
      "outputs": [
        {
          "output_type": "error",
          "ename": "NameError",
          "evalue": "ignored",
          "traceback": [
            "\u001b[0;31m---------------------------------------------------------------------------\u001b[0m",
            "\u001b[0;31mNameError\u001b[0m                                 Traceback (most recent call last)",
            "\u001b[0;32m<ipython-input-1-d7b4148ad766>\u001b[0m in \u001b[0;36m<cell line: 1>\u001b[0;34m()\u001b[0m\n\u001b[0;32m----> 1\u001b[0;31m \u001b[0;32mfor\u001b[0m \u001b[0mk\u001b[0m\u001b[0;34m,\u001b[0m\u001b[0mv\u001b[0m \u001b[0;32min\u001b[0m \u001b[0mparams\u001b[0m\u001b[0;34m.\u001b[0m\u001b[0mitems\u001b[0m\u001b[0;34m(\u001b[0m\u001b[0;34m)\u001b[0m\u001b[0;34m:\u001b[0m\u001b[0;34m\u001b[0m\u001b[0;34m\u001b[0m\u001b[0m\n\u001b[0m\u001b[1;32m      2\u001b[0m   \u001b[0mprint\u001b[0m\u001b[0;34m(\u001b[0m\u001b[0;34mf'key: {k}, type: {type(v)}, shape: {v.shape}'\u001b[0m\u001b[0;34m)\u001b[0m\u001b[0;34m\u001b[0m\u001b[0;34m\u001b[0m\u001b[0m\n",
            "\u001b[0;31mNameError\u001b[0m: name 'params' is not defined"
          ]
        }
      ]
    },
    {
      "cell_type": "markdown",
      "source": [
        "### StyleSDF\n",
        "\n",
        "The training code only updated for the volume rendering training. As we could not add the StyleSDF to the pipeline, the training code for the full-pipeline was not adjusted."
      ],
      "metadata": {
        "id": "eBnl6r-oSWIp"
      }
    },
    {
      "cell_type": "code",
      "source": [
        "### The dataset must be converted into a multi size dataset, convert dataset into lmdb format with sizes 64, 128, 512...\n",
        "###!python prepare_data.py --out_path /content/StyleSDF/data /content/drive/MyDrive/style_sdf_data/images/data --n_worker 4"
      ],
      "metadata": {
        "id": "dRXdbhSZSXsk"
      },
      "execution_count": null,
      "outputs": []
    },
    {
      "cell_type": "code",
      "source": [
        "!gdown --folder 1Drx-TZESQXwuHf6oN480vBV_QMMqDfaN\n",
        "!cp /content/avatargen_stylestf/model.py -d /content/StyleSDF/\n",
        "!cp /content/avatargen_stylestf/volume_renderer.py -d /content/StyleSDF/"
      ],
      "metadata": {
        "id": "7vveGc6Z-hH9",
        "outputId": "0ec2a47d-8421-4260-bf01-756be4ab0b4f",
        "colab": {
          "base_uri": "https://localhost:8080/"
        },
        "collapsed": true
      },
      "execution_count": null,
      "outputs": [
        {
          "output_type": "stream",
          "name": "stdout",
          "text": [
            "Retrieving folder list\n",
            "Processing file 1-DIwX8bDQ_-4lHeKSgEvlVs39gvkIDg0 model.py\n",
            "Processing file 1-CrMHqXMd3LDWjpKS8reUFAuC8gn23sR volume_renderer.py\n",
            "Retrieving folder list completed\n",
            "Building directory structure\n",
            "Building directory structure completed\n",
            "Downloading...\n",
            "From: https://drive.google.com/uc?id=1-DIwX8bDQ_-4lHeKSgEvlVs39gvkIDg0\n",
            "To: /content/avatargen_stylestf/model.py\n",
            "100% 33.7k/33.7k [00:00<00:00, 66.3MB/s]\n",
            "Downloading...\n",
            "From: https://drive.google.com/uc?id=1-CrMHqXMd3LDWjpKS8reUFAuC8gn23sR\n",
            "To: /content/avatargen_stylestf/volume_renderer.py\n",
            "100% 15.4k/15.4k [00:00<00:00, 49.3MB/s]\n",
            "Download completed\n"
          ]
        }
      ]
    },
    {
      "cell_type": "code",
      "source": [
        "%cd StyleSDF"
      ],
      "metadata": {
        "id": "CrwrOhSvAInO"
      },
      "execution_count": null,
      "outputs": []
    },
    {
      "cell_type": "code",
      "source": [
        "import argparse\n",
        "import math\n",
        "import random\n",
        "import os\n",
        "import yaml\n",
        "import numpy as np\n",
        "import torch\n",
        "import torch.distributed as dist\n",
        "from torch import nn, autograd, optim\n",
        "from torch.nn import functional as F\n",
        "from torch.utils import data\n",
        "from torchvision import transforms, utils\n",
        "from tqdm import tqdm\n",
        "from PIL import Image\n",
        "from losses import *\n",
        "from options import BaseOptions\n",
        "from model import Generator, VolumeRenderDiscriminator\n",
        "from dataset import MultiResolutionDataset\n",
        "from utils import data_sampler, requires_grad, accumulate, sample_data, make_noise, mixing_noise, generate_camera_params\n",
        "from distributed import get_rank, synchronize, reduce_loss_dict, reduce_sum, get_world_size\n",
        "\n",
        "try:\n",
        "    import wandb\n",
        "except ImportError:\n",
        "    wandb = None\n",
        "\n",
        "\n",
        "def train(opt, experiment_opt, loader, generator, discriminator, g_optim, d_optim, g_ema, device):\n",
        "    loader = sample_data(loader)\n",
        "\n",
        "    mean_path_length = 0\n",
        "\n",
        "    d_loss_val = 0\n",
        "    r1_loss = torch.tensor(0.0, device=device)\n",
        "    d_view_loss = torch.tensor(0.0, device=device)\n",
        "    g_view_loss = torch.tensor(0.0, device=device)\n",
        "    g_eikonal = torch.tensor(0.0, device=device)\n",
        "    g_minimal_surface = torch.tensor(0.0, device=device)\n",
        "\n",
        "    g_loss_val = 0\n",
        "    loss_dict = {}\n",
        "\n",
        "    viewpoint_condition = opt.view_lambda > 0\n",
        "\n",
        "    if opt.distributed:\n",
        "        g_module = generator.module\n",
        "        d_module = discriminator.module\n",
        "    else:\n",
        "        g_module = generator\n",
        "        d_module = discriminator\n",
        "\n",
        "    accum = 0.5 ** (32 / (10 * 1000))\n",
        "\n",
        "    sample_features = [torch.randn(3,64,64,24,32).to(device).repeat_interleave(8,dim=0)] ### For 8 different angle\n",
        "    sample_pts = [torch.randn(3, 64,64,24,3).to(device).repeat_interleave(8,dim=0)]\n",
        "    sample_d0s = [torch.randn(3, 64,64,24,1).to(device).repeat_interleave(8,dim=0)]\n",
        "    sample_ws = [torch.randn(3, opt.style_dim, 2).to(device).repeat_interleave(8,dim=0)]\n",
        "\n",
        "    sample_cam_extrinsics, sample_focals, sample_near, sample_far, _ = generate_camera_params(opt.renderer_output_size, device, batch=opt.val_n_sample, sweep=True,\n",
        "                                                                                         uniform=opt.camera.uniform, azim_range=opt.camera.azim,\n",
        "                                                                                         elev_range=opt.camera.elev, fov_ang=opt.camera.fov,\n",
        "                                                                                         dist_radius=opt.camera.dist_radius)\n",
        "\n",
        "    if opt.with_sdf and opt.sphere_init and opt.start_iter == 0:\n",
        "        init_pbar = range(10000)\n",
        "        if get_rank() == 0:\n",
        "            init_pbar = tqdm(init_pbar, initial=0, dynamic_ncols=True, smoothing=0.01)\n",
        "\n",
        "        generator.zero_grad()\n",
        "        for idx in init_pbar:\n",
        "            init_features = torch.randn(3,64,64,24,32).to(device)\n",
        "            init_pts = torch.randn(3, 64,64,24,3).to(device)\n",
        "            init_d0s = torch.randn(3, 64,64,24,1).to(device)\n",
        "            init_ws = torch.randn(3, opt.style_dim, 2).to(device)\n",
        "            cam_extrinsics, focal, near, far, gt_viewpoints = generate_camera_params(opt.renderer_output_size, device, batch=3,\n",
        "                                                                                uniform=opt.camera.uniform, azim_range=opt.camera.azim,\n",
        "                                                                                elev_range=opt.camera.elev, fov_ang=opt.camera.fov,\n",
        "                                                                                dist_radius=opt.camera.dist_radius)\n",
        "            sdf, target_values = g_module.init_forward(init_features, init_pts, init_d0s, init_ws, cam_extrinsics, focal, near, far)\n",
        "            loss = F.l1_loss(sdf, target_values)\n",
        "            loss.backward()\n",
        "            g_optim.step()\n",
        "            generator.zero_grad()\n",
        "            if get_rank() == 0:\n",
        "                init_pbar.set_description((f\"MLP init to sphere procedure - Loss: {loss.item():.4f}\"))\n",
        "\n",
        "        accumulate(g_ema, g_module, 0)\n",
        "        torch.save(\n",
        "            {\n",
        "                \"g\": g_module.state_dict(),\n",
        "                \"d\": d_module.state_dict(),\n",
        "                \"g_ema\": g_ema.state_dict(),\n",
        "            },\n",
        "            os.path.join(opt.checkpoints_dir, experiment_opt.expname, f\"sdf_init_models_{str(0).zfill(7)}.pt\")\n",
        "        )\n",
        "        print('Successfully saved checkpoint for SDF initialized MLP.')\n",
        "\n",
        "    pbar = range(opt.iter)\n",
        "    if get_rank() == 0:\n",
        "        pbar = tqdm(pbar, initial=opt.start_iter, dynamic_ncols=True, smoothing=0.01)\n",
        "\n",
        "    for idx in pbar:\n",
        "        i = idx + opt.start_iter\n",
        "\n",
        "        if i > opt.iter:\n",
        "            print(\"Done!\")\n",
        "\n",
        "            break\n",
        "\n",
        "        requires_grad(generator, False)\n",
        "        requires_grad(discriminator, True)\n",
        "        discriminator.zero_grad()\n",
        "        _, real_imgs = next(loader)\n",
        "        real_imgs = real_imgs.to(device)\n",
        "        params = get_params(opt.batch)\n",
        "        features = params[\"features\"]\n",
        "        d_zeros = params[\"d_zeros\"]\n",
        "        pts = params[\"points\"]\n",
        "        ws = params[\"ws\"]\n",
        "        batch_features = torch.from_numpy(features)\n",
        "        batch_pts = torch.from_numpy(pts)\n",
        "        batch_d_zeros = torch.from_numpy(d_zeros)\n",
        "        batch_ws = torch.from_numpy(ws)\n",
        "        cam_extrinsics, focal, near, far, gt_viewpoints = generate_camera_params(opt.renderer_output_size, device, batch=opt.batch,\n",
        "                                                                            uniform=opt.camera.uniform, azim_range=opt.camera.azim,\n",
        "                                                                            elev_range=opt.camera.elev, fov_ang=opt.camera.fov,\n",
        "                                                                            dist_radius=opt.camera.dist_radius)\n",
        "        ### Discriminator training\n",
        "        gen_imgs = []\n",
        "        for j in range(0, opt.batch, opt.chunk):\n",
        "            points = batch_pts[j:j+opt.chunk]\n",
        "            tmp_features = batch_features[j:j+opt.chunk]\n",
        "            tmp_sdf = batch_d_zeros[j:j+opt.chunk]\n",
        "            tmp_ws = batch_ws[j:j+opt.chunk]\n",
        "            _, fake_img = generator(tmp_features, points, tmp_ws, tmp_sdf,\n",
        "                                    cam_extrinsics[j:j+opt.chunk],\n",
        "                                    focal[j:j+opt.chunk],\n",
        "                                    near[j:j+opt.chunk],\n",
        "                                    far[j:j+opt.chunk])\n",
        "\n",
        "            gen_imgs += [fake_img]\n",
        "\n",
        "        gen_imgs = torch.cat(gen_imgs, 0)\n",
        "        fake_pred, fake_viewpoint_pred = discriminator(gen_imgs.detach())\n",
        "        if viewpoint_condition:\n",
        "            d_view_loss = opt.view_lambda * viewpoints_loss(fake_viewpoint_pred, gt_viewpoints)\n",
        "\n",
        "        real_imgs.requires_grad = True\n",
        "        real_pred, _ = discriminator(real_imgs)\n",
        "        d_gan_loss = d_logistic_loss(real_pred, fake_pred)\n",
        "        grad_penalty = d_r1_loss(real_pred, real_imgs)\n",
        "        r1_loss = opt.r1 * 0.5 * grad_penalty\n",
        "        d_loss = d_gan_loss + r1_loss + d_view_loss\n",
        "        d_loss.backward()\n",
        "        d_optim.step()\n",
        "\n",
        "        loss_dict[\"d\"] = d_gan_loss\n",
        "        loss_dict[\"r1\"] = r1_loss\n",
        "        loss_dict[\"d_view\"] = d_view_loss\n",
        "        loss_dict[\"real_score\"] = real_pred.mean()\n",
        "        loss_dict[\"fake_score\"] = fake_pred.mean()\n",
        "\n",
        "        requires_grad(generator, True)\n",
        "        requires_grad(discriminator, False)\n",
        "\n",
        "        ### Generator training\n",
        "        for j in range(0, opt.batch, opt.chunk):\n",
        "            points = batch_pts[j:j+opt.chunk]\n",
        "            tmp_features = batch_features[j:j+opt.chunk]\n",
        "            tmp_sdf = batch_d_zeros[j:j+opt.chunk]\n",
        "            tmp_ws = batch_ws[j:j+opt.chunk]\n",
        "            cam_extrinsics, focal, near, far, curr_gt_viewpoints = generate_camera_params(opt.renderer_output_size, device, batch=opt.chunk,\n",
        "                                                                                     uniform=opt.camera.uniform, azim_range=opt.camera.azim,\n",
        "                                                                                     elev_range=opt.camera.elev, fov_ang=opt.camera.fov,\n",
        "                                                                                     dist_radius=opt.camera.dist_radius)\n",
        "\n",
        "            out = generator(tmp_features, points, tmp_ws, tmp_sdf, cam_extrinsics, focal, near, far,\n",
        "                            return_sdf=opt.min_surf_lambda > 0,\n",
        "                            return_eikonal=opt.eikonal_lambda > 0)\n",
        "            fake_img  = out[1]\n",
        "            if opt.min_surf_lambda > 0:\n",
        "                sdf = out[2]\n",
        "            if opt.eikonal_lambda > 0:\n",
        "                eikonal_term = out[3]\n",
        "\n",
        "            fake_pred, fake_viewpoint_pred = discriminator(fake_img)\n",
        "            if viewpoint_condition:\n",
        "                g_view_loss = opt.view_lambda * viewpoints_loss(fake_viewpoint_pred, curr_gt_viewpoints)\n",
        "\n",
        "            if opt.with_sdf and opt.eikonal_lambda > 0:\n",
        "                g_eikonal, g_minimal_surface = eikonal_loss(eikonal_term, sdf=sdf if opt.min_surf_lambda > 0 else None,\n",
        "                                                            beta=opt.min_surf_beta)\n",
        "                g_eikonal = opt.eikonal_lambda * g_eikonal\n",
        "                if opt.min_surf_lambda > 0:\n",
        "                    g_minimal_surface = opt.min_surf_lambda * g_minimal_surface\n",
        "\n",
        "            g_gan_loss = g_nonsaturating_loss(fake_pred)\n",
        "            g_loss = g_gan_loss + g_view_loss + g_eikonal + g_minimal_surface\n",
        "            g_loss.backward()\n",
        "\n",
        "        g_optim.step()\n",
        "        generator.zero_grad()\n",
        "        loss_dict[\"g\"] = g_gan_loss\n",
        "        loss_dict[\"g_view\"] = g_view_loss\n",
        "        loss_dict[\"g_eikonal\"] = g_eikonal\n",
        "        loss_dict[\"g_minimal_surface\"] = g_minimal_surface\n",
        "\n",
        "        accumulate(g_ema, g_module, accum)\n",
        "\n",
        "        loss_reduced = reduce_loss_dict(loss_dict)\n",
        "        d_loss_val = loss_reduced[\"d\"].mean().item()\n",
        "        g_loss_val = loss_reduced[\"g\"].mean().item()\n",
        "        r1_val = loss_reduced[\"r1\"].mean().item()\n",
        "        real_score_val = loss_reduced[\"real_score\"].mean().item()\n",
        "        fake_score_val = loss_reduced[\"fake_score\"].mean().item()\n",
        "        d_view_val = loss_reduced[\"d_view\"].mean().item()\n",
        "        g_view_val = loss_reduced[\"g_view\"].mean().item()\n",
        "        g_eikonal_loss = loss_reduced[\"g_eikonal\"].mean().item()\n",
        "        g_minimal_surface_loss = loss_reduced[\"g_minimal_surface\"].mean().item()\n",
        "        g_beta_val = g_module.renderer.sigmoid_beta.item() if opt.with_sdf else 0\n",
        "\n",
        "        if get_rank() == 0:\n",
        "            pbar.set_description(\n",
        "                (f\"d: {d_loss_val:.4f}; g: {g_loss_val:.4f}; r1: {r1_val:.4f}; viewpoint: {d_view_val+g_view_val:.4f}; eikonal: {g_eikonal_loss:.4f}; surf: {g_minimal_surface_loss:.4f}\")\n",
        "            )\n",
        "\n",
        "            if i % 1000 == 0:\n",
        "                with torch.no_grad():\n",
        "                    samples = torch.Tensor(0, 3, opt.renderer_output_size, opt.renderer_output_size)\n",
        "                    step_size = 4\n",
        "                    mean_latent = g_module.mean_latent(10000, device)\n",
        "                    for k in range(0, opt.val_n_sample * 8, step_size):\n",
        "                        _, curr_samples = g_ema([sample_z[0][k:k+step_size]],\n",
        "                                                sample_cam_extrinsics[k:k+step_size],\n",
        "                                                sample_focals[k:k+step_size],\n",
        "                                                sample_near[k:k+step_size],\n",
        "                                                sample_far[k:k+step_size],\n",
        "                                                truncation=0.7,\n",
        "                                                truncation_latent=mean_latent,)\n",
        "                        samples = torch.cat([samples, curr_samples.cpu()], 0)\n",
        "\n",
        "                    if i % 10000 == 0:\n",
        "                        utils.save_image(samples,\n",
        "                            os.path.join(opt.checkpoints_dir, experiment_opt.expname, 'volume_renderer', f\"samples/{str(i).zfill(7)}.png\"),\n",
        "                            nrow=int(opt.val_n_sample),\n",
        "                            normalize=True,\n",
        "                            value_range=(-1, 1),)\n",
        "\n",
        "            if wandb and opt.wandb:\n",
        "                wandb_log_dict = {\"Generator\": g_loss_val,\n",
        "                                  \"Discriminator\": d_loss_val,\n",
        "                                  \"R1\": r1_val,\n",
        "                                  \"Real Score\": real_score_val,\n",
        "                                  \"Fake Score\": fake_score_val,\n",
        "                                  \"D viewpoint\": d_view_val,\n",
        "                                  \"G viewpoint\": g_view_val,\n",
        "                                  \"G eikonal loss\": g_eikonal_loss,\n",
        "                                  \"G minimal surface loss\": g_minimal_surface_loss,\n",
        "                                  }\n",
        "                if opt.with_sdf:\n",
        "                    wandb_log_dict.update({\"Beta value\": g_beta_val})\n",
        "\n",
        "                if i % 1000 == 0:\n",
        "                    wandb_grid = utils.make_grid(samples, nrow=int(opt.val_n_sample),\n",
        "                                                   normalize=True, value_range=(-1, 1))\n",
        "                    wandb_ndarr = (255 * wandb_grid.permute(1, 2, 0).numpy()).astype(np.uint8)\n",
        "                    wandb_images = Image.fromarray(wandb_ndarr)\n",
        "                    wandb_log_dict.update({\"examples\": [wandb.Image(wandb_images,\n",
        "                                            caption=\"Generated samples for azimuth angles of: -35, -25, -15, -5, 5, 15, 25, 35 degrees.\")]})\n",
        "\n",
        "                wandb.log(wandb_log_dict)\n",
        "\n",
        "            if i % 10000 == 0 or (i < 10000 and i % 1000 == 0):\n",
        "                torch.save(\n",
        "                    {\n",
        "                        \"g\": g_module.state_dict(),\n",
        "                        \"d\": d_module.state_dict(),\n",
        "                        \"g_ema\": g_ema.state_dict(),\n",
        "                    },\n",
        "                    os.path.join(opt.checkpoints_dir, experiment_opt.expname, 'volume_renderer', f\"models_{str(i).zfill(7)}.pt\")\n",
        "                )\n",
        "                print('Successfully saved checkpoint for iteration {}.'.format(i))\n",
        "\n",
        "    if get_rank() == 0:\n",
        "        # create final model directory\n",
        "        final_model_path = 'pretrained_renderer'\n",
        "        os.makedirs(final_model_path, exist_ok=True)\n",
        "        torch.save(\n",
        "            {\n",
        "                \"g\": g_module.state_dict(),\n",
        "                \"d\": d_module.state_dict(),\n",
        "                \"g_ema\": g_ema.state_dict(),\n",
        "            },\n",
        "            os.path.join(final_model_path, experiment_opt.expname + '_vol_renderer.pt')\n",
        "        )\n",
        "        print('Successfully saved final model.')"
      ],
      "metadata": {
        "id": "YbBZ4kBgoLKT"
      },
      "execution_count": null,
      "outputs": []
    },
    {
      "cell_type": "code",
      "source": [
        "device = \"cuda\"\n",
        "opt = BaseOptions().parse()\n",
        "opt.model.freeze_renderer = False\n",
        "opt.model.no_viewpoint_loss = opt.training.view_lambda == 0.0\n",
        "opt.training.camera = opt.camera\n",
        "opt.training.renderer_output_size = opt.model.renderer_spatial_output_dim\n",
        "opt.training.style_dim = opt.model.style_dim\n",
        "opt.training.with_sdf = not opt.rendering.no_sdf\n",
        "if opt.training.with_sdf and opt.training.min_surf_lambda > 0:\n",
        "    opt.rendering.return_sdf = True\n",
        "opt.training.iter = 200001\n",
        "opt.rendering.no_features_output = True\n",
        "\n",
        "### Set options for AvatarGen training\n",
        "opt.batch = 16\n",
        "opt.chunk = 8\n",
        "opt.style_dim = 32 ### Triplane feature dim per plane\n",
        "\n",
        "n_gpu = int(os.environ[\"WORLD_SIZE\"]) if \"WORLD_SIZE\" in os.environ else 1\n",
        "opt.training.distributed = n_gpu > 1\n",
        "\n",
        "if opt.training.distributed:\n",
        "    torch.cuda.set_device(int(os.environ[\"LOCAL_RANK\"]))\n",
        "    torch.distributed.init_process_group(backend=\"nccl\", init_method=\"env://\")\n",
        "    synchronize()\n",
        "\n",
        "# create checkpoints directories\n",
        "os.makedirs(os.path.join(opt.training.checkpoints_dir, opt.experiment.expname, 'volume_renderer'), exist_ok=True)\n",
        "os.makedirs(os.path.join(opt.training.checkpoints_dir, opt.experiment.expname, 'volume_renderer', 'samples'), exist_ok=True)\n",
        "\n",
        "discriminator = VolumeRenderDiscriminator(opt.model).to(device)\n",
        "generator = Generator(opt.model, opt.rendering, full_pipeline=False).to(device)\n",
        "g_ema = Generator(opt.model, opt.rendering, ema=True, full_pipeline=False).to(device)\n",
        "\n",
        "g_ema.eval()\n",
        "accumulate(g_ema, generator, 0)\n",
        "g_optim = optim.Adam(generator.parameters(), lr=2e-5, betas=(0, 0.9))\n",
        "d_optim = optim.Adam(discriminator.parameters(), lr=2e-4, betas=(0, 0.9))\n",
        "\n",
        "opt.training.start_iter = 0\n",
        "\n",
        "if opt.experiment.continue_training and opt.experiment.ckpt is not None:\n",
        "    if get_rank() == 0:\n",
        "        print(\"load model:\", opt.experiment.ckpt)\n",
        "    ckpt_path = os.path.join(opt.training.checkpoints_dir,\n",
        "                              opt.experiment.expname,\n",
        "                              'models_{}.pt'.format(opt.experiment.ckpt.zfill(7)))\n",
        "    ckpt = torch.load(ckpt_path, map_location=lambda storage, loc: storage)\n",
        "\n",
        "    try:\n",
        "        opt.training.start_iter = int(opt.experiment.ckpt) + 1\n",
        "\n",
        "    except ValueError:\n",
        "        pass\n",
        "\n",
        "    generator.load_state_dict(ckpt[\"g\"])\n",
        "    discriminator.load_state_dict(ckpt[\"d\"])\n",
        "    g_ema.load_state_dict(ckpt[\"g_ema\"])\n",
        "    if \"g_optim\" in ckpt.keys():\n",
        "        g_optim.load_state_dict(ckpt[\"g_optim\"])\n",
        "        d_optim.load_state_dict(ckpt[\"d_optim\"])\n",
        "\n",
        "sphere_init_path = './pretrained_renderer/sphere_init.pt'\n",
        "if opt.training.no_sphere_init:\n",
        "    opt.training.sphere_init = False\n",
        "elif not opt.experiment.continue_training and opt.training.with_sdf and os.path.isfile(sphere_init_path):\n",
        "    if get_rank() == 0:\n",
        "        print(\"loading sphere inititialized model\")\n",
        "    ckpt = torch.load(sphere_init_path, map_location=lambda storage, loc: storage)\n",
        "    generator.load_state_dict(ckpt[\"g\"])\n",
        "    discriminator.load_state_dict(ckpt[\"d\"])\n",
        "    g_ema.load_state_dict(ckpt[\"g_ema\"])\n",
        "    opt.training.sphere_init = False\n",
        "else:\n",
        "    opt.training.sphere_init = True\n",
        "\n",
        "if opt.training.distributed:\n",
        "    generator = nn.parallel.DistributedDataParallel(\n",
        "        generator,\n",
        "        device_ids=[opt.training.local_rank],\n",
        "        output_device=opt.training.local_rank,\n",
        "        broadcast_buffers=True,\n",
        "        find_unused_parameters=True,\n",
        "    )\n",
        "\n",
        "    discriminator = nn.parallel.DistributedDataParallel(\n",
        "        discriminator,\n",
        "        device_ids=[opt.training.local_rank],\n",
        "        output_device=opt.training.local_rank,\n",
        "        broadcast_buffers=False,\n",
        "        find_unused_parameters=True\n",
        "    )\n",
        "\n",
        "transform = transforms.Compose(\n",
        "    [transforms.ToTensor(),\n",
        "      transforms.Normalize((0.5, 0.5, 0.5), (0.5, 0.5, 0.5), inplace=True)])\n",
        "\n",
        "dataset = MultiResolutionDataset(opt.dataset.dataset_path, transform, opt.model.size,\n",
        "                                  opt.model.renderer_spatial_output_dim)\n",
        "loader = data.DataLoader(\n",
        "    dataset,\n",
        "    batch_size=opt.training.batch,\n",
        "    sampler=data_sampler(dataset, shuffle=True, distributed=opt.training.distributed),\n",
        "    drop_last=True,\n",
        ")\n",
        "opt.training.dataset_name = opt.dataset.dataset_path.lower()\n",
        "\n",
        "# save options\n",
        "opt_path = os.path.join(opt.training.checkpoints_dir, opt.experiment.expname, 'volume_renderer', f\"opt.yaml\")\n",
        "with open(opt_path,'w') as f:\n",
        "    yaml.safe_dump(opt, f)\n",
        "\n",
        "# set wandb environment\n",
        "if get_rank() == 0 and wandb is not None and opt.training.wandb:\n",
        "    wandb.init(project=\"StyleSDF\")\n",
        "    wandb.run.name = opt.experiment.expname\n",
        "    wandb.config.dataset = os.path.basename(opt.dataset.dataset_path)\n",
        "    wandb.config.update(opt.training)\n",
        "    wandb.config.update(opt.model)\n",
        "    wandb.config.update(opt.rendering)\n",
        "\n",
        "train(opt.training, opt.experiment, loader, generator, discriminator, g_optim, d_optim, g_ema, device)"
      ],
      "metadata": {
        "id": "hiEf3Ww0oVvj"
      },
      "execution_count": null,
      "outputs": []
    },
    {
      "cell_type": "markdown",
      "source": [
        "### Training of the StyleSDF on the Deep Fashion Data"
      ],
      "metadata": {
        "id": "tOXSyTiA90uZ"
      }
    },
    {
      "cell_type": "markdown",
      "source": [
        "Code snippet below is used for StyleSDF training on the Deep-Fashion Multi-Modal dataset."
      ],
      "metadata": {
        "id": "FyTDRC_b9ezh"
      }
    },
    {
      "cell_type": "code",
      "source": [
        "%cd StyleSDF ### If not already in StyleSDF"
      ],
      "metadata": {
        "colab": {
          "base_uri": "https://localhost:8080/"
        },
        "id": "odJCuJd4E0Xi",
        "outputId": "aa4764b0-d776-44de-c04b-aeea4829e1b9"
      },
      "execution_count": null,
      "outputs": [
        {
          "output_type": "stream",
          "name": "stdout",
          "text": [
            "/content/StyleSDF\n"
          ]
        }
      ]
    },
    {
      "cell_type": "markdown",
      "source": [
        "The dataset can be reached with a request via email."
      ],
      "metadata": {
        "id": "s7ePdqTjBQM5"
      }
    },
    {
      "cell_type": "code",
      "source": [
        "!python train_volume_renderer.py --batch 16 --chunk 8 --expname fashion --dataset_path /content/drive/MyDrive/style_sdf_data/data --size 512 --wandb"
      ],
      "metadata": {
        "id": "LQxX-tJDSnIm"
      },
      "execution_count": null,
      "outputs": []
    },
    {
      "cell_type": "code",
      "source": [
        "!python train_full_pipeline.py --batch 16 --chunk 8 --expname fashion --size 512 --wandb --dataset_path /content/drive/MyDrive/style_sdf_data/data"
      ],
      "metadata": {
        "id": "Vgd--RFS9tjY"
      },
      "execution_count": null,
      "outputs": []
    },
    {
      "cell_type": "markdown",
      "source": [
        "### Inference with trained StyleSDF\n",
        "\n",
        "Following inference code is taken from the authors implementation. We could not yet add StyleSDF into the AvatarGen pipeline. That's why, we also did not update the inference code accordingly."
      ],
      "metadata": {
        "id": "UnLyFkWlLv8n"
      }
    },
    {
      "cell_type": "code",
      "source": [
        "import gdown\n",
        "\n",
        "checkpoint_it = 70000\n",
        "\n",
        "if checkpoint_it == 10000:\n",
        "  gdown.download(\"https://drive.google.com/uc?id=1Pg90JZbR7i9B4c6ws69t9X-tfh8sBYd3\")\n",
        "elif checkpoint_it == 20000:\n",
        "  gdown.download(\"https://drive.google.com/uc?id=1-0bMHN1RRDZvOSm5IcaCymkd4ulHW8Ke\")\n",
        "elif checkpoint_it == 30000:\n",
        "  gdown.download(\"https://drive.google.com/uc?id=1-B3tdU1G7NK7SDlsCrZ0tcIFC3sjf79D\")\n",
        "elif checkpoint_it == 40000:\n",
        "  gdown.download(\"https://drive.google.com/uc?id=18UEJ4mZ23VHwZmsQez7NmQKKuumfGmAk\")\n",
        "elif checkpoint_it == 50000:\n",
        "  gdown.download(\"https://drive.google.com/uc?id=1-1rWLZnC11xZrfI1N9jidaAHO0rsdEsf\")\n",
        "elif checkpoint_it == 60000:\n",
        "  gdown.download(\"https://drive.google.com/uc?id=1-48ZACFEuSSJKkNSYJjBEdE1m7mt7qwy\")\n",
        "elif checkpoint_it == 70000:\n",
        "  gdown.download(\"https://drive.google.com/uc?id=1-6nLJR323Ul2hwuyP7_GQSuohpLZKcOm\")"
      ],
      "metadata": {
        "colab": {
          "base_uri": "https://localhost:8080/"
        },
        "id": "PNaIUMHlC_xy",
        "outputId": "96e782af-2b45-4680-b338-fba98660abf4"
      },
      "execution_count": null,
      "outputs": [
        {
          "output_type": "stream",
          "name": "stderr",
          "text": [
            "Downloading...\n",
            "From: https://drive.google.com/uc?id=1-6nLJR323Ul2hwuyP7_GQSuohpLZKcOm\n",
            "To: /content/StyleSDF/models_0070000.pt\n",
            "100%|██████████| 185M/185M [00:01<00:00, 118MB/s]\n"
          ]
        }
      ]
    },
    {
      "cell_type": "code",
      "source": [
        "import shutil\n",
        "import os\n",
        "\n",
        "shutil.copy(\"/content/StyleSDF/models_00\" + str(checkpoint_it) + \".pt\", \"/content/StyleSDF/full_models/\")\n",
        "os.rename(\"/content/StyleSDF/full_models/models_00\" + str(checkpoint_it) + \".pt\", \"/content/StyleSDF/full_models/fashion.pt\")"
      ],
      "metadata": {
        "id": "cfEayGnTDUes"
      },
      "execution_count": null,
      "outputs": []
    },
    {
      "cell_type": "code",
      "source": [
        "import os\n",
        "import torch\n",
        "import trimesh\n",
        "import numpy as np\n",
        "from munch import *\n",
        "from options import BaseOptions\n",
        "from model import Generator\n",
        "from generate_shapes_and_images import generate\n",
        "from render_video import render_video\n",
        "\n",
        "\n",
        "torch.random.manual_seed(321)\n",
        "\n",
        "\n",
        "device = \"cuda\"\n",
        "opt = BaseOptions().parse()\n",
        "opt.camera.uniform = True\n",
        "opt.model.is_test = True\n",
        "opt.model.freeze_renderer = False\n",
        "opt.rendering.offset_sampling = True\n",
        "opt.rendering.static_viewdirs = True\n",
        "opt.rendering.force_background = True\n",
        "opt.rendering.perturb = 0\n",
        "opt.inference.renderer_output_size = opt.model.renderer_spatial_output_dim\n",
        "opt.inference.style_dim = opt.model.style_dim\n",
        "opt.inference.project_noise = opt.model.project_noise"
      ],
      "metadata": {
        "id": "vikE956XEoth"
      },
      "execution_count": null,
      "outputs": []
    },
    {
      "cell_type": "code",
      "source": [
        "# User options\n",
        "opt.inference.no_surface_renderings = False # When true, only RGB images will be created\n",
        "opt.inference.fixed_camera_angles = False # When true, each identity will be rendered from a specific set of 13 viewpoints. Otherwise, random views are generated\n",
        "opt.inference.identities = 4 # Number of identities to generate\n",
        "opt.inference.num_views_per_id = 1 # Number of viewpoints generated per identity. This option is ignored if opt.inference.fixed_camera_angles is true.\n",
        "\n",
        "model_path = 'fashion.pt'\n",
        "opt.model.size = 512\n",
        "opt.experiment.expname = 'fashion'\n",
        "\n",
        "# Create results directory\n",
        "result_model_dir = 'final_model'\n",
        "results_dir_basename = os.path.join(opt.inference.results_dir, opt.experiment.expname)\n",
        "opt.inference.results_dst_dir = os.path.join(results_dir_basename, result_model_dir)\n",
        "if opt.inference.fixed_camera_angles:\n",
        "    opt.inference.results_dst_dir = os.path.join(opt.inference.results_dst_dir, 'fixed_angles')\n",
        "else:\n",
        "    opt.inference.results_dst_dir = os.path.join(opt.inference.results_dst_dir, 'random_angles')\n",
        "\n",
        "os.makedirs(opt.inference.results_dst_dir, exist_ok=True)\n",
        "os.makedirs(os.path.join(opt.inference.results_dst_dir, 'images'), exist_ok=True)\n",
        "if not opt.inference.no_surface_renderings:\n",
        "    os.makedirs(os.path.join(opt.inference.results_dst_dir, 'depth_map_meshes'), exist_ok=True)\n",
        "    os.makedirs(os.path.join(opt.inference.results_dst_dir, 'marching_cubes_meshes'), exist_ok=True)\n",
        "\n",
        "opt.inference.camera = opt.camera\n",
        "opt.inference.size = opt.model.size\n",
        "checkpoint_path = os.path.join('full_models', model_path)\n",
        "checkpoint = torch.load(checkpoint_path)\n",
        "\n",
        "# Load image generation model\n",
        "g_ema = Generator(opt.model, opt.rendering).to(device)\n",
        "pretrained_weights_dict = checkpoint[\"g_ema\"]\n",
        "model_dict = g_ema.state_dict()\n",
        "for k, v in pretrained_weights_dict.items():\n",
        "    if v.size() == model_dict[k].size():\n",
        "        model_dict[k] = v\n",
        "\n",
        "g_ema.load_state_dict(model_dict)\n",
        "\n",
        "# Load a second volume renderer that extracts surfaces at 128x128x128 (or higher) for better surface resolution\n",
        "if not opt.inference.no_surface_renderings:\n",
        "    opt['surf_extraction'] = Munch()\n",
        "    opt.surf_extraction.rendering = opt.rendering\n",
        "    opt.surf_extraction.model = opt.model.copy()\n",
        "    opt.surf_extraction.model.renderer_spatial_output_dim = 128\n",
        "    opt.surf_extraction.rendering.N_samples = opt.surf_extraction.model.renderer_spatial_output_dim\n",
        "    opt.surf_extraction.rendering.return_xyz = True\n",
        "    opt.surf_extraction.rendering.return_sdf = True\n",
        "    surface_g_ema = Generator(opt.surf_extraction.model, opt.surf_extraction.rendering, full_pipeline=False).to(device)\n",
        "\n",
        "\n",
        "    # Load weights to surface extractor\n",
        "    surface_extractor_dict = surface_g_ema.state_dict()\n",
        "    for k, v in pretrained_weights_dict.items():\n",
        "        if k in surface_extractor_dict.keys() and v.size() == surface_extractor_dict[k].size():\n",
        "            surface_extractor_dict[k] = v\n",
        "\n",
        "    surface_g_ema.load_state_dict(surface_extractor_dict)\n",
        "else:\n",
        "    surface_g_ema = None\n",
        "\n",
        "# Get the mean latent vector for g_ema\n",
        "if opt.inference.truncation_ratio < 1:\n",
        "    with torch.no_grad():\n",
        "        mean_latent = g_ema.mean_latent(opt.inference.truncation_mean, device)\n",
        "else:\n",
        "    surface_mean_latent = None\n",
        "\n",
        "# Get the mean latent vector for surface_g_ema\n",
        "if not opt.inference.no_surface_renderings:\n",
        "    surface_mean_latent = mean_latent[0]\n",
        "else:\n",
        "    surface_mean_latent = None"
      ],
      "metadata": {
        "id": "u6l9z8Y9EDwz"
      },
      "execution_count": null,
      "outputs": []
    },
    {
      "cell_type": "code",
      "source": [
        "generate(opt.inference, g_ema, surface_g_ema, device, mean_latent, surface_mean_latent)"
      ],
      "metadata": {
        "id": "QxtY0MP-FBye"
      },
      "execution_count": null,
      "outputs": []
    },
    {
      "cell_type": "code",
      "source": [
        "from PIL import Image\n",
        "from trimesh.viewer.notebook import scene_to_html as mesh2html\n",
        "from IPython.display import HTML as viewer_html\n",
        "\n",
        "# First let's look at the images\n",
        "img_dir = os.path.join(opt.inference.results_dst_dir,'images')\n",
        "im_list = sorted([entry for entry in os.listdir(img_dir) if 'thumb' not in entry])\n",
        "img = Image.new('RGB', (256 * len(im_list), 256))\n",
        "for i, im_file in enumerate(im_list):\n",
        "    im_path = os.path.join(img_dir, im_file)\n",
        "    curr_img = Image.open(im_path).resize((256,256)) # the displayed image is scaled to fit to the screen\n",
        "    img.paste(curr_img, (256 * i, 0))\n",
        "\n",
        "display(img)\n",
        "\n",
        "# And now, we'll move on to display the marching cubes and depth map meshes\n",
        "\n",
        "marching_cubes_meshes_dir = os.path.join(opt.inference.results_dst_dir,'marching_cubes_meshes')\n",
        "marching_cubes_meshes_list = sorted([os.path.join(marching_cubes_meshes_dir, entry) for entry in os.listdir(marching_cubes_meshes_dir) if 'obj' in entry])\n",
        "depth_map_meshes_dir = os.path.join(opt.inference.results_dst_dir,'depth_map_meshes')\n",
        "depth_map_meshes_list = sorted([os.path.join(depth_map_meshes_dir, entry) for entry in os.listdir(depth_map_meshes_dir) if 'obj' in entry])\n",
        "for i, mesh_files in enumerate(zip(marching_cubes_meshes_list, depth_map_meshes_list)):\n",
        "    mc_mesh_file, dm_mesh_file = mesh_files[0], mesh_files[1]\n",
        "    marching_cubes_mesh = trimesh.Scene(trimesh.load_mesh(mc_mesh_file, 'obj'))\n",
        "    curr_mc_html = mesh2html(marching_cubes_mesh).replace('\"', '&quot;')\n",
        "    display(viewer_html(' '.join(['<iframe srcdoc=\"{srcdoc}\"',\n",
        "                            'width=\"{width}px\" height=\"{height}px\"',\n",
        "                            'style=\"border:none;\"></iframe>']).format(\n",
        "                            srcdoc=curr_mc_html, height=256, width=256)))\n",
        "    depth_map_mesh = trimesh.Scene(trimesh.load_mesh(dm_mesh_file, 'obj'))\n",
        "    curr_dm_html = mesh2html(depth_map_mesh).replace('\"', '&quot;')\n",
        "    display(viewer_html(' '.join(['<iframe srcdoc=\"{srcdoc}\"',\n",
        "                            'width=\"{width}px\" height=\"{height}px\"',\n",
        "                            'style=\"border:none;\"></iframe>']).format(\n",
        "                            srcdoc=curr_dm_html, height=256, width=256)))"
      ],
      "metadata": {
        "id": "LSF82eZ6FFO5",
        "collapsed": true
      },
      "execution_count": null,
      "outputs": []
    },
    {
      "cell_type": "code",
      "source": [
        "# Options\n",
        "opt.inference.no_surface_renderings = True # When true, only RGB videos will be created\n",
        "opt.inference.azim_video = True # When true, the camera trajectory will travel along the azimuth direction. Otherwise, the camera will travel along an ellipsoid trajectory.\n",
        "\n",
        "opt.inference.results_dst_dir = os.path.join(os.path.split(opt.inference.results_dst_dir)[0], 'videos')\n",
        "os.makedirs(opt.inference.results_dst_dir, exist_ok=True)\n",
        "render_video(opt.inference, g_ema, surface_g_ema, device, mean_latent, surface_mean_latent)"
      ],
      "metadata": {
        "id": "vjuPNOFJFGAC",
        "collapsed": true
      },
      "execution_count": null,
      "outputs": []
    },
    {
      "cell_type": "code",
      "source": [
        "%%script bash --bg\n",
        "python3 -m https.server 8000"
      ],
      "metadata": {
        "id": "hRCZU3_nFLUh"
      },
      "execution_count": null,
      "outputs": []
    },
    {
      "cell_type": "code",
      "source": [
        "# change ffhq1024x1024 to afhq512x512 if you are working on the AFHQ model\n",
        "%%html\n",
        "<div>\n",
        "  <video width=256 controls><source src=\"https://localhost:8000/evaluations/fashion/final_model/videos/sample_video_0_azim.mp4\" type=\"video/mp4\"></video>\n",
        "  <video width=256 controls><source src=\"https://localhost:8000/evaluations/fashion/final_model/videos/sample_video_1_azim.mp4\" type=\"video/mp4\"></video>\n",
        "  <video width=256 controls><source src=\"https://localhost:8000/evaluations/fashion/final_model/videos/sample_video_2_azim.mp4\" type=\"video/mp4\"></video>\n",
        "  <video width=256 controls><source src=\"https://localhost:8000/evaluations/fashion/final_model/videos/sample_video_3_azim.mp4\" type=\"video/mp4\"></video>\n",
        "</div>"
      ],
      "metadata": {
        "id": "_vcdK8QOFOY9"
      },
      "execution_count": null,
      "outputs": []
    },
    {
      "cell_type": "code",
      "source": [
        "!python generate_shapes_and_images.py --expname fashion --size 512 --identities 3"
      ],
      "metadata": {
        "id": "LnrPw5K7S0xm"
      },
      "execution_count": null,
      "outputs": []
    }
  ]
}